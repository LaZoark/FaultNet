{
  "cells": [
    {
      "cell_type": "markdown",
      "metadata": {
        "id": "view-in-github",
        "colab_type": "text"
      },
      "source": [
        "<a href=\"https://colab.research.google.com/github/LaZoark/FaultNet/blob/main/cwru_fault_classification.ipynb\" target=\"_parent\"><img src=\"https://colab.research.google.com/assets/colab-badge.svg\" alt=\"Open In Colab\"/></a>"
      ]
    },
    {
      "cell_type": "code",
      "source": [
        "# !wget https://github.com/LaZoark/FaultNet/raw/main/CWRU.zip\n",
        "!unzip /content/CWRU.zip"
      ],
      "metadata": {
        "id": "8M-HtVyeyhLo",
        "outputId": "29ffd909-a179-42f9-d2d2-8a7e98026b54",
        "colab": {
          "base_uri": "https://localhost:8080/"
        }
      },
      "execution_count": 1,
      "outputs": [
        {
          "output_type": "stream",
          "name": "stdout",
          "text": [
            "Archive:  /content/CWRU.zip\n",
            "   creating: CWRU files/\n",
            "  inflating: CWRU files/featurized_data.npy  \n",
            "  inflating: CWRU files/featurized_data_labels.npy  \n",
            "  inflating: CWRU files/signal_data.npy  \n",
            "  inflating: CWRU files/signal_data_labels.npy  \n"
          ]
        }
      ]
    },
    {
      "cell_type": "code",
      "execution_count": 2,
      "metadata": {
        "id": "ZAU3GFZ0xvmk"
      },
      "outputs": [],
      "source": [
        "import numpy as np\n",
        "import pandas as pd"
      ]
    },
    {
      "cell_type": "code",
      "execution_count": 3,
      "metadata": {
        "id": "MjeojH9Jxvmo"
      },
      "outputs": [],
      "source": [
        "import torch\n",
        "import torch.nn as nn\n",
        "from torchvision.datasets import CIFAR10\n",
        "from torchvision.transforms import transforms\n",
        "from torch.utils.data import DataLoader\n",
        "from torch.optim import Adam\n",
        "from torch.autograd import Variable\n",
        "import torch.nn.functional as F"
      ]
    },
    {
      "cell_type": "code",
      "execution_count": 4,
      "metadata": {
        "id": "GENaKOO-xvmp"
      },
      "outputs": [],
      "source": [
        "# data = np.load('CWRU_dataset.npy')\n",
        "# labels = np.load('CWRU_lables.npy')\n",
        "data = np.load('/content/CWRU files/signal_data.npy')\n",
        "labels = np.load('/content/CWRU files/signal_data_labels.npy')"
      ]
    },
    {
      "cell_type": "code",
      "execution_count": 5,
      "metadata": {
        "id": "VWQbPXvlxvmp"
      },
      "outputs": [],
      "source": [
        "x=data[:, 0:1600]"
      ]
    },
    {
      "cell_type": "code",
      "execution_count": 6,
      "metadata": {
        "id": "Sg9bOVQjxvmq"
      },
      "outputs": [],
      "source": [
        "def mean(data, no_elements):\n",
        "    X=np.zeros((data.shape[0], data.shape[1]))\n",
        "    for i in range(data.shape[1]-no_elements+1):\n",
        "        X[:, i]=np.mean(data[:, i:i+no_elements], axis=1)\n",
        "    return X.astype(np.float16)\n",
        "def median(data, no_elements):\n",
        "    X=np.zeros((data.shape[0], data.shape[1]))\n",
        "    for i in range(data.shape[1]-no_elements+1):\n",
        "        X[:, i]=np.median(data[:, i:i+no_elements], axis=1)\n",
        "    return X.astype(np.float16)\n",
        "def sig_image(data, size):\n",
        "    X=np.zeros((data.shape[0], size, size))\n",
        "    for i in range(data.shape[0]):\n",
        "        X[i]=(data[i, :].reshape(size, size))\n",
        "    return X.astype(np.float16)"
      ]
    },
    {
      "cell_type": "code",
      "execution_count": 7,
      "metadata": {
        "id": "HsI6WYN2xvmq"
      },
      "outputs": [],
      "source": [
        "channel_mean=(mean(x, 10)).astype(np.float16)\n",
        "x_m=sig_image(channel_mean, 40)\n",
        "channel_median=(median(x, 10)).astype(np.float16)\n",
        "x_md=sig_image(x, 40)"
      ]
    },
    {
      "cell_type": "code",
      "execution_count": 8,
      "metadata": {
        "id": "BxXJrIe6xvmr"
      },
      "outputs": [],
      "source": [
        "x_n=sig_image(x, 40)"
      ]
    },
    {
      "cell_type": "code",
      "execution_count": 9,
      "metadata": {
        "id": "ONRWvjMlxvmr",
        "outputId": "3eae7129-204e-4626-a2e8-91fae4e9eee6",
        "colab": {
          "base_uri": "https://localhost:8080/"
        }
      },
      "outputs": [
        {
          "output_type": "execute_result",
          "data": {
            "text/plain": [
              "(2800, 40, 40)"
            ]
          },
          "metadata": {},
          "execution_count": 9
        }
      ],
      "source": [
        "x_n.shape"
      ]
    },
    {
      "cell_type": "code",
      "execution_count": 10,
      "metadata": {
        "id": "ybeqXUG6xvms",
        "outputId": "1437f05d-189c-410f-af79-0844a1dc8439",
        "colab": {
          "base_uri": "https://localhost:8080/"
        }
      },
      "outputs": [
        {
          "output_type": "execute_result",
          "data": {
            "text/plain": [
              "(2800, 40, 40)"
            ]
          },
          "metadata": {},
          "execution_count": 10
        }
      ],
      "source": [
        "x_m.shape"
      ]
    },
    {
      "cell_type": "code",
      "execution_count": 11,
      "metadata": {
        "id": "0ZKVvNzrxvmt"
      },
      "outputs": [],
      "source": [
        "X=np.stack((x_n, x_m, x_md), axis=1).astype(np.float16)"
      ]
    },
    {
      "cell_type": "code",
      "execution_count": 12,
      "metadata": {
        "id": "to1GQ5ndxvmt",
        "outputId": "87c326ae-322d-4db3-914d-011b65ac8db9",
        "colab": {
          "base_uri": "https://localhost:8080/"
        }
      },
      "outputs": [
        {
          "output_type": "execute_result",
          "data": {
            "text/plain": [
              "(2800, 3, 40, 40)"
            ]
          },
          "metadata": {},
          "execution_count": 12
        }
      ],
      "source": [
        "X.shape"
      ]
    },
    {
      "cell_type": "code",
      "execution_count": 13,
      "metadata": {
        "id": "JeVaeLp2xvmu"
      },
      "outputs": [],
      "source": [
        "from sklearn.model_selection import train_test_split\n",
        "trainx,  testx,  trainlabel,  testlabel = train_test_split(X,  labels,  test_size=0.2,  random_state=20)"
      ]
    },
    {
      "cell_type": "code",
      "execution_count": 14,
      "metadata": {
        "id": "4XzoLfi4xvmu"
      },
      "outputs": [],
      "source": [
        "sig_train, sig_test = trainx, testx\n",
        "lab_train, lab_test = trainlabel, testlabel"
      ]
    },
    {
      "cell_type": "code",
      "execution_count": 15,
      "metadata": {
        "id": "mTaX4FlGxvmu"
      },
      "outputs": [],
      "source": [
        "sig_train = torch.from_numpy(sig_train)\n",
        "sig_test = torch.from_numpy(sig_test)\n",
        "lab_train= torch.from_numpy(lab_train)\n",
        "lab_test = torch.from_numpy(lab_test)"
      ]
    },
    {
      "cell_type": "code",
      "execution_count": 16,
      "metadata": {
        "id": "A6-F4rt7xvmv"
      },
      "outputs": [],
      "source": [
        "import torch.utils.data as data_utils\n",
        "batch_size = 128 \n",
        "train_tensor = data_utils.TensorDataset(sig_train, lab_train) \n",
        "train_loader = data_utils.DataLoader(dataset=train_tensor, batch_size=batch_size, shuffle=True)"
      ]
    },
    {
      "cell_type": "code",
      "execution_count": 17,
      "metadata": {
        "id": "iaVYScLHxvmv"
      },
      "outputs": [],
      "source": [
        "batch_size = 1024\n",
        "test_tensor = data_utils.TensorDataset(sig_test, lab_test) \n",
        "test_loader = data_utils.DataLoader(dataset=test_tensor, batch_size=batch_size, shuffle=False)"
      ]
    },
    {
      "cell_type": "code",
      "execution_count": 18,
      "metadata": {
        "id": "Cz0q2g_8xvmv",
        "outputId": "d2c6d2e6-8cd2-49d3-b013-cd1a48258a46",
        "colab": {
          "base_uri": "https://localhost:8080/"
        }
      },
      "outputs": [
        {
          "output_type": "execute_result",
          "data": {
            "text/plain": [
              "torch.Size([2240, 3, 40, 40])"
            ]
          },
          "metadata": {},
          "execution_count": 18
        }
      ],
      "source": [
        "sig_train.size()"
      ]
    },
    {
      "cell_type": "code",
      "execution_count": 19,
      "metadata": {
        "id": "t8TJWrrYxvmv",
        "outputId": "1c904cc2-dd18-4955-8bf1-b0eaaa400c12",
        "colab": {
          "base_uri": "https://localhost:8080/"
        }
      },
      "outputs": [
        {
          "output_type": "execute_result",
          "data": {
            "text/plain": [
              "torch.Size([560, 3, 40, 40])"
            ]
          },
          "metadata": {},
          "execution_count": 19
        }
      ],
      "source": [
        "sig_test.size()"
      ]
    },
    {
      "cell_type": "code",
      "execution_count": 20,
      "metadata": {
        "id": "2INp-eAmxvmw"
      },
      "outputs": [],
      "source": [
        "class CNN(nn.Module):\n",
        "    def __init__(self):\n",
        "        super(CNN, self).__init__()\n",
        "        self.conv1 = nn.Conv2d(3, 32, kernel_size=4, stride=1, padding=1)\n",
        "        self.mp1 = nn.MaxPool2d(kernel_size=4, stride=2)\n",
        "        self.conv2 = nn.Conv2d(32, 64, kernel_size=4, stride=1)\n",
        "        self.mp2 = nn.MaxPool2d(kernel_size=4, stride=2)\n",
        "        self.fc1= nn.Linear(2304, 256)\n",
        "        self.dp1 = nn.Dropout(p=0.2)\n",
        "        self.fc2 = nn.Linear(256, 10)\n",
        "\n",
        "    def forward(self, x):\n",
        "        in_size = x.size(0)\n",
        "        x = F.relu(self.mp1(self.conv1(x)))\n",
        "        x = F.relu(self.mp2(self.conv2(x)))\n",
        "        x = x.view(in_size, -1)\n",
        "        x = F.relu(self.fc1(x))\n",
        "        x = self.dp1(x)\n",
        "        x = self.fc2(x)\n",
        "        \n",
        "        return F.log_softmax(x, dim=1)"
      ]
    },
    {
      "cell_type": "code",
      "execution_count": 21,
      "metadata": {
        "id": "MyCL8EHxxvmw"
      },
      "outputs": [],
      "source": [
        "cnn = CNN().double()"
      ]
    },
    {
      "cell_type": "code",
      "execution_count": 22,
      "metadata": {
        "id": "VtlltSQ9xvmw"
      },
      "outputs": [],
      "source": [
        "criterion = nn.CrossEntropyLoss()\n",
        "optimizer = torch.optim.Adam(cnn.parameters(), lr=0.001)"
      ]
    },
    {
      "cell_type": "code",
      "execution_count": 23,
      "metadata": {
        "id": "qsrSPJGqxvmw"
      },
      "outputs": [],
      "source": [
        "num_epochs = 100"
      ]
    },
    {
      "cell_type": "code",
      "execution_count": 24,
      "metadata": {
        "id": "E_V1c9Iuxvmx",
        "outputId": "e92d9c33-6aff-4363-d5c9-77617d4e276f",
        "colab": {
          "base_uri": "https://localhost:8080/"
        }
      },
      "outputs": [
        {
          "output_type": "stream",
          "name": "stdout",
          "text": [
            "Epoch [1/100],  Step [1/18],  Loss: 2.3034,  Train Accuracy: 7.03%\n",
            "Epoch [1/100],  Step [2/18],  Loss: 2.1506,  Train Accuracy: 9.38%\n",
            "Epoch [1/100],  Step [3/18],  Loss: 2.1171,  Train Accuracy: 14.06%\n",
            "Epoch [1/100],  Step [4/18],  Loss: 2.0692,  Train Accuracy: 11.72%\n",
            "Epoch [1/100],  Step [5/18],  Loss: 2.0657,  Train Accuracy: 18.75%\n",
            "Epoch [1/100],  Step [6/18],  Loss: 1.8881,  Train Accuracy: 21.09%\n",
            "Epoch [1/100],  Step [7/18],  Loss: 2.0054,  Train Accuracy: 8.59%\n",
            "Epoch [1/100],  Step [8/18],  Loss: 2.0169,  Train Accuracy: 11.72%\n",
            "Epoch [1/100],  Step [9/18],  Loss: 1.9566,  Train Accuracy: 17.19%\n",
            "Epoch [1/100],  Step [10/18],  Loss: 1.7607,  Train Accuracy: 27.34%\n",
            "Epoch [1/100],  Step [11/18],  Loss: 1.8369,  Train Accuracy: 21.09%\n",
            "Epoch [1/100],  Step [12/18],  Loss: 1.8315,  Train Accuracy: 20.31%\n",
            "Epoch [1/100],  Step [13/18],  Loss: 1.7869,  Train Accuracy: 32.81%\n",
            "Epoch [1/100],  Step [14/18],  Loss: 1.8298,  Train Accuracy: 36.72%\n",
            "Epoch [1/100],  Step [15/18],  Loss: 1.6931,  Train Accuracy: 41.41%\n",
            "Epoch [1/100],  Step [16/18],  Loss: 1.7270,  Train Accuracy: 36.72%\n",
            "Epoch [1/100],  Step [17/18],  Loss: 1.7800,  Train Accuracy: 35.16%\n",
            "Epoch [1/100],  Step [18/18],  Loss: 1.4529,  Train Accuracy: 54.69%\n",
            "Epoch [5/100],  Step [1/18],  Loss: 0.6155,  Train Accuracy: 72.66%\n",
            "Epoch [5/100],  Step [2/18],  Loss: 0.5440,  Train Accuracy: 76.56%\n",
            "Epoch [5/100],  Step [3/18],  Loss: 0.4385,  Train Accuracy: 81.25%\n",
            "Epoch [5/100],  Step [4/18],  Loss: 0.5017,  Train Accuracy: 82.03%\n",
            "Epoch [5/100],  Step [5/18],  Loss: 0.6687,  Train Accuracy: 71.88%\n",
            "Epoch [5/100],  Step [6/18],  Loss: 0.4720,  Train Accuracy: 86.72%\n",
            "Epoch [5/100],  Step [7/18],  Loss: 0.5089,  Train Accuracy: 79.69%\n",
            "Epoch [5/100],  Step [8/18],  Loss: 0.5643,  Train Accuracy: 75.00%\n",
            "Epoch [5/100],  Step [9/18],  Loss: 0.4105,  Train Accuracy: 85.16%\n",
            "Epoch [5/100],  Step [10/18],  Loss: 0.4956,  Train Accuracy: 75.00%\n",
            "Epoch [5/100],  Step [11/18],  Loss: 0.4731,  Train Accuracy: 83.59%\n",
            "Epoch [5/100],  Step [12/18],  Loss: 0.5684,  Train Accuracy: 79.69%\n",
            "Epoch [5/100],  Step [13/18],  Loss: 0.4066,  Train Accuracy: 83.59%\n",
            "Epoch [5/100],  Step [14/18],  Loss: 0.3452,  Train Accuracy: 85.16%\n",
            "Epoch [5/100],  Step [15/18],  Loss: 0.4291,  Train Accuracy: 80.47%\n",
            "Epoch [5/100],  Step [16/18],  Loss: 0.4588,  Train Accuracy: 78.91%\n",
            "Epoch [5/100],  Step [17/18],  Loss: 0.3800,  Train Accuracy: 82.03%\n",
            "Epoch [5/100],  Step [18/18],  Loss: 0.2584,  Train Accuracy: 92.19%\n",
            "Epoch [10/100],  Step [1/18],  Loss: 0.3814,  Train Accuracy: 82.03%\n",
            "Epoch [10/100],  Step [2/18],  Loss: 0.2430,  Train Accuracy: 87.50%\n",
            "Epoch [10/100],  Step [3/18],  Loss: 0.2339,  Train Accuracy: 88.28%\n",
            "Epoch [10/100],  Step [4/18],  Loss: 0.2425,  Train Accuracy: 89.06%\n",
            "Epoch [10/100],  Step [5/18],  Loss: 0.2680,  Train Accuracy: 88.28%\n",
            "Epoch [10/100],  Step [6/18],  Loss: 0.2709,  Train Accuracy: 88.28%\n",
            "Epoch [10/100],  Step [7/18],  Loss: 0.1898,  Train Accuracy: 91.41%\n",
            "Epoch [10/100],  Step [8/18],  Loss: 0.2182,  Train Accuracy: 89.84%\n",
            "Epoch [10/100],  Step [9/18],  Loss: 0.2528,  Train Accuracy: 87.50%\n",
            "Epoch [10/100],  Step [10/18],  Loss: 0.2820,  Train Accuracy: 88.28%\n",
            "Epoch [10/100],  Step [11/18],  Loss: 0.2195,  Train Accuracy: 92.19%\n",
            "Epoch [10/100],  Step [12/18],  Loss: 0.2039,  Train Accuracy: 90.62%\n",
            "Epoch [10/100],  Step [13/18],  Loss: 0.3004,  Train Accuracy: 88.28%\n",
            "Epoch [10/100],  Step [14/18],  Loss: 0.2666,  Train Accuracy: 88.28%\n",
            "Epoch [10/100],  Step [15/18],  Loss: 0.3108,  Train Accuracy: 83.59%\n",
            "Epoch [10/100],  Step [16/18],  Loss: 0.2759,  Train Accuracy: 86.72%\n",
            "Epoch [10/100],  Step [17/18],  Loss: 0.2526,  Train Accuracy: 85.16%\n",
            "Epoch [10/100],  Step [18/18],  Loss: 0.3074,  Train Accuracy: 85.94%\n",
            "Epoch [15/100],  Step [1/18],  Loss: 0.2417,  Train Accuracy: 92.19%\n",
            "Epoch [15/100],  Step [2/18],  Loss: 0.2106,  Train Accuracy: 89.06%\n",
            "Epoch [15/100],  Step [3/18],  Loss: 0.1734,  Train Accuracy: 92.97%\n",
            "Epoch [15/100],  Step [4/18],  Loss: 0.2813,  Train Accuracy: 88.28%\n",
            "Epoch [15/100],  Step [5/18],  Loss: 0.2026,  Train Accuracy: 93.75%\n",
            "Epoch [15/100],  Step [6/18],  Loss: 0.1735,  Train Accuracy: 88.28%\n",
            "Epoch [15/100],  Step [7/18],  Loss: 0.1549,  Train Accuracy: 90.62%\n",
            "Epoch [15/100],  Step [8/18],  Loss: 0.1849,  Train Accuracy: 91.41%\n",
            "Epoch [15/100],  Step [9/18],  Loss: 0.2373,  Train Accuracy: 88.28%\n",
            "Epoch [15/100],  Step [10/18],  Loss: 0.1727,  Train Accuracy: 92.19%\n",
            "Epoch [15/100],  Step [11/18],  Loss: 0.2658,  Train Accuracy: 90.62%\n",
            "Epoch [15/100],  Step [12/18],  Loss: 0.2892,  Train Accuracy: 85.94%\n",
            "Epoch [15/100],  Step [13/18],  Loss: 0.1817,  Train Accuracy: 92.19%\n",
            "Epoch [15/100],  Step [14/18],  Loss: 0.1623,  Train Accuracy: 92.19%\n",
            "Epoch [15/100],  Step [15/18],  Loss: 0.1333,  Train Accuracy: 93.75%\n",
            "Epoch [15/100],  Step [16/18],  Loss: 0.2794,  Train Accuracy: 89.06%\n",
            "Epoch [15/100],  Step [17/18],  Loss: 0.1979,  Train Accuracy: 90.62%\n",
            "Epoch [15/100],  Step [18/18],  Loss: 0.1432,  Train Accuracy: 92.19%\n",
            "Epoch [20/100],  Step [1/18],  Loss: 0.1319,  Train Accuracy: 93.75%\n",
            "Epoch [20/100],  Step [2/18],  Loss: 0.1267,  Train Accuracy: 92.97%\n",
            "Epoch [20/100],  Step [3/18],  Loss: 0.0687,  Train Accuracy: 98.44%\n",
            "Epoch [20/100],  Step [4/18],  Loss: 0.0833,  Train Accuracy: 96.09%\n",
            "Epoch [20/100],  Step [5/18],  Loss: 0.0696,  Train Accuracy: 99.22%\n",
            "Epoch [20/100],  Step [6/18],  Loss: 0.1753,  Train Accuracy: 93.75%\n",
            "Epoch [20/100],  Step [7/18],  Loss: 0.1443,  Train Accuracy: 95.31%\n",
            "Epoch [20/100],  Step [8/18],  Loss: 0.1522,  Train Accuracy: 92.19%\n",
            "Epoch [20/100],  Step [9/18],  Loss: 0.1517,  Train Accuracy: 92.97%\n",
            "Epoch [20/100],  Step [10/18],  Loss: 0.0996,  Train Accuracy: 95.31%\n",
            "Epoch [20/100],  Step [11/18],  Loss: 0.1102,  Train Accuracy: 94.53%\n",
            "Epoch [20/100],  Step [12/18],  Loss: 0.1082,  Train Accuracy: 95.31%\n",
            "Epoch [20/100],  Step [13/18],  Loss: 0.1198,  Train Accuracy: 96.88%\n",
            "Epoch [20/100],  Step [14/18],  Loss: 0.1083,  Train Accuracy: 96.09%\n",
            "Epoch [20/100],  Step [15/18],  Loss: 0.1019,  Train Accuracy: 96.88%\n",
            "Epoch [20/100],  Step [16/18],  Loss: 0.1416,  Train Accuracy: 92.97%\n",
            "Epoch [20/100],  Step [17/18],  Loss: 0.0886,  Train Accuracy: 96.88%\n",
            "Epoch [20/100],  Step [18/18],  Loss: 0.0795,  Train Accuracy: 95.31%\n",
            "Epoch [25/100],  Step [1/18],  Loss: 0.0941,  Train Accuracy: 96.09%\n",
            "Epoch [25/100],  Step [2/18],  Loss: 0.0902,  Train Accuracy: 97.66%\n",
            "Epoch [25/100],  Step [3/18],  Loss: 0.1190,  Train Accuracy: 93.75%\n",
            "Epoch [25/100],  Step [4/18],  Loss: 0.0756,  Train Accuracy: 97.66%\n",
            "Epoch [25/100],  Step [5/18],  Loss: 0.1165,  Train Accuracy: 96.88%\n",
            "Epoch [25/100],  Step [6/18],  Loss: 0.0893,  Train Accuracy: 96.88%\n",
            "Epoch [25/100],  Step [7/18],  Loss: 0.0637,  Train Accuracy: 96.09%\n",
            "Epoch [25/100],  Step [8/18],  Loss: 0.0448,  Train Accuracy: 100.00%\n",
            "Epoch [25/100],  Step [9/18],  Loss: 0.1165,  Train Accuracy: 96.09%\n",
            "Epoch [25/100],  Step [10/18],  Loss: 0.0841,  Train Accuracy: 99.22%\n",
            "Epoch [25/100],  Step [11/18],  Loss: 0.1024,  Train Accuracy: 94.53%\n",
            "Epoch [25/100],  Step [12/18],  Loss: 0.0988,  Train Accuracy: 95.31%\n",
            "Epoch [25/100],  Step [13/18],  Loss: 0.0729,  Train Accuracy: 97.66%\n",
            "Epoch [25/100],  Step [14/18],  Loss: 0.0535,  Train Accuracy: 97.66%\n",
            "Epoch [25/100],  Step [15/18],  Loss: 0.0747,  Train Accuracy: 98.44%\n",
            "Epoch [25/100],  Step [16/18],  Loss: 0.0686,  Train Accuracy: 97.66%\n",
            "Epoch [25/100],  Step [17/18],  Loss: 0.1106,  Train Accuracy: 95.31%\n",
            "Epoch [25/100],  Step [18/18],  Loss: 0.0726,  Train Accuracy: 96.88%\n",
            "Epoch [30/100],  Step [1/18],  Loss: 0.0612,  Train Accuracy: 98.44%\n",
            "Epoch [30/100],  Step [2/18],  Loss: 0.0852,  Train Accuracy: 96.09%\n",
            "Epoch [30/100],  Step [3/18],  Loss: 0.0910,  Train Accuracy: 96.88%\n",
            "Epoch [30/100],  Step [4/18],  Loss: 0.0381,  Train Accuracy: 97.66%\n",
            "Epoch [30/100],  Step [5/18],  Loss: 0.0711,  Train Accuracy: 96.88%\n",
            "Epoch [30/100],  Step [6/18],  Loss: 0.0257,  Train Accuracy: 100.00%\n",
            "Epoch [30/100],  Step [7/18],  Loss: 0.0365,  Train Accuracy: 98.44%\n",
            "Epoch [30/100],  Step [8/18],  Loss: 0.0442,  Train Accuracy: 99.22%\n",
            "Epoch [30/100],  Step [9/18],  Loss: 0.0674,  Train Accuracy: 96.88%\n",
            "Epoch [30/100],  Step [10/18],  Loss: 0.0815,  Train Accuracy: 97.66%\n",
            "Epoch [30/100],  Step [11/18],  Loss: 0.0677,  Train Accuracy: 95.31%\n",
            "Epoch [30/100],  Step [12/18],  Loss: 0.0439,  Train Accuracy: 99.22%\n",
            "Epoch [30/100],  Step [13/18],  Loss: 0.0583,  Train Accuracy: 98.44%\n",
            "Epoch [30/100],  Step [14/18],  Loss: 0.1224,  Train Accuracy: 94.53%\n",
            "Epoch [30/100],  Step [15/18],  Loss: 0.0446,  Train Accuracy: 98.44%\n",
            "Epoch [30/100],  Step [16/18],  Loss: 0.0722,  Train Accuracy: 97.66%\n",
            "Epoch [30/100],  Step [17/18],  Loss: 0.0672,  Train Accuracy: 97.66%\n",
            "Epoch [30/100],  Step [18/18],  Loss: 0.0819,  Train Accuracy: 95.31%\n",
            "Epoch [35/100],  Step [1/18],  Loss: 0.0289,  Train Accuracy: 99.22%\n",
            "Epoch [35/100],  Step [2/18],  Loss: 0.0799,  Train Accuracy: 96.88%\n",
            "Epoch [35/100],  Step [3/18],  Loss: 0.0472,  Train Accuracy: 97.66%\n",
            "Epoch [35/100],  Step [4/18],  Loss: 0.0592,  Train Accuracy: 98.44%\n",
            "Epoch [35/100],  Step [5/18],  Loss: 0.0833,  Train Accuracy: 98.44%\n",
            "Epoch [35/100],  Step [6/18],  Loss: 0.0260,  Train Accuracy: 100.00%\n",
            "Epoch [35/100],  Step [7/18],  Loss: 0.0371,  Train Accuracy: 98.44%\n",
            "Epoch [35/100],  Step [8/18],  Loss: 0.0463,  Train Accuracy: 98.44%\n",
            "Epoch [35/100],  Step [9/18],  Loss: 0.1248,  Train Accuracy: 96.09%\n",
            "Epoch [35/100],  Step [10/18],  Loss: 0.0535,  Train Accuracy: 98.44%\n",
            "Epoch [35/100],  Step [11/18],  Loss: 0.0385,  Train Accuracy: 99.22%\n",
            "Epoch [35/100],  Step [12/18],  Loss: 0.0498,  Train Accuracy: 97.66%\n",
            "Epoch [35/100],  Step [13/18],  Loss: 0.0425,  Train Accuracy: 98.44%\n",
            "Epoch [35/100],  Step [14/18],  Loss: 0.0422,  Train Accuracy: 98.44%\n",
            "Epoch [35/100],  Step [15/18],  Loss: 0.1090,  Train Accuracy: 93.75%\n",
            "Epoch [35/100],  Step [16/18],  Loss: 0.0419,  Train Accuracy: 98.44%\n",
            "Epoch [35/100],  Step [17/18],  Loss: 0.0798,  Train Accuracy: 97.66%\n",
            "Epoch [35/100],  Step [18/18],  Loss: 0.0544,  Train Accuracy: 100.00%\n",
            "Epoch [40/100],  Step [1/18],  Loss: 0.0675,  Train Accuracy: 98.44%\n",
            "Epoch [40/100],  Step [2/18],  Loss: 0.1618,  Train Accuracy: 93.75%\n",
            "Epoch [40/100],  Step [3/18],  Loss: 0.1148,  Train Accuracy: 96.09%\n",
            "Epoch [40/100],  Step [4/18],  Loss: 0.0267,  Train Accuracy: 100.00%\n",
            "Epoch [40/100],  Step [5/18],  Loss: 0.1104,  Train Accuracy: 93.75%\n",
            "Epoch [40/100],  Step [6/18],  Loss: 0.1712,  Train Accuracy: 92.19%\n",
            "Epoch [40/100],  Step [7/18],  Loss: 0.0554,  Train Accuracy: 98.44%\n",
            "Epoch [40/100],  Step [8/18],  Loss: 0.0437,  Train Accuracy: 98.44%\n",
            "Epoch [40/100],  Step [9/18],  Loss: 0.0959,  Train Accuracy: 96.09%\n",
            "Epoch [40/100],  Step [10/18],  Loss: 0.1627,  Train Accuracy: 94.53%\n",
            "Epoch [40/100],  Step [11/18],  Loss: 0.0476,  Train Accuracy: 98.44%\n",
            "Epoch [40/100],  Step [12/18],  Loss: 0.0833,  Train Accuracy: 96.09%\n",
            "Epoch [40/100],  Step [13/18],  Loss: 0.0690,  Train Accuracy: 97.66%\n",
            "Epoch [40/100],  Step [14/18],  Loss: 0.0701,  Train Accuracy: 98.44%\n",
            "Epoch [40/100],  Step [15/18],  Loss: 0.1234,  Train Accuracy: 94.53%\n",
            "Epoch [40/100],  Step [16/18],  Loss: 0.0302,  Train Accuracy: 99.22%\n",
            "Epoch [40/100],  Step [17/18],  Loss: 0.0499,  Train Accuracy: 96.88%\n",
            "Epoch [40/100],  Step [18/18],  Loss: 0.0652,  Train Accuracy: 96.88%\n",
            "Epoch [45/100],  Step [1/18],  Loss: 0.0243,  Train Accuracy: 100.00%\n",
            "Epoch [45/100],  Step [2/18],  Loss: 0.0373,  Train Accuracy: 98.44%\n",
            "Epoch [45/100],  Step [3/18],  Loss: 0.0120,  Train Accuracy: 100.00%\n",
            "Epoch [45/100],  Step [4/18],  Loss: 0.0132,  Train Accuracy: 100.00%\n",
            "Epoch [45/100],  Step [5/18],  Loss: 0.0171,  Train Accuracy: 99.22%\n",
            "Epoch [45/100],  Step [6/18],  Loss: 0.0209,  Train Accuracy: 99.22%\n",
            "Epoch [45/100],  Step [7/18],  Loss: 0.0118,  Train Accuracy: 100.00%\n",
            "Epoch [45/100],  Step [8/18],  Loss: 0.0277,  Train Accuracy: 98.44%\n",
            "Epoch [45/100],  Step [9/18],  Loss: 0.0149,  Train Accuracy: 100.00%\n",
            "Epoch [45/100],  Step [10/18],  Loss: 0.0367,  Train Accuracy: 97.66%\n",
            "Epoch [45/100],  Step [11/18],  Loss: 0.0098,  Train Accuracy: 100.00%\n",
            "Epoch [45/100],  Step [12/18],  Loss: 0.0547,  Train Accuracy: 97.66%\n",
            "Epoch [45/100],  Step [13/18],  Loss: 0.0130,  Train Accuracy: 99.22%\n",
            "Epoch [45/100],  Step [14/18],  Loss: 0.0393,  Train Accuracy: 98.44%\n",
            "Epoch [45/100],  Step [15/18],  Loss: 0.0228,  Train Accuracy: 99.22%\n",
            "Epoch [45/100],  Step [16/18],  Loss: 0.0859,  Train Accuracy: 96.88%\n",
            "Epoch [45/100],  Step [17/18],  Loss: 0.0384,  Train Accuracy: 99.22%\n",
            "Epoch [45/100],  Step [18/18],  Loss: 0.0273,  Train Accuracy: 100.00%\n",
            "Epoch [50/100],  Step [1/18],  Loss: 0.0167,  Train Accuracy: 98.44%\n",
            "Epoch [50/100],  Step [2/18],  Loss: 0.0124,  Train Accuracy: 99.22%\n",
            "Epoch [50/100],  Step [3/18],  Loss: 0.0115,  Train Accuracy: 100.00%\n",
            "Epoch [50/100],  Step [4/18],  Loss: 0.0307,  Train Accuracy: 98.44%\n",
            "Epoch [50/100],  Step [5/18],  Loss: 0.0060,  Train Accuracy: 100.00%\n",
            "Epoch [50/100],  Step [6/18],  Loss: 0.0056,  Train Accuracy: 100.00%\n",
            "Epoch [50/100],  Step [7/18],  Loss: 0.0079,  Train Accuracy: 100.00%\n",
            "Epoch [50/100],  Step [8/18],  Loss: 0.0062,  Train Accuracy: 100.00%\n",
            "Epoch [50/100],  Step [9/18],  Loss: 0.0072,  Train Accuracy: 100.00%\n",
            "Epoch [50/100],  Step [10/18],  Loss: 0.0073,  Train Accuracy: 100.00%\n",
            "Epoch [50/100],  Step [11/18],  Loss: 0.0231,  Train Accuracy: 98.44%\n",
            "Epoch [50/100],  Step [12/18],  Loss: 0.0280,  Train Accuracy: 98.44%\n",
            "Epoch [50/100],  Step [13/18],  Loss: 0.0169,  Train Accuracy: 99.22%\n",
            "Epoch [50/100],  Step [14/18],  Loss: 0.0144,  Train Accuracy: 100.00%\n",
            "Epoch [50/100],  Step [15/18],  Loss: 0.0422,  Train Accuracy: 97.66%\n",
            "Epoch [50/100],  Step [16/18],  Loss: 0.0276,  Train Accuracy: 98.44%\n",
            "Epoch [50/100],  Step [17/18],  Loss: 0.0047,  Train Accuracy: 100.00%\n",
            "Epoch [50/100],  Step [18/18],  Loss: 0.0360,  Train Accuracy: 98.44%\n",
            "Epoch [55/100],  Step [1/18],  Loss: 0.0081,  Train Accuracy: 100.00%\n",
            "Epoch [55/100],  Step [2/18],  Loss: 0.0511,  Train Accuracy: 96.88%\n",
            "Epoch [55/100],  Step [3/18],  Loss: 0.0114,  Train Accuracy: 100.00%\n",
            "Epoch [55/100],  Step [4/18],  Loss: 0.0044,  Train Accuracy: 100.00%\n",
            "Epoch [55/100],  Step [5/18],  Loss: 0.0137,  Train Accuracy: 99.22%\n",
            "Epoch [55/100],  Step [6/18],  Loss: 0.0209,  Train Accuracy: 100.00%\n",
            "Epoch [55/100],  Step [7/18],  Loss: 0.0832,  Train Accuracy: 97.66%\n",
            "Epoch [55/100],  Step [8/18],  Loss: 0.0044,  Train Accuracy: 100.00%\n",
            "Epoch [55/100],  Step [9/18],  Loss: 0.0528,  Train Accuracy: 97.66%\n",
            "Epoch [55/100],  Step [10/18],  Loss: 0.0121,  Train Accuracy: 100.00%\n",
            "Epoch [55/100],  Step [11/18],  Loss: 0.0615,  Train Accuracy: 96.88%\n",
            "Epoch [55/100],  Step [12/18],  Loss: 0.0095,  Train Accuracy: 100.00%\n",
            "Epoch [55/100],  Step [13/18],  Loss: 0.0345,  Train Accuracy: 98.44%\n",
            "Epoch [55/100],  Step [14/18],  Loss: 0.0758,  Train Accuracy: 96.88%\n",
            "Epoch [55/100],  Step [15/18],  Loss: 0.0071,  Train Accuracy: 100.00%\n",
            "Epoch [55/100],  Step [16/18],  Loss: 0.0182,  Train Accuracy: 100.00%\n",
            "Epoch [55/100],  Step [17/18],  Loss: 0.0022,  Train Accuracy: 100.00%\n",
            "Epoch [55/100],  Step [18/18],  Loss: 0.0191,  Train Accuracy: 98.44%\n",
            "Epoch [60/100],  Step [1/18],  Loss: 0.0143,  Train Accuracy: 99.22%\n",
            "Epoch [60/100],  Step [2/18],  Loss: 0.0809,  Train Accuracy: 96.88%\n",
            "Epoch [60/100],  Step [3/18],  Loss: 0.0902,  Train Accuracy: 96.88%\n",
            "Epoch [60/100],  Step [4/18],  Loss: 0.0066,  Train Accuracy: 100.00%\n",
            "Epoch [60/100],  Step [5/18],  Loss: 0.0435,  Train Accuracy: 98.44%\n",
            "Epoch [60/100],  Step [6/18],  Loss: 0.2657,  Train Accuracy: 94.53%\n",
            "Epoch [60/100],  Step [7/18],  Loss: 0.0219,  Train Accuracy: 99.22%\n",
            "Epoch [60/100],  Step [8/18],  Loss: 0.0274,  Train Accuracy: 99.22%\n",
            "Epoch [60/100],  Step [9/18],  Loss: 0.1058,  Train Accuracy: 95.31%\n",
            "Epoch [60/100],  Step [10/18],  Loss: 0.0619,  Train Accuracy: 99.22%\n",
            "Epoch [60/100],  Step [11/18],  Loss: 0.0084,  Train Accuracy: 100.00%\n",
            "Epoch [60/100],  Step [12/18],  Loss: 0.1236,  Train Accuracy: 97.66%\n",
            "Epoch [60/100],  Step [13/18],  Loss: 0.0896,  Train Accuracy: 98.44%\n",
            "Epoch [60/100],  Step [14/18],  Loss: 0.0183,  Train Accuracy: 99.22%\n",
            "Epoch [60/100],  Step [15/18],  Loss: 0.0582,  Train Accuracy: 98.44%\n",
            "Epoch [60/100],  Step [16/18],  Loss: 0.0382,  Train Accuracy: 99.22%\n",
            "Epoch [60/100],  Step [17/18],  Loss: 0.0464,  Train Accuracy: 99.22%\n",
            "Epoch [60/100],  Step [18/18],  Loss: 0.0676,  Train Accuracy: 98.44%\n",
            "Epoch [65/100],  Step [1/18],  Loss: 0.0022,  Train Accuracy: 100.00%\n",
            "Epoch [65/100],  Step [2/18],  Loss: 0.0028,  Train Accuracy: 100.00%\n",
            "Epoch [65/100],  Step [3/18],  Loss: 0.0147,  Train Accuracy: 99.22%\n",
            "Epoch [65/100],  Step [4/18],  Loss: 0.0012,  Train Accuracy: 100.00%\n",
            "Epoch [65/100],  Step [5/18],  Loss: 0.0271,  Train Accuracy: 99.22%\n",
            "Epoch [65/100],  Step [6/18],  Loss: 0.0078,  Train Accuracy: 100.00%\n",
            "Epoch [65/100],  Step [7/18],  Loss: 0.0187,  Train Accuracy: 99.22%\n",
            "Epoch [65/100],  Step [8/18],  Loss: 0.0254,  Train Accuracy: 99.22%\n",
            "Epoch [65/100],  Step [9/18],  Loss: 0.0091,  Train Accuracy: 99.22%\n",
            "Epoch [65/100],  Step [10/18],  Loss: 0.0020,  Train Accuracy: 100.00%\n",
            "Epoch [65/100],  Step [11/18],  Loss: 0.0246,  Train Accuracy: 98.44%\n",
            "Epoch [65/100],  Step [12/18],  Loss: 0.0029,  Train Accuracy: 100.00%\n",
            "Epoch [65/100],  Step [13/18],  Loss: 0.0118,  Train Accuracy: 99.22%\n",
            "Epoch [65/100],  Step [14/18],  Loss: 0.0142,  Train Accuracy: 100.00%\n",
            "Epoch [65/100],  Step [15/18],  Loss: 0.0094,  Train Accuracy: 100.00%\n",
            "Epoch [65/100],  Step [16/18],  Loss: 0.0149,  Train Accuracy: 99.22%\n",
            "Epoch [65/100],  Step [17/18],  Loss: 0.0143,  Train Accuracy: 99.22%\n",
            "Epoch [65/100],  Step [18/18],  Loss: 0.0024,  Train Accuracy: 100.00%\n",
            "Epoch [70/100],  Step [1/18],  Loss: 0.0017,  Train Accuracy: 100.00%\n",
            "Epoch [70/100],  Step [2/18],  Loss: 0.0067,  Train Accuracy: 100.00%\n",
            "Epoch [70/100],  Step [3/18],  Loss: 0.0036,  Train Accuracy: 100.00%\n",
            "Epoch [70/100],  Step [4/18],  Loss: 0.0021,  Train Accuracy: 100.00%\n",
            "Epoch [70/100],  Step [5/18],  Loss: 0.0022,  Train Accuracy: 100.00%\n",
            "Epoch [70/100],  Step [6/18],  Loss: 0.0018,  Train Accuracy: 100.00%\n",
            "Epoch [70/100],  Step [7/18],  Loss: 0.0011,  Train Accuracy: 100.00%\n",
            "Epoch [70/100],  Step [8/18],  Loss: 0.0032,  Train Accuracy: 100.00%\n",
            "Epoch [70/100],  Step [9/18],  Loss: 0.0037,  Train Accuracy: 100.00%\n",
            "Epoch [70/100],  Step [10/18],  Loss: 0.0058,  Train Accuracy: 100.00%\n",
            "Epoch [70/100],  Step [11/18],  Loss: 0.0030,  Train Accuracy: 100.00%\n",
            "Epoch [70/100],  Step [12/18],  Loss: 0.0030,  Train Accuracy: 100.00%\n",
            "Epoch [70/100],  Step [13/18],  Loss: 0.0025,  Train Accuracy: 100.00%\n",
            "Epoch [70/100],  Step [14/18],  Loss: 0.0033,  Train Accuracy: 100.00%\n",
            "Epoch [70/100],  Step [15/18],  Loss: 0.0025,  Train Accuracy: 100.00%\n",
            "Epoch [70/100],  Step [16/18],  Loss: 0.0008,  Train Accuracy: 100.00%\n",
            "Epoch [70/100],  Step [17/18],  Loss: 0.0011,  Train Accuracy: 100.00%\n",
            "Epoch [70/100],  Step [18/18],  Loss: 0.0042,  Train Accuracy: 100.00%\n",
            "Epoch [75/100],  Step [1/18],  Loss: 0.0018,  Train Accuracy: 100.00%\n",
            "Epoch [75/100],  Step [2/18],  Loss: 0.0018,  Train Accuracy: 100.00%\n",
            "Epoch [75/100],  Step [3/18],  Loss: 0.0044,  Train Accuracy: 100.00%\n",
            "Epoch [75/100],  Step [4/18],  Loss: 0.0036,  Train Accuracy: 100.00%\n",
            "Epoch [75/100],  Step [5/18],  Loss: 0.0135,  Train Accuracy: 99.22%\n",
            "Epoch [75/100],  Step [6/18],  Loss: 0.0016,  Train Accuracy: 100.00%\n",
            "Epoch [75/100],  Step [7/18],  Loss: 0.0025,  Train Accuracy: 100.00%\n",
            "Epoch [75/100],  Step [8/18],  Loss: 0.0008,  Train Accuracy: 100.00%\n",
            "Epoch [75/100],  Step [9/18],  Loss: 0.0187,  Train Accuracy: 99.22%\n",
            "Epoch [75/100],  Step [10/18],  Loss: 0.0027,  Train Accuracy: 100.00%\n",
            "Epoch [75/100],  Step [11/18],  Loss: 0.0028,  Train Accuracy: 100.00%\n",
            "Epoch [75/100],  Step [12/18],  Loss: 0.0057,  Train Accuracy: 100.00%\n",
            "Epoch [75/100],  Step [13/18],  Loss: 0.0018,  Train Accuracy: 100.00%\n",
            "Epoch [75/100],  Step [14/18],  Loss: 0.0039,  Train Accuracy: 100.00%\n",
            "Epoch [75/100],  Step [15/18],  Loss: 0.0056,  Train Accuracy: 100.00%\n",
            "Epoch [75/100],  Step [16/18],  Loss: 0.0058,  Train Accuracy: 100.00%\n",
            "Epoch [75/100],  Step [17/18],  Loss: 0.0045,  Train Accuracy: 100.00%\n",
            "Epoch [75/100],  Step [18/18],  Loss: 0.0023,  Train Accuracy: 100.00%\n",
            "Epoch [80/100],  Step [1/18],  Loss: 0.0021,  Train Accuracy: 100.00%\n",
            "Epoch [80/100],  Step [2/18],  Loss: 0.0014,  Train Accuracy: 100.00%\n",
            "Epoch [80/100],  Step [3/18],  Loss: 0.0020,  Train Accuracy: 100.00%\n",
            "Epoch [80/100],  Step [4/18],  Loss: 0.0007,  Train Accuracy: 100.00%\n",
            "Epoch [80/100],  Step [5/18],  Loss: 0.0011,  Train Accuracy: 100.00%\n",
            "Epoch [80/100],  Step [6/18],  Loss: 0.0016,  Train Accuracy: 100.00%\n",
            "Epoch [80/100],  Step [7/18],  Loss: 0.0022,  Train Accuracy: 100.00%\n",
            "Epoch [80/100],  Step [8/18],  Loss: 0.0011,  Train Accuracy: 100.00%\n",
            "Epoch [80/100],  Step [9/18],  Loss: 0.0011,  Train Accuracy: 100.00%\n",
            "Epoch [80/100],  Step [10/18],  Loss: 0.0018,  Train Accuracy: 100.00%\n",
            "Epoch [80/100],  Step [11/18],  Loss: 0.0005,  Train Accuracy: 100.00%\n",
            "Epoch [80/100],  Step [12/18],  Loss: 0.0041,  Train Accuracy: 100.00%\n",
            "Epoch [80/100],  Step [13/18],  Loss: 0.0034,  Train Accuracy: 100.00%\n",
            "Epoch [80/100],  Step [14/18],  Loss: 0.0024,  Train Accuracy: 100.00%\n",
            "Epoch [80/100],  Step [15/18],  Loss: 0.0009,  Train Accuracy: 100.00%\n",
            "Epoch [80/100],  Step [16/18],  Loss: 0.0048,  Train Accuracy: 100.00%\n",
            "Epoch [80/100],  Step [17/18],  Loss: 0.0058,  Train Accuracy: 100.00%\n",
            "Epoch [80/100],  Step [18/18],  Loss: 0.0010,  Train Accuracy: 100.00%\n",
            "Epoch [85/100],  Step [1/18],  Loss: 0.0014,  Train Accuracy: 100.00%\n",
            "Epoch [85/100],  Step [2/18],  Loss: 0.0008,  Train Accuracy: 100.00%\n",
            "Epoch [85/100],  Step [3/18],  Loss: 0.0008,  Train Accuracy: 100.00%\n",
            "Epoch [85/100],  Step [4/18],  Loss: 0.0044,  Train Accuracy: 100.00%\n",
            "Epoch [85/100],  Step [5/18],  Loss: 0.0003,  Train Accuracy: 100.00%\n",
            "Epoch [85/100],  Step [6/18],  Loss: 0.0011,  Train Accuracy: 100.00%\n",
            "Epoch [85/100],  Step [7/18],  Loss: 0.0032,  Train Accuracy: 100.00%\n",
            "Epoch [85/100],  Step [8/18],  Loss: 0.0038,  Train Accuracy: 100.00%\n",
            "Epoch [85/100],  Step [9/18],  Loss: 0.0009,  Train Accuracy: 100.00%\n",
            "Epoch [85/100],  Step [10/18],  Loss: 0.0013,  Train Accuracy: 100.00%\n",
            "Epoch [85/100],  Step [11/18],  Loss: 0.0013,  Train Accuracy: 100.00%\n",
            "Epoch [85/100],  Step [12/18],  Loss: 0.0042,  Train Accuracy: 100.00%\n",
            "Epoch [85/100],  Step [13/18],  Loss: 0.0010,  Train Accuracy: 100.00%\n",
            "Epoch [85/100],  Step [14/18],  Loss: 0.0057,  Train Accuracy: 100.00%\n",
            "Epoch [85/100],  Step [15/18],  Loss: 0.0016,  Train Accuracy: 100.00%\n",
            "Epoch [85/100],  Step [16/18],  Loss: 0.0003,  Train Accuracy: 100.00%\n",
            "Epoch [85/100],  Step [17/18],  Loss: 0.0025,  Train Accuracy: 100.00%\n",
            "Epoch [85/100],  Step [18/18],  Loss: 0.0014,  Train Accuracy: 100.00%\n",
            "Epoch [90/100],  Step [1/18],  Loss: 0.0007,  Train Accuracy: 100.00%\n",
            "Epoch [90/100],  Step [2/18],  Loss: 0.0007,  Train Accuracy: 100.00%\n",
            "Epoch [90/100],  Step [3/18],  Loss: 0.0004,  Train Accuracy: 100.00%\n",
            "Epoch [90/100],  Step [4/18],  Loss: 0.0002,  Train Accuracy: 100.00%\n",
            "Epoch [90/100],  Step [5/18],  Loss: 0.0012,  Train Accuracy: 100.00%\n",
            "Epoch [90/100],  Step [6/18],  Loss: 0.0010,  Train Accuracy: 100.00%\n",
            "Epoch [90/100],  Step [7/18],  Loss: 0.0005,  Train Accuracy: 100.00%\n",
            "Epoch [90/100],  Step [8/18],  Loss: 0.0156,  Train Accuracy: 99.22%\n",
            "Epoch [90/100],  Step [9/18],  Loss: 0.0006,  Train Accuracy: 100.00%\n",
            "Epoch [90/100],  Step [10/18],  Loss: 0.0007,  Train Accuracy: 100.00%\n",
            "Epoch [90/100],  Step [11/18],  Loss: 0.0028,  Train Accuracy: 100.00%\n",
            "Epoch [90/100],  Step [12/18],  Loss: 0.0017,  Train Accuracy: 100.00%\n",
            "Epoch [90/100],  Step [13/18],  Loss: 0.0008,  Train Accuracy: 100.00%\n",
            "Epoch [90/100],  Step [14/18],  Loss: 0.0009,  Train Accuracy: 100.00%\n",
            "Epoch [90/100],  Step [15/18],  Loss: 0.0022,  Train Accuracy: 100.00%\n",
            "Epoch [90/100],  Step [16/18],  Loss: 0.0006,  Train Accuracy: 100.00%\n",
            "Epoch [90/100],  Step [17/18],  Loss: 0.0007,  Train Accuracy: 100.00%\n",
            "Epoch [90/100],  Step [18/18],  Loss: 0.0009,  Train Accuracy: 100.00%\n",
            "Epoch [95/100],  Step [1/18],  Loss: 0.0015,  Train Accuracy: 100.00%\n",
            "Epoch [95/100],  Step [2/18],  Loss: 0.0008,  Train Accuracy: 100.00%\n",
            "Epoch [95/100],  Step [3/18],  Loss: 0.0003,  Train Accuracy: 100.00%\n",
            "Epoch [95/100],  Step [4/18],  Loss: 0.0035,  Train Accuracy: 100.00%\n",
            "Epoch [95/100],  Step [5/18],  Loss: 0.0003,  Train Accuracy: 100.00%\n",
            "Epoch [95/100],  Step [6/18],  Loss: 0.0004,  Train Accuracy: 100.00%\n",
            "Epoch [95/100],  Step [7/18],  Loss: 0.0012,  Train Accuracy: 100.00%\n",
            "Epoch [95/100],  Step [8/18],  Loss: 0.0006,  Train Accuracy: 100.00%\n",
            "Epoch [95/100],  Step [9/18],  Loss: 0.0009,  Train Accuracy: 100.00%\n",
            "Epoch [95/100],  Step [10/18],  Loss: 0.0003,  Train Accuracy: 100.00%\n",
            "Epoch [95/100],  Step [11/18],  Loss: 0.0005,  Train Accuracy: 100.00%\n",
            "Epoch [95/100],  Step [12/18],  Loss: 0.0007,  Train Accuracy: 100.00%\n",
            "Epoch [95/100],  Step [13/18],  Loss: 0.0011,  Train Accuracy: 100.00%\n",
            "Epoch [95/100],  Step [14/18],  Loss: 0.0003,  Train Accuracy: 100.00%\n",
            "Epoch [95/100],  Step [15/18],  Loss: 0.0006,  Train Accuracy: 100.00%\n",
            "Epoch [95/100],  Step [16/18],  Loss: 0.0033,  Train Accuracy: 100.00%\n",
            "Epoch [95/100],  Step [17/18],  Loss: 0.0003,  Train Accuracy: 100.00%\n",
            "Epoch [95/100],  Step [18/18],  Loss: 0.0024,  Train Accuracy: 100.00%\n",
            "Epoch [100/100],  Step [1/18],  Loss: 0.0010,  Train Accuracy: 100.00%\n",
            "Epoch [100/100],  Step [2/18],  Loss: 0.0003,  Train Accuracy: 100.00%\n",
            "Epoch [100/100],  Step [3/18],  Loss: 0.0004,  Train Accuracy: 100.00%\n",
            "Epoch [100/100],  Step [4/18],  Loss: 0.0006,  Train Accuracy: 100.00%\n",
            "Epoch [100/100],  Step [5/18],  Loss: 0.0002,  Train Accuracy: 100.00%\n",
            "Epoch [100/100],  Step [6/18],  Loss: 0.0008,  Train Accuracy: 100.00%\n",
            "Epoch [100/100],  Step [7/18],  Loss: 0.0005,  Train Accuracy: 100.00%\n",
            "Epoch [100/100],  Step [8/18],  Loss: 0.0002,  Train Accuracy: 100.00%\n",
            "Epoch [100/100],  Step [9/18],  Loss: 0.0002,  Train Accuracy: 100.00%\n",
            "Epoch [100/100],  Step [10/18],  Loss: 0.0004,  Train Accuracy: 100.00%\n",
            "Epoch [100/100],  Step [11/18],  Loss: 0.0009,  Train Accuracy: 100.00%\n",
            "Epoch [100/100],  Step [12/18],  Loss: 0.0007,  Train Accuracy: 100.00%\n",
            "Epoch [100/100],  Step [13/18],  Loss: 0.0049,  Train Accuracy: 100.00%\n",
            "Epoch [100/100],  Step [14/18],  Loss: 0.0003,  Train Accuracy: 100.00%\n",
            "Epoch [100/100],  Step [15/18],  Loss: 0.0010,  Train Accuracy: 100.00%\n",
            "Epoch [100/100],  Step [16/18],  Loss: 0.0003,  Train Accuracy: 100.00%\n",
            "Epoch [100/100],  Step [17/18],  Loss: 0.0010,  Train Accuracy: 100.00%\n",
            "Epoch [100/100],  Step [18/18],  Loss: 0.0005,  Train Accuracy: 100.00%\n"
          ]
        }
      ],
      "source": [
        "total_step = len(train_loader)\n",
        "loss_list = []\n",
        "acc_list = []\n",
        "for epoch in range(num_epochs):\n",
        "    for i, (signals, labels) in enumerate(train_loader):\n",
        "        optimizer.zero_grad()\n",
        "        # Run the forward pass\n",
        "        signals=signals\n",
        "        labels=labels\n",
        "        outputs = cnn(signals.double())\n",
        "        loss = criterion(outputs,  labels.long())\n",
        "        \n",
        "        loss_list.append(loss.item())\n",
        "\n",
        "        # Backprop and perform Adam optimisation\n",
        "        \n",
        "        loss.backward()\n",
        "        optimizer.step()\n",
        "        # Track the accuracy\n",
        "        total = labels.size(0)\n",
        "        _,  predicted = torch.max(outputs.data,  1)\n",
        "        correct = (predicted == labels.long()).sum().item()\n",
        "        acc_list.append(correct / total)\n",
        "\n",
        "        if (epoch+1) % 5 == 0 or epoch==0:\n",
        "            print('Epoch [{}/{}],  Step [{}/{}],  Loss: {:.4f},  Train Accuracy: {:.2f}%'\n",
        "                  .format(epoch + 1,  num_epochs,  i + 1,  total_step,  loss.item(), \n",
        "                          (correct / total) * 100))\n",
        "        "
      ]
    },
    {
      "cell_type": "code",
      "execution_count": 25,
      "metadata": {
        "id": "czG73B27xvmx",
        "outputId": "cb7629b5-33bf-48a1-d8fc-e3fc20b6beb8",
        "colab": {
          "base_uri": "https://localhost:8080/"
        }
      },
      "outputs": [
        {
          "output_type": "stream",
          "name": "stdout",
          "text": [
            "1\n",
            "Epoch [100/100],  Step [1/1],  Loss: 0.0667,  Accuracy: 98.04%\n"
          ]
        }
      ],
      "source": [
        "total_step = len(test_loader)\n",
        "print(total_step)\n",
        "loss_list_test = []\n",
        "acc_list_test = []\n",
        "with torch.no_grad():\n",
        "    for i,  (signals,  labels) in enumerate(test_loader):\n",
        "        # Run the forward pass\n",
        "        signals=signals\n",
        "        labels=labels\n",
        "        outputs = cnn(signals.double())\n",
        "        loss = criterion(outputs,  labels.long())\n",
        "        loss_list_test.append(loss.item())\n",
        "        if epoch%10 ==0:\n",
        "            print(loss)\n",
        "        total = labels.size(0)\n",
        "        _,  predicted = torch.max(outputs.data,  1)\n",
        "        correct = (predicted == labels.long()).sum().item()\n",
        "        acc_list_test.append(correct / total)\n",
        "        if (epoch) % 1 == 0:\n",
        "            print('Epoch [{}/{}],  Step [{}/{}],  Loss: {:.4f},  Accuracy: {:.2f}%'\n",
        "                  .format(epoch + 1,  num_epochs,  i + 1,  total_step,  loss.item(), \n",
        "                          (correct / total) * 100))"
      ]
    },
    {
      "cell_type": "code",
      "execution_count": 26,
      "metadata": {
        "id": "4J9YSP3xxvmx"
      },
      "outputs": [],
      "source": [
        "# if you need to save\n",
        "torch.save(cnn, 'cwru_9804.pth')"
      ]
    },
    {
      "cell_type": "code",
      "execution_count": null,
      "metadata": {
        "id": "cmHLo9SOxvmy"
      },
      "outputs": [],
      "source": [
        ""
      ]
    }
  ],
  "metadata": {
    "kernelspec": {
      "display_name": "Python 3",
      "language": "python",
      "name": "python3"
    },
    "language_info": {
      "codemirror_mode": {
        "name": "ipython",
        "version": 3
      },
      "file_extension": ".py",
      "mimetype": "text/x-python",
      "name": "python",
      "nbconvert_exporter": "python",
      "pygments_lexer": "ipython3",
      "version": "3.7.4"
    },
    "colab": {
      "name": "FaultNet.ipynb",
      "provenance": [],
      "include_colab_link": true
    },
    "accelerator": "GPU",
    "gpuClass": "standard"
  },
  "nbformat": 4,
  "nbformat_minor": 0
}