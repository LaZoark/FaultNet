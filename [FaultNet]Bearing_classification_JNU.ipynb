{
  "cells": [
    {
      "cell_type": "markdown",
      "metadata": {
        "id": "view-in-github",
        "colab_type": "text"
      },
      "source": [
        "<a href=\"https://colab.research.google.com/github/LaZoark/FaultNet/blob/main/%5BFaultNet%5DBearing_classification_JNU.ipynb\" target=\"_parent\"><img src=\"https://colab.research.google.com/assets/colab-badge.svg\" alt=\"Open In Colab\"/></a>"
      ]
    },
    {
      "cell_type": "code",
      "source": [
        "# !wget https://github.com/LaZoark/FaultNet/raw/main/CWRU.zip\n",
        "# !unzip /content/CWRU.zip\n",
        "!wget https://github.com/LaZoark/FaultNet/raw/main/Preprocessing/JNU_Preprocessing.rar\n",
        "!unrar e /content/JNU_Preprocessing.rar"
      ],
      "metadata": {
        "id": "8M-HtVyeyhLo",
        "outputId": "2479bf29-363d-4c07-fb59-b33640d52dd4",
        "colab": {
          "base_uri": "https://localhost:8080/"
        }
      },
      "execution_count": 5,
      "outputs": [
        {
          "output_type": "stream",
          "name": "stdout",
          "text": [
            "\n",
            "UNRAR 5.50 freeware      Copyright (c) 1993-2017 Alexander Roshal\n",
            "\n",
            "\n",
            "Extracting from /content/JNU_Preprocessing.rar\n",
            "\n",
            "Extracting  JNU_feature.npy                                              \b\b\b\b  0%\b\b\b\b\b  OK \n",
            "Extracting  JNU_labels.npy                                               \b\b\b\b  0%\b\b\b\b\b  OK \n",
            "Extracting  JNU_dataset.npy                                              \b\b\b\b  1%\b\b\b\b  2%\b\b\b\b  3%\b\b\b\b  4%\b\b\b\b  5%\b\b\b\b  6%\b\b\b\b  7%\b\b\b\b  8%\b\b\b\b  9%\b\b\b\b 10%\b\b\b\b 11%\b\b\b\b 12%\b\b\b\b 13%\b\b\b\b 14%\b\b\b\b 15%\b\b\b\b 16%\b\b\b\b 17%\b\b\b\b 18%\b\b\b\b 19%\b\b\b\b 20%\b\b\b\b 21%\b\b\b\b 22%\b\b\b\b 23%\b\b\b\b 24%\b\b\b\b 25%\b\b\b\b 26%\b\b\b\b 27%\b\b\b\b 28%\b\b\b\b 29%\b\b\b\b 30%\b\b\b\b 31%\b\b\b\b 32%\b\b\b\b 33%\b\b\b\b 34%\b\b\b\b 35%\b\b\b\b 36%\b\b\b\b 37%\b\b\b\b 38%\b\b\b\b 39%\b\b\b\b 40%\b\b\b\b 41%\b\b\b\b 42%\b\b\b\b 43%\b\b\b\b 44%\b\b\b\b 45%\b\b\b\b 46%\b\b\b\b 47%\b\b\b\b 48%\b\b\b\b 49%\b\b\b\b 50%\b\b\b\b 51%\b\b\b\b 52%\b\b\b\b 53%\b\b\b\b 54%\b\b\b\b 55%\b\b\b\b 56%\b\b\b\b 57%\b\b\b\b 58%\b\b\b\b 59%\b\b\b\b 60%\b\b\b\b 61%\b\b\b\b 62%\b\b\b\b 63%\b\b\b\b 64%\b\b\b\b 65%\b\b\b\b 66%\b\b\b\b 67%\b\b\b\b 68%\b\b\b\b 69%\b\b\b\b 70%\b\b\b\b 71%\b\b\b\b 72%\b\b\b\b 73%\b\b\b\b 74%\b\b\b\b 75%\b\b\b\b 76%\b\b\b\b 77%\b\b\b\b 78%\b\b\b\b 79%\b\b\b\b 80%\b\b\b\b 81%\b\b\b\b 82%\b\b\b\b 83%\b\b\b\b 84%\b\b\b\b 85%\b\b\b\b 86%\b\b\b\b 87%\b\b\b\b 88%\b\b\b\b 89%\b\b\b\b 90%\b\b\b\b 91%\b\b\b\b 92%\b\b\b\b 93%\b\b\b\b 94%\b\b\b\b 95%\b\b\b\b 96%\b\b\b\b 97%\b\b\b\b 98%\b\b\b\b 99%\b\b\b\b\b  OK \n",
            "All OK\n"
          ]
        }
      ]
    },
    {
      "cell_type": "code",
      "execution_count": 6,
      "metadata": {
        "id": "ZAU3GFZ0xvmk"
      },
      "outputs": [],
      "source": [
        "import numpy as np\n",
        "import pandas as pd"
      ]
    },
    {
      "cell_type": "code",
      "execution_count": 7,
      "metadata": {
        "id": "MjeojH9Jxvmo"
      },
      "outputs": [],
      "source": [
        "import torch\n",
        "import torch.nn as nn\n",
        "from torchvision.transforms import transforms\n",
        "from torch.utils.data import DataLoader\n",
        "from torch.optim import Adam\n",
        "from torch.autograd import Variable\n",
        "import torch.nn.functional as F\n",
        "import matplotlib.pyplot as plt"
      ]
    },
    {
      "cell_type": "code",
      "execution_count": 218,
      "metadata": {
        "id": "GENaKOO-xvmp"
      },
      "outputs": [],
      "source": [
        "# data = np.load('CWRU_dataset.npy')\n",
        "# labels = np.load('CWRU_lables.npy')\n",
        "# data = np.load('/content/CWRU files/signal_data.npy')\n",
        "# labels = np.load('/content/CWRU files/signal_data_labels.npy')\n",
        "data = np.load('/content/JNU_dataset.npy')\n",
        "labels = np.load('/content/JNU_labels.npy', allow_pickle=True)"
      ]
    },
    {
      "cell_type": "code",
      "source": [
        "real_labels = list(set(labels))\n",
        "real_labels.sort()"
      ],
      "metadata": {
        "id": "syH4lpwCu4nw"
      },
      "execution_count": 219,
      "outputs": []
    },
    {
      "cell_type": "code",
      "source": [
        "import seaborn as sns\n",
        "fig, ax = plt.subplots()\n",
        "fig = sns.histplot(data=labels, kde=False, stat='count', discrete=True, palette='coolwarm', multiple='stack', ax=ax)\n",
        "# ax.set_xlim(0, 9)\n",
        "# ax.set_ylim(0, 300)\n",
        "ax.set_xlabel(\"Fault class\")\n",
        "ax.set_ylabel(\"Amount\")\n",
        "# ax.set_title(\"CWRU: amount-class\")\n",
        "ax.set_title(\"JNU: amount-class\")\n",
        "for item in fig.get_xticklabels():\n",
        "    item.set_rotation(25)\n",
        "plt.show()"
      ],
      "metadata": {
        "colab": {
          "base_uri": "https://localhost:8080/",
          "height": 323
        },
        "id": "zvWipTIwPtJ1",
        "outputId": "ace46e36-0454-4d0a-b697-2b4b6a2fda27"
      },
      "execution_count": 220,
      "outputs": [
        {
          "output_type": "display_data",
          "data": {
            "text/plain": [
              "<Figure size 432x288 with 1 Axes>"
            ],
            "image/png": "[encoded data removed]"
          },
          "metadata": {}
        }
      ]
    },
    {
      "cell_type": "code",
      "source": [
        "print(real_labels)\n",
        "# Encode the labels\n",
        "mydict = {}\n",
        "i = 0\n",
        "for item in labels:\n",
        "    if(i>0 and item in mydict):\n",
        "        continue\n",
        "    else:    \n",
        "       i = i+1\n",
        "       mydict[item] = i-1 # -1 to map '0~11'\n",
        "\n",
        "k = []\n",
        "for item in labels:\n",
        "    k.append(mydict[item])\n",
        "labels = np.array(k)"
      ],
      "metadata": {
        "id": "Bhe_x6p3iJLs",
        "outputId": "9f3a6199-c202-4309-e90b-6e96d6cd8792",
        "colab": {
          "base_uri": "https://localhost:8080/"
        }
      },
      "execution_count": 221,
      "outputs": [
        {
          "output_type": "stream",
          "name": "stdout",
          "text": [
            "['B1000', 'B600', 'B800', 'IR1000', 'IR600', 'IR800', 'N1000', 'N600', 'N800', 'OR1000', 'OR600', 'OR800']\n"
          ]
        }
      ]
    },
    {
      "cell_type": "code",
      "execution_count": 222,
      "metadata": {
        "id": "VWQbPXvlxvmp"
      },
      "outputs": [],
      "source": [
        "### CWRU\n",
        "x = data[:, 0:1600]\n",
        "### JNU\n",
        "x = data[:, 0:4900]"
      ]
    },
    {
      "cell_type": "code",
      "execution_count": 118,
      "metadata": {
        "id": "Sg9bOVQjxvmq"
      },
      "outputs": [],
      "source": [
        "def mean(data, no_elements):\n",
        "    X = np.zeros((data.shape[0], data.shape[1]))\n",
        "    for i in range(data.shape[1] - no_elements + 1):\n",
        "        X[:, i]=np.mean(data[:, i:i + no_elements], axis=1)\n",
        "    return X.astype(np.float16)\n",
        "def median(data, no_elements):\n",
        "    X = np.zeros((data.shape[0], data.shape[1]))\n",
        "    for i in range(data.shape[1] - no_elements + 1):\n",
        "        X[:, i]=np.median(data[:, i:i + no_elements], axis=1)\n",
        "    return X.astype(np.float16)\n",
        "def sig_image(data, size):\n",
        "    X = np.zeros((data.shape[0], size, size))\n",
        "    for i in range(data.shape[0]):\n",
        "        X[i]=(data[i, :].reshape(size, size))\n",
        "    return X.astype(np.float16)"
      ]
    },
    {
      "cell_type": "code",
      "execution_count": 119,
      "metadata": {
        "id": "HsI6WYN2xvmq"
      },
      "outputs": [],
      "source": [
        "### For CWRU\n",
        "# _size = 40\n",
        "# channel_mean = (mean(x, 10)).astype(np.float16)\n",
        "# x_m = sig_image(channel_mean, 40)\n",
        "# channel_median = (median(x, 10)).astype(np.float16)\n",
        "# x_md = sig_image(x, 40)\n",
        "\n",
        "### For JNU\n",
        "_size = 70\n",
        "channel_mean = (mean(x, 10)).astype(np.float16)\n",
        "x_m = sig_image(channel_mean, _size)\n",
        "channel_median = (median(x, 10)).astype(np.float16)\n",
        "x_md = sig_image(x, _size)"
      ]
    },
    {
      "cell_type": "code",
      "execution_count": 120,
      "metadata": {
        "id": "BxXJrIe6xvmr"
      },
      "outputs": [],
      "source": [
        "x_n = sig_image(x, _size)"
      ]
    },
    {
      "cell_type": "code",
      "execution_count": 121,
      "metadata": {
        "id": "ONRWvjMlxvmr",
        "outputId": "a233fc03-a366-4e49-f0b2-44bea66cf957",
        "colab": {
          "base_uri": "https://localhost:8080/"
        }
      },
      "outputs": [
        {
          "output_type": "execute_result",
          "data": {
            "text/plain": [
              "(1200, 70, 70)"
            ]
          },
          "metadata": {},
          "execution_count": 121
        }
      ],
      "source": [
        "x_n.shape"
      ]
    },
    {
      "cell_type": "code",
      "execution_count": 122,
      "metadata": {
        "id": "ybeqXUG6xvms",
        "outputId": "ecc7c0ac-9442-45eb-c877-344b3a6722fa",
        "colab": {
          "base_uri": "https://localhost:8080/"
        }
      },
      "outputs": [
        {
          "output_type": "execute_result",
          "data": {
            "text/plain": [
              "(1200, 70, 70)"
            ]
          },
          "metadata": {},
          "execution_count": 122
        }
      ],
      "source": [
        "x_m.shape"
      ]
    },
    {
      "cell_type": "code",
      "execution_count": 123,
      "metadata": {
        "id": "0ZKVvNzrxvmt"
      },
      "outputs": [],
      "source": [
        "X = np.stack((x_n, x_m, x_md), axis=1).astype(np.float16)"
      ]
    },
    {
      "cell_type": "code",
      "execution_count": 124,
      "metadata": {
        "id": "to1GQ5ndxvmt",
        "outputId": "fbc9fe8d-33d1-462b-eff6-7cfeb34341b7",
        "colab": {
          "base_uri": "https://localhost:8080/"
        }
      },
      "outputs": [
        {
          "output_type": "execute_result",
          "data": {
            "text/plain": [
              "(1200, 3, 70, 70)"
            ]
          },
          "metadata": {},
          "execution_count": 124
        }
      ],
      "source": [
        "X.shape"
      ]
    },
    {
      "cell_type": "code",
      "execution_count": 125,
      "metadata": {
        "id": "JeVaeLp2xvmu"
      },
      "outputs": [],
      "source": [
        "from sklearn.model_selection import train_test_split\n",
        "trainx, testx, trainlabel, testlabel = train_test_split(X, labels, test_size=0.2, random_state=20)"
      ]
    },
    {
      "cell_type": "code",
      "execution_count": 126,
      "metadata": {
        "id": "4XzoLfi4xvmu"
      },
      "outputs": [],
      "source": [
        "sig_train, sig_test = trainx, testx\n",
        "lab_train, lab_test = trainlabel, testlabel"
      ]
    },
    {
      "cell_type": "code",
      "execution_count": 127,
      "metadata": {
        "id": "mTaX4FlGxvmu"
      },
      "outputs": [],
      "source": [
        "sig_train = torch.from_numpy(sig_train)\n",
        "sig_test = torch.from_numpy(sig_test)\n",
        "lab_train = torch.from_numpy(lab_train)\n",
        "lab_test = torch.from_numpy(lab_test)"
      ]
    },
    {
      "cell_type": "code",
      "execution_count": 145,
      "metadata": {
        "id": "A6-F4rt7xvmv"
      },
      "outputs": [],
      "source": [
        "import torch.utils.data as data_utils\n",
        "batch_size = 128\n",
        "train_tensor = data_utils.TensorDataset(sig_train, lab_train)\n",
        "train_loader = data_utils.DataLoader(dataset=train_tensor, batch_size=batch_size, shuffle=True)"
      ]
    },
    {
      "cell_type": "code",
      "execution_count": 129,
      "metadata": {
        "id": "iaVYScLHxvmv"
      },
      "outputs": [],
      "source": [
        "batch_size = 1024\n",
        "test_tensor = data_utils.TensorDataset(sig_test, lab_test)\n",
        "test_loader = data_utils.DataLoader(dataset=test_tensor, batch_size=batch_size, shuffle=False)"
      ]
    },
    {
      "cell_type": "code",
      "execution_count": 130,
      "metadata": {
        "id": "Cz0q2g_8xvmv",
        "outputId": "e04e1181-b687-4ba9-fa17-7b53ecb1d3c6",
        "colab": {
          "base_uri": "https://localhost:8080/"
        }
      },
      "outputs": [
        {
          "output_type": "execute_result",
          "data": {
            "text/plain": [
              "torch.Size([960, 3, 70, 70])"
            ]
          },
          "metadata": {},
          "execution_count": 130
        }
      ],
      "source": [
        "sig_train.size()"
      ]
    },
    {
      "cell_type": "code",
      "source": [
        "sig_train.size()[0]"
      ],
      "metadata": {
        "colab": {
          "base_uri": "https://localhost:8080/"
        },
        "id": "KRpV6MJDbcox",
        "outputId": "8d643e61-cda8-4123-8733-21a338101265"
      },
      "execution_count": 131,
      "outputs": [
        {
          "output_type": "execute_result",
          "data": {
            "text/plain": [
              "960"
            ]
          },
          "metadata": {},
          "execution_count": 131
        }
      ]
    },
    {
      "cell_type": "code",
      "execution_count": 132,
      "metadata": {
        "id": "t8TJWrrYxvmv",
        "outputId": "3c72f522-d2cc-4226-ba19-bf14c22511e1",
        "colab": {
          "base_uri": "https://localhost:8080/"
        }
      },
      "outputs": [
        {
          "output_type": "execute_result",
          "data": {
            "text/plain": [
              "torch.Size([240, 3, 70, 70])"
            ]
          },
          "metadata": {},
          "execution_count": 132
        }
      ],
      "source": [
        "sig_test.size()"
      ]
    },
    {
      "cell_type": "code",
      "source": [
        "import torch.nn as nn\n",
        "import torch.nn.functional as F\n",
        "\n",
        "# define the NN architecture\n",
        "class ConvAutoencoder(nn.Module):\n",
        "    # def __init__(self):\n",
        "    #     super(ConvAutoencoder, self).__init__()\n",
        "    #     ## encoder layers ##\n",
        "    #     # conv layer (depth from 3 --> 32), 4x4 kernels\n",
        "    #     self.conv1 = nn.Conv2d(3, 32, kernel_size=4, stride=1, padding=2)  \n",
        "    #     # conv layer (depth from 32 --> 10), 4x4 kernels\n",
        "    #     self.conv2 = nn.Conv2d(32, 3, kernel_size=4, stride=1, padding=2)\n",
        "    #     # pooling layer to reduce x-y dims by two; kernel and stride of 2\n",
        "    #     self.pool = nn.MaxPool2d(2, 2)\n",
        "        \n",
        "    #     ## decoder layers ##\n",
        "    #     ## a kernel of 2 and a stride of 2 will increase the spatial dims by 2\n",
        "    #     self.t_conv1 = nn.ConvTranspose2d(3, 32, 4, stride=2)\n",
        "    #     self.t_conv2 = nn.ConvTranspose2d(32, 3, 4, stride=2)\n",
        "    def __init__(self):\n",
        "        super(ConvAutoencoder, self).__init__()\n",
        "        ## encoder layers ##\n",
        "        # conv layer (depth from 1 --> 16), 3x3 kernels\n",
        "        self.conv1 = nn.Conv2d(3, 16, 3, padding=1)  \n",
        "        # conv layer (depth from 16 --> 4), 3x3 kernels\n",
        "        self.conv2 = nn.Conv2d(16, 4, 3, padding=1)\n",
        "        # pooling layer to reduce x-y dims by two; kernel and stride of 2\n",
        "        self.pool = nn.MaxPool2d(2, 2)\n",
        "        \n",
        "        ## decoder layers ##\n",
        "        ## a kernel of 2 and a stride of 2 will increase the spatial dims by 2\n",
        "        self.t_conv1 = nn.ConvTranspose2d(4, 16, 2, stride=2)\n",
        "        self.t_conv2 = nn.ConvTranspose2d(16, 1, 2, stride=2)\n",
        "\n",
        "    def forward(self, x):\n",
        "        ## encode ##\n",
        "        # add hidden layers with relu activation function\n",
        "        # and maxpooling after\n",
        "        x = F.relu(self.conv1(x))\n",
        "        x = self.pool(x)\n",
        "        # add second hidden layer\n",
        "        x = F.relu(self.conv2(x))\n",
        "        x = self.pool(x)  # compressed representation\n",
        "        \n",
        "        ## decode ##\n",
        "        # add transpose conv layers, with relu activation function\n",
        "        x = F.relu(self.t_conv1(x))\n",
        "        # output layer (with sigmoid for scaling from 0 to 1)\n",
        "        x = F.sigmoid(self.t_conv2(x))\n",
        "                \n",
        "        return x\n",
        "\n",
        "# initialize the NN\n",
        "model = ConvAutoencoder().double()\n",
        "print(model)"
      ],
      "metadata": {
        "colab": {
          "base_uri": "https://localhost:8080/"
        },
        "id": "WXa1nabMVV-3",
        "outputId": "4439187f-e0bd-4f65-a006-1b2976e14e01"
      },
      "execution_count": null,
      "outputs": [
        {
          "output_type": "stream",
          "name": "stdout",
          "text": [
            "ConvAutoencoder(\n",
            "  (conv1): Conv2d(3, 16, kernel_size=(3, 3), stride=(1, 1), padding=(1, 1))\n",
            "  (conv2): Conv2d(16, 4, kernel_size=(3, 3), stride=(1, 1), padding=(1, 1))\n",
            "  (pool): MaxPool2d(kernel_size=2, stride=2, padding=0, dilation=1, ceil_mode=False)\n",
            "  (t_conv1): ConvTranspose2d(4, 16, kernel_size=(2, 2), stride=(2, 2))\n",
            "  (t_conv2): ConvTranspose2d(16, 1, kernel_size=(2, 2), stride=(2, 2))\n",
            ")\n"
          ]
        }
      ]
    },
    {
      "cell_type": "code",
      "execution_count": 146,
      "metadata": {
        "id": "2INp-eAmxvmw",
        "colab": {
          "base_uri": "https://localhost:8080/"
        },
        "outputId": "05621a08-3ef9-4e30-ee5b-e442525fe9da"
      },
      "outputs": [
        {
          "output_type": "stream",
          "name": "stdout",
          "text": [
            "CNN(\n",
            "  (conv1): Conv2d(3, 32, kernel_size=(4, 4), stride=(1, 1), padding=(1, 1))\n",
            "  (mp1): MaxPool2d(kernel_size=4, stride=2, padding=0, dilation=1, ceil_mode=False)\n",
            "  (conv2): Conv2d(32, 64, kernel_size=(4, 4), stride=(1, 1))\n",
            "  (mp2): MaxPool2d(kernel_size=4, stride=2, padding=0, dilation=1, ceil_mode=False)\n",
            "  (fc1): Linear(in_features=12544, out_features=256, bias=True)\n",
            "  (dp1): Dropout(p=0.2, inplace=False)\n",
            "  (fc2): Linear(in_features=256, out_features=12, bias=True)\n",
            ")\n"
          ]
        }
      ],
      "source": [
        "class CNN(nn.Module):\n",
        "    def __init__(self):\n",
        "        super(CNN, self).__init__()\n",
        "        self.conv1 = nn.Conv2d(3, 32, kernel_size=4, stride=1, padding=1)\n",
        "        self.mp1 = nn.MaxPool2d(kernel_size=4, stride=2)\n",
        "        self.conv2 = nn.Conv2d(32, 64, kernel_size=4, stride=1)\n",
        "        self.mp2 = nn.MaxPool2d(kernel_size=4, stride=2)\n",
        "        # self.fc1= nn.Linear(2304, 256) # CWRU\n",
        "        # self.fc1= nn.Linear(sig_train.size()[0]-64, 256)\n",
        "        self.fc1= nn.Linear(64*14*14, 256)\n",
        "        self.dp1 = nn.Dropout(p=0.2)\n",
        "        # self.fc2 = nn.Linear(256, 10) # CWRU\n",
        "        self.fc2 = nn.Linear(256, 12) # JNU\n",
        "\n",
        "    def forward(self, x):\n",
        "        in_size = x.size(0)\n",
        "        x = F.relu(self.mp1(self.conv1(x)))\n",
        "        x = F.relu(self.mp2(self.conv2(x)))\n",
        "        # print(x.shape)\n",
        "        x = x.view(in_size, -1) # CWRU\n",
        "        # x = x.view(-1, sig_train.size()[0]-64) # JNU\n",
        "        x = F.relu(self.fc1(x))\n",
        "        x = self.dp1(x)\n",
        "        x = self.fc2(x)\n",
        "        \n",
        "        return F.log_softmax(x, dim=1)\n",
        "\n",
        "model = CNN().double()\n",
        "model.cuda()\n",
        "print(model)"
      ]
    },
    {
      "cell_type": "code",
      "execution_count": 147,
      "metadata": {
        "id": "VtlltSQ9xvmw"
      },
      "outputs": [],
      "source": [
        "criterion = nn.CrossEntropyLoss()\n",
        "\n",
        "# loss function for AE\n",
        "# criterion = nn.MSELoss()\n",
        "\n",
        "optimizer = torch.optim.Adam(model.parameters(), lr=0.001)"
      ]
    },
    {
      "cell_type": "code",
      "execution_count": 148,
      "metadata": {
        "id": "qsrSPJGqxvmw"
      },
      "outputs": [],
      "source": [
        "num_epochs = 100\n",
        "num_epochs = 50"
      ]
    },
    {
      "cell_type": "code",
      "execution_count": 149,
      "metadata": {
        "id": "E_V1c9Iuxvmx",
        "outputId": "55951614-d642-4707-a118-61816311057d",
        "colab": {
          "base_uri": "https://localhost:8080/"
        }
      },
      "outputs": [
        {
          "output_type": "stream",
          "name": "stdout",
          "text": [
            "Epoch [1/100],  Step [1/8],  Loss: 2.4934,  Train Accuracy: 9.38%\n",
            "Epoch [1/100],  Step [2/8],  Loss: 2.6068,  Train Accuracy: 7.03%\n",
            "Epoch [1/100],  Step [3/8],  Loss: 2.3230,  Train Accuracy: 10.94%\n",
            "Epoch [1/100],  Step [4/8],  Loss: 2.3963,  Train Accuracy: 8.59%\n",
            "Epoch [1/100],  Step [5/8],  Loss: 2.3837,  Train Accuracy: 13.28%\n",
            "Epoch [1/100],  Step [6/8],  Loss: 2.3396,  Train Accuracy: 8.59%\n",
            "Epoch [1/100],  Step [7/8],  Loss: 2.2948,  Train Accuracy: 6.25%\n",
            "Epoch [1/100],  Step [8/8],  Loss: 2.2692,  Train Accuracy: 6.25%\n",
            "Epoch [5/100],  Step [1/8],  Loss: 0.8295,  Train Accuracy: 75.78%\n",
            "Epoch [5/100],  Step [2/8],  Loss: 0.9700,  Train Accuracy: 65.62%\n",
            "Epoch [5/100],  Step [3/8],  Loss: 0.7544,  Train Accuracy: 74.22%\n",
            "Epoch [5/100],  Step [4/8],  Loss: 0.6564,  Train Accuracy: 82.03%\n",
            "Epoch [5/100],  Step [5/8],  Loss: 0.6694,  Train Accuracy: 78.91%\n",
            "Epoch [5/100],  Step [6/8],  Loss: 0.6554,  Train Accuracy: 82.81%\n",
            "Epoch [5/100],  Step [7/8],  Loss: 0.6369,  Train Accuracy: 79.69%\n",
            "Epoch [5/100],  Step [8/8],  Loss: 0.6248,  Train Accuracy: 84.38%\n",
            "Epoch [10/100],  Step [1/8],  Loss: 0.1562,  Train Accuracy: 95.31%\n",
            "Epoch [10/100],  Step [2/8],  Loss: 0.1104,  Train Accuracy: 98.44%\n",
            "Epoch [10/100],  Step [3/8],  Loss: 0.1686,  Train Accuracy: 94.53%\n",
            "Epoch [10/100],  Step [4/8],  Loss: 0.2465,  Train Accuracy: 92.97%\n",
            "Epoch [10/100],  Step [5/8],  Loss: 0.2108,  Train Accuracy: 91.41%\n",
            "Epoch [10/100],  Step [6/8],  Loss: 0.1401,  Train Accuracy: 96.88%\n",
            "Epoch [10/100],  Step [7/8],  Loss: 0.1293,  Train Accuracy: 96.09%\n",
            "Epoch [10/100],  Step [8/8],  Loss: 0.1201,  Train Accuracy: 96.88%\n",
            "Epoch [15/100],  Step [1/8],  Loss: 0.0331,  Train Accuracy: 100.00%\n",
            "Epoch [15/100],  Step [2/8],  Loss: 0.0835,  Train Accuracy: 97.66%\n",
            "Epoch [15/100],  Step [3/8],  Loss: 0.0675,  Train Accuracy: 97.66%\n",
            "Epoch [15/100],  Step [4/8],  Loss: 0.0945,  Train Accuracy: 98.44%\n",
            "Epoch [15/100],  Step [5/8],  Loss: 0.0501,  Train Accuracy: 97.66%\n",
            "Epoch [15/100],  Step [6/8],  Loss: 0.0557,  Train Accuracy: 99.22%\n",
            "Epoch [15/100],  Step [7/8],  Loss: 0.0554,  Train Accuracy: 99.22%\n",
            "Epoch [15/100],  Step [8/8],  Loss: 0.0171,  Train Accuracy: 100.00%\n",
            "Epoch [20/100],  Step [1/8],  Loss: 0.0178,  Train Accuracy: 100.00%\n",
            "Epoch [20/100],  Step [2/8],  Loss: 0.0177,  Train Accuracy: 100.00%\n",
            "Epoch [20/100],  Step [3/8],  Loss: 0.0260,  Train Accuracy: 98.44%\n",
            "Epoch [20/100],  Step [4/8],  Loss: 0.0376,  Train Accuracy: 99.22%\n",
            "Epoch [20/100],  Step [5/8],  Loss: 0.0174,  Train Accuracy: 100.00%\n",
            "Epoch [20/100],  Step [6/8],  Loss: 0.0512,  Train Accuracy: 99.22%\n",
            "Epoch [20/100],  Step [7/8],  Loss: 0.0517,  Train Accuracy: 98.44%\n",
            "Epoch [20/100],  Step [8/8],  Loss: 0.0293,  Train Accuracy: 100.00%\n",
            "Epoch [25/100],  Step [1/8],  Loss: 0.0124,  Train Accuracy: 100.00%\n",
            "Epoch [25/100],  Step [2/8],  Loss: 0.0215,  Train Accuracy: 100.00%\n",
            "Epoch [25/100],  Step [3/8],  Loss: 0.0150,  Train Accuracy: 100.00%\n",
            "Epoch [25/100],  Step [4/8],  Loss: 0.0135,  Train Accuracy: 100.00%\n",
            "Epoch [25/100],  Step [5/8],  Loss: 0.0155,  Train Accuracy: 100.00%\n",
            "Epoch [25/100],  Step [6/8],  Loss: 0.0203,  Train Accuracy: 99.22%\n",
            "Epoch [25/100],  Step [7/8],  Loss: 0.0077,  Train Accuracy: 100.00%\n",
            "Epoch [25/100],  Step [8/8],  Loss: 0.0442,  Train Accuracy: 98.44%\n",
            "Epoch [30/100],  Step [1/8],  Loss: 0.0119,  Train Accuracy: 100.00%\n",
            "Epoch [30/100],  Step [2/8],  Loss: 0.0104,  Train Accuracy: 99.22%\n",
            "Epoch [30/100],  Step [3/8],  Loss: 0.0475,  Train Accuracy: 99.22%\n",
            "Epoch [30/100],  Step [4/8],  Loss: 0.0200,  Train Accuracy: 99.22%\n",
            "Epoch [30/100],  Step [5/8],  Loss: 0.0250,  Train Accuracy: 99.22%\n",
            "Epoch [30/100],  Step [6/8],  Loss: 0.0230,  Train Accuracy: 99.22%\n",
            "Epoch [30/100],  Step [7/8],  Loss: 0.0053,  Train Accuracy: 100.00%\n",
            "Epoch [30/100],  Step [8/8],  Loss: 0.0092,  Train Accuracy: 100.00%\n",
            "Epoch [35/100],  Step [1/8],  Loss: 0.0125,  Train Accuracy: 99.22%\n",
            "Epoch [35/100],  Step [2/8],  Loss: 0.0393,  Train Accuracy: 99.22%\n",
            "Epoch [35/100],  Step [3/8],  Loss: 0.0337,  Train Accuracy: 99.22%\n",
            "Epoch [35/100],  Step [4/8],  Loss: 0.0077,  Train Accuracy: 100.00%\n",
            "Epoch [35/100],  Step [5/8],  Loss: 0.0296,  Train Accuracy: 99.22%\n",
            "Epoch [35/100],  Step [6/8],  Loss: 0.0043,  Train Accuracy: 100.00%\n",
            "Epoch [35/100],  Step [7/8],  Loss: 0.0047,  Train Accuracy: 100.00%\n",
            "Epoch [35/100],  Step [8/8],  Loss: 0.0040,  Train Accuracy: 100.00%\n",
            "Epoch [40/100],  Step [1/8],  Loss: 0.0096,  Train Accuracy: 100.00%\n",
            "Epoch [40/100],  Step [2/8],  Loss: 0.0038,  Train Accuracy: 100.00%\n",
            "Epoch [40/100],  Step [3/8],  Loss: 0.0102,  Train Accuracy: 100.00%\n",
            "Epoch [40/100],  Step [4/8],  Loss: 0.0175,  Train Accuracy: 99.22%\n",
            "Epoch [40/100],  Step [5/8],  Loss: 0.0061,  Train Accuracy: 100.00%\n",
            "Epoch [40/100],  Step [6/8],  Loss: 0.0138,  Train Accuracy: 100.00%\n",
            "Epoch [40/100],  Step [7/8],  Loss: 0.0098,  Train Accuracy: 100.00%\n",
            "Epoch [40/100],  Step [8/8],  Loss: 0.0214,  Train Accuracy: 98.44%\n",
            "Epoch [45/100],  Step [1/8],  Loss: 0.0171,  Train Accuracy: 99.22%\n",
            "Epoch [45/100],  Step [2/8],  Loss: 0.0046,  Train Accuracy: 100.00%\n",
            "Epoch [45/100],  Step [3/8],  Loss: 0.0039,  Train Accuracy: 100.00%\n",
            "Epoch [45/100],  Step [4/8],  Loss: 0.0046,  Train Accuracy: 100.00%\n",
            "Epoch [45/100],  Step [5/8],  Loss: 0.0082,  Train Accuracy: 100.00%\n",
            "Epoch [45/100],  Step [6/8],  Loss: 0.0107,  Train Accuracy: 100.00%\n",
            "Epoch [45/100],  Step [7/8],  Loss: 0.0020,  Train Accuracy: 100.00%\n",
            "Epoch [45/100],  Step [8/8],  Loss: 0.0208,  Train Accuracy: 98.44%\n",
            "Epoch [50/100],  Step [1/8],  Loss: 0.6065,  Train Accuracy: 84.38%\n",
            "Epoch [50/100],  Step [2/8],  Loss: 0.6642,  Train Accuracy: 81.25%\n",
            "Epoch [50/100],  Step [3/8],  Loss: 0.0363,  Train Accuracy: 98.44%\n",
            "Epoch [50/100],  Step [4/8],  Loss: 0.3471,  Train Accuracy: 89.84%\n",
            "Epoch [50/100],  Step [5/8],  Loss: 0.3515,  Train Accuracy: 84.38%\n",
            "Epoch [50/100],  Step [6/8],  Loss: 0.1680,  Train Accuracy: 92.97%\n",
            "Epoch [50/100],  Step [7/8],  Loss: 0.0475,  Train Accuracy: 98.44%\n",
            "Epoch [50/100],  Step [8/8],  Loss: 0.0620,  Train Accuracy: 98.44%\n",
            "Epoch [55/100],  Step [1/8],  Loss: 0.0168,  Train Accuracy: 100.00%\n",
            "Epoch [55/100],  Step [2/8],  Loss: 0.0098,  Train Accuracy: 100.00%\n",
            "Epoch [55/100],  Step [3/8],  Loss: 0.0105,  Train Accuracy: 100.00%\n",
            "Epoch [55/100],  Step [4/8],  Loss: 0.0091,  Train Accuracy: 100.00%\n",
            "Epoch [55/100],  Step [5/8],  Loss: 0.0118,  Train Accuracy: 99.22%\n",
            "Epoch [55/100],  Step [6/8],  Loss: 0.0129,  Train Accuracy: 99.22%\n",
            "Epoch [55/100],  Step [7/8],  Loss: 0.0052,  Train Accuracy: 100.00%\n",
            "Epoch [55/100],  Step [8/8],  Loss: 0.0340,  Train Accuracy: 98.44%\n",
            "Epoch [60/100],  Step [1/8],  Loss: 0.0025,  Train Accuracy: 100.00%\n",
            "Epoch [60/100],  Step [2/8],  Loss: 0.0036,  Train Accuracy: 100.00%\n",
            "Epoch [60/100],  Step [3/8],  Loss: 0.0052,  Train Accuracy: 100.00%\n",
            "Epoch [60/100],  Step [4/8],  Loss: 0.0021,  Train Accuracy: 100.00%\n",
            "Epoch [60/100],  Step [5/8],  Loss: 0.0040,  Train Accuracy: 100.00%\n",
            "Epoch [60/100],  Step [6/8],  Loss: 0.0039,  Train Accuracy: 100.00%\n",
            "Epoch [60/100],  Step [7/8],  Loss: 0.0023,  Train Accuracy: 100.00%\n",
            "Epoch [60/100],  Step [8/8],  Loss: 0.0027,  Train Accuracy: 100.00%\n",
            "Epoch [65/100],  Step [1/8],  Loss: 0.0009,  Train Accuracy: 100.00%\n",
            "Epoch [65/100],  Step [2/8],  Loss: 0.0032,  Train Accuracy: 100.00%\n",
            "Epoch [65/100],  Step [3/8],  Loss: 0.0029,  Train Accuracy: 100.00%\n",
            "Epoch [65/100],  Step [4/8],  Loss: 0.0013,  Train Accuracy: 100.00%\n",
            "Epoch [65/100],  Step [5/8],  Loss: 0.0022,  Train Accuracy: 100.00%\n",
            "Epoch [65/100],  Step [6/8],  Loss: 0.0026,  Train Accuracy: 100.00%\n",
            "Epoch [65/100],  Step [7/8],  Loss: 0.0020,  Train Accuracy: 100.00%\n",
            "Epoch [65/100],  Step [8/8],  Loss: 0.0007,  Train Accuracy: 100.00%\n",
            "Epoch [70/100],  Step [1/8],  Loss: 0.0013,  Train Accuracy: 100.00%\n",
            "Epoch [70/100],  Step [2/8],  Loss: 0.0015,  Train Accuracy: 100.00%\n",
            "Epoch [70/100],  Step [3/8],  Loss: 0.0021,  Train Accuracy: 100.00%\n",
            "Epoch [70/100],  Step [4/8],  Loss: 0.0039,  Train Accuracy: 100.00%\n",
            "Epoch [70/100],  Step [5/8],  Loss: 0.0021,  Train Accuracy: 100.00%\n",
            "Epoch [70/100],  Step [6/8],  Loss: 0.0027,  Train Accuracy: 100.00%\n",
            "Epoch [70/100],  Step [7/8],  Loss: 0.0003,  Train Accuracy: 100.00%\n",
            "Epoch [70/100],  Step [8/8],  Loss: 0.0011,  Train Accuracy: 100.00%\n",
            "Epoch [75/100],  Step [1/8],  Loss: 0.0009,  Train Accuracy: 100.00%\n",
            "Epoch [75/100],  Step [2/8],  Loss: 0.0006,  Train Accuracy: 100.00%\n",
            "Epoch [75/100],  Step [3/8],  Loss: 0.0004,  Train Accuracy: 100.00%\n",
            "Epoch [75/100],  Step [4/8],  Loss: 0.0003,  Train Accuracy: 100.00%\n",
            "Epoch [75/100],  Step [5/8],  Loss: 0.0006,  Train Accuracy: 100.00%\n",
            "Epoch [75/100],  Step [6/8],  Loss: 0.0006,  Train Accuracy: 100.00%\n",
            "Epoch [75/100],  Step [7/8],  Loss: 0.0013,  Train Accuracy: 100.00%\n",
            "Epoch [75/100],  Step [8/8],  Loss: 0.0010,  Train Accuracy: 100.00%\n",
            "Epoch [80/100],  Step [1/8],  Loss: 0.0003,  Train Accuracy: 100.00%\n",
            "Epoch [80/100],  Step [2/8],  Loss: 0.0006,  Train Accuracy: 100.00%\n",
            "Epoch [80/100],  Step [3/8],  Loss: 0.0020,  Train Accuracy: 100.00%\n",
            "Epoch [80/100],  Step [4/8],  Loss: 0.0007,  Train Accuracy: 100.00%\n",
            "Epoch [80/100],  Step [5/8],  Loss: 0.0021,  Train Accuracy: 100.00%\n",
            "Epoch [80/100],  Step [6/8],  Loss: 0.0013,  Train Accuracy: 100.00%\n",
            "Epoch [80/100],  Step [7/8],  Loss: 0.0009,  Train Accuracy: 100.00%\n",
            "Epoch [80/100],  Step [8/8],  Loss: 0.0065,  Train Accuracy: 100.00%\n",
            "Epoch [85/100],  Step [1/8],  Loss: 0.0007,  Train Accuracy: 100.00%\n",
            "Epoch [85/100],  Step [2/8],  Loss: 0.0008,  Train Accuracy: 100.00%\n",
            "Epoch [85/100],  Step [3/8],  Loss: 0.0003,  Train Accuracy: 100.00%\n",
            "Epoch [85/100],  Step [4/8],  Loss: 0.0049,  Train Accuracy: 100.00%\n",
            "Epoch [85/100],  Step [5/8],  Loss: 0.0004,  Train Accuracy: 100.00%\n",
            "Epoch [85/100],  Step [6/8],  Loss: 0.0017,  Train Accuracy: 100.00%\n",
            "Epoch [85/100],  Step [7/8],  Loss: 0.0005,  Train Accuracy: 100.00%\n",
            "Epoch [85/100],  Step [8/8],  Loss: 0.0006,  Train Accuracy: 100.00%\n",
            "Epoch [90/100],  Step [1/8],  Loss: 0.0005,  Train Accuracy: 100.00%\n",
            "Epoch [90/100],  Step [2/8],  Loss: 0.0006,  Train Accuracy: 100.00%\n",
            "Epoch [90/100],  Step [3/8],  Loss: 0.0007,  Train Accuracy: 100.00%\n",
            "Epoch [90/100],  Step [4/8],  Loss: 0.0004,  Train Accuracy: 100.00%\n",
            "Epoch [90/100],  Step [5/8],  Loss: 0.0007,  Train Accuracy: 100.00%\n",
            "Epoch [90/100],  Step [6/8],  Loss: 0.0003,  Train Accuracy: 100.00%\n",
            "Epoch [90/100],  Step [7/8],  Loss: 0.0004,  Train Accuracy: 100.00%\n",
            "Epoch [90/100],  Step [8/8],  Loss: 0.0008,  Train Accuracy: 100.00%\n",
            "Epoch [95/100],  Step [1/8],  Loss: 0.0007,  Train Accuracy: 100.00%\n",
            "Epoch [95/100],  Step [2/8],  Loss: 0.0007,  Train Accuracy: 100.00%\n",
            "Epoch [95/100],  Step [3/8],  Loss: 0.0016,  Train Accuracy: 100.00%\n",
            "Epoch [95/100],  Step [4/8],  Loss: 0.0005,  Train Accuracy: 100.00%\n",
            "Epoch [95/100],  Step [5/8],  Loss: 0.0001,  Train Accuracy: 100.00%\n",
            "Epoch [95/100],  Step [6/8],  Loss: 0.0004,  Train Accuracy: 100.00%\n",
            "Epoch [95/100],  Step [7/8],  Loss: 0.0003,  Train Accuracy: 100.00%\n",
            "Epoch [95/100],  Step [8/8],  Loss: 0.0002,  Train Accuracy: 100.00%\n",
            "Epoch [100/100],  Step [1/8],  Loss: 0.0005,  Train Accuracy: 100.00%\n",
            "Epoch [100/100],  Step [2/8],  Loss: 0.0002,  Train Accuracy: 100.00%\n",
            "Epoch [100/100],  Step [3/8],  Loss: 0.0002,  Train Accuracy: 100.00%\n",
            "Epoch [100/100],  Step [4/8],  Loss: 0.0005,  Train Accuracy: 100.00%\n",
            "Epoch [100/100],  Step [5/8],  Loss: 0.0056,  Train Accuracy: 100.00%\n",
            "Epoch [100/100],  Step [6/8],  Loss: 0.0005,  Train Accuracy: 100.00%\n",
            "Epoch [100/100],  Step [7/8],  Loss: 0.0029,  Train Accuracy: 100.00%\n",
            "Epoch [100/100],  Step [8/8],  Loss: 0.0001,  Train Accuracy: 100.00%\n"
          ]
        }
      ],
      "source": [
        "total_step = len(train_loader)\n",
        "loss_list = []\n",
        "acc_list = []\n",
        "for epoch in range(num_epochs):\n",
        "    for i, (signals, labels) in enumerate(train_loader):\n",
        "        optimizer.zero_grad()\n",
        "        # Run the forward pass\n",
        "        signals = signals.cuda()\n",
        "        labels = labels.cuda()\n",
        "        outputs = model(signals.double())\n",
        "        loss = criterion(outputs, labels.long())\n",
        "        # loss = criterion(outputs, signals.double())\n",
        "        \n",
        "        loss_list.append(loss.item())\n",
        "\n",
        "        # Backprop and perform Adam optimisation\n",
        "        \n",
        "        loss.backward()\n",
        "        optimizer.step()\n",
        "        # Track the accuracy\n",
        "        total = labels.size(0)\n",
        "        # total = signals.size(0)\n",
        "        _,  predicted = torch.max(outputs.data,  1)\n",
        "        correct = (predicted == labels.long()).sum().item()\n",
        "        # correct = (predicted == signals.double()).sum().item()\n",
        "        acc_list.append(correct / total)\n",
        "\n",
        "        if (epoch+1) % 5 == 0 or epoch==0:\n",
        "            print('Epoch [{}/{}],  Step [{}/{}],  Loss: {:.4f},  Train Accuracy: {:.2f}%'\n",
        "                  .format(epoch + 1,  num_epochs,  i + 1,  total_step,  loss.item(), \n",
        "                          (correct / total) * 100))\n",
        "        "
      ]
    },
    {
      "cell_type": "code",
      "source": [
        "DATASET = 'JNU'\n",
        "sns.set_theme(style=\"darkgrid\", font_scale=1.1)\n",
        "fig, ax = plt.subplots(2, 1, figsize=(10, 6))\n",
        "fig.tight_layout()\n",
        "sns.lineplot(data=acc_list, ax=ax[0])\n",
        "# ax.set_xlim(0, 9)\n",
        "# ax.set_ylim(0, 300)\n",
        "# ax[0].set_xlabel(\"Steps\")\n",
        "ax[0].set_ylabel(\"Accuracy\")\n",
        "ax[0].set_title(f\"{DATASET}: Steps-Accuracy\")\n",
        "# plt.show()\n",
        "\n",
        "# sns.set_theme(style=\"darkgrid\", font_scale=1.1)\n",
        "# fig, ax = plt.subplots()\n",
        "sns.lineplot(data=loss_list, ax=ax[1])\n",
        "ax[1].set_xlabel(\"Steps\")\n",
        "ax[1].set_ylabel(\"Loss\")\n",
        "ax[1].set_title(f\"{DATASET}: Steps-Loss\")\n",
        "plt.show()"
      ],
      "metadata": {
        "colab": {
          "base_uri": "https://localhost:8080/",
          "height": 462
        },
        "id": "8aOQIoV2gr95",
        "outputId": "bc846ffb-444d-405c-be4d-64e024e0df14"
      },
      "execution_count": 151,
      "outputs": [
        {
          "output_type": "display_data",
          "data": {
            "text/plain": [
              "<Figure size 720x432 with 2 Axes>"
            ],
            "image/png": "[encoded data removed]"
          },
          "metadata": {}
        }
      ]
    },
    {
      "cell_type": "code",
      "source": [
        "signals.double().shape"
      ],
      "metadata": {
        "colab": {
          "base_uri": "https://localhost:8080/"
        },
        "id": "hylBpNtJeReS",
        "outputId": "93907b49-f366-45bc-f16a-799b111f6e6b"
      },
      "execution_count": 156,
      "outputs": [
        {
          "output_type": "execute_result",
          "data": {
            "text/plain": [
              "torch.Size([240, 3, 70, 70])"
            ]
          },
          "metadata": {},
          "execution_count": 156
        }
      ]
    },
    {
      "cell_type": "code",
      "execution_count": 224,
      "metadata": {
        "id": "czG73B27xvmx",
        "outputId": "0e7dba39-bf27-4100-87ed-bddb12fdbded",
        "colab": {
          "base_uri": "https://localhost:8080/"
        }
      },
      "outputs": [
        {
          "output_type": "stream",
          "name": "stdout",
          "text": [
            "1\n",
            "Epoch [100/100],  Step [1/1],  Loss: 0.5174,  Accuracy: 89.58%\n"
          ]
        }
      ],
      "source": [
        "total_step = len(test_loader)\n",
        "print(total_step)\n",
        "loss_list_test = []\n",
        "acc_list_test = []\n",
        "with torch.no_grad():\n",
        "    for i,  (signals,  labels) in enumerate(test_loader):\n",
        "        # Run the forward pass\n",
        "        signals=signals.cuda()\n",
        "        labels=labels.cuda()\n",
        "        outputs = model(signals.double())\n",
        "        loss = criterion(outputs, labels.long())\n",
        "        loss_list_test.append(loss.item())\n",
        "        if epoch%10 ==0:\n",
        "            print(loss)\n",
        "        total = labels.size(0)\n",
        "        _,  predicted = torch.max(outputs.data,  1)\n",
        "        correct = (predicted == labels.long()).sum().item()\n",
        "        acc_list_test.append(correct / total)\n",
        "        if (epoch) % 1 == 0:\n",
        "            print('Epoch [{}/{}],  Step [{}/{}],  Loss: {:.4f},  Accuracy: {:.2f}%'\n",
        "                  .format(epoch + 1,  num_epochs,  i + 1,  total_step,  loss.item(), \n",
        "                          (correct / total) * 100))"
      ]
    },
    {
      "cell_type": "code",
      "source": [
        "from sklearn.metrics import confusion_matrix, ConfusionMatrixDisplay\n",
        "cm = confusion_matrix(labels.cpu(), predicted.cpu())\n",
        "disp = ConfusionMatrixDisplay(confusion_matrix=cm, \n",
        "                              display_labels=real_labels)\n",
        "fig, ax = plt.subplots(figsize=(10,10))\n",
        "plt.title(f'{DATASET}: Confusion Matrix', fontsize=30, pad=20)\n",
        "disp.plot(xticks_rotation='vertical', ax=ax)"
      ],
      "metadata": {
        "colab": {
          "base_uri": "https://localhost:8080/",
          "height": 624
        },
        "id": "7GgRX3hbiF4v",
        "outputId": "2a4d2538-1756-4970-c5c8-f4407c3df03b"
      },
      "execution_count": 245,
      "outputs": [
        {
          "output_type": "execute_result",
          "data": {
            "text/plain": [
              "<sklearn.metrics._plot.confusion_matrix.ConfusionMatrixDisplay at 0x7f8f2ae50fd0>"
            ]
          },
          "metadata": {},
          "execution_count": 245
        },
        {
          "output_type": "display_data",
          "data": {
            "text/plain": [
              "<Figure size 720x720 with 2 Axes>"
            ],
            "image/png": "[encoded data removed]"
          },
          "metadata": {}
        }
      ]
    },
    {
      "cell_type": "code",
      "execution_count": 246,
      "metadata": {
        "id": "4J9YSP3xxvmx"
      },
      "outputs": [],
      "source": [
        "# if you need to save\n",
        "torch.save(model, f'{DATASET}_{round((correct/total)*100, 3)}.pth')"
      ]
    }
  ],
  "metadata": {
    "kernelspec": {
      "display_name": "Python 3",
      "language": "python",
      "name": "python3"
    },
    "language_info": {
      "codemirror_mode": {
        "name": "ipython",
        "version": 3
      },
      "file_extension": ".py",
      "mimetype": "text/x-python",
      "name": "python",
      "nbconvert_exporter": "python",
      "pygments_lexer": "ipython3",
      "version": "3.7.4"
    },
    "colab": {
      "name": "[FaultNet]Bearing classification.ipynb",
      "provenance": [],
      "collapsed_sections": [],
      "include_colab_link": true
    },
    "accelerator": "GPU",
    "gpuClass": "standard"
  },
  "nbformat": 4,
  "nbformat_minor": 0
}