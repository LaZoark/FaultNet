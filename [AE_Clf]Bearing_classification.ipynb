{
  "cells": [
    {
      "cell_type": "markdown",
      "metadata": {
        "id": "view-in-github",
        "colab_type": "text"
      },
      "source": [
        "<a href=\"https://colab.research.google.com/github/LaZoark/FaultNet/blob/main/%5BAE_Clf%5DBearing_classification.ipynb\" target=\"_parent\"><img src=\"https://colab.research.google.com/assets/colab-badge.svg\" alt=\"Open In Colab\"/></a>"
      ]
    },
    {
      "cell_type": "markdown",
      "source": [
        "# Prepare the environment"
      ],
      "metadata": {
        "id": "PI72hHrLXHvV"
      }
    },
    {
      "cell_type": "code",
      "execution_count": 2,
      "metadata": {
        "id": "ZAU3GFZ0xvmk",
        "colab": {
          "base_uri": "https://localhost:8080/"
        },
        "outputId": "f8e97aa7-1a77-4727-e068-edbe0fc9cfc4"
      },
      "outputs": [
        {
          "output_type": "stream",
          "name": "stdout",
          "text": [
            "device: cuda:0\n"
          ]
        }
      ],
      "source": [
        "import numpy as np\n",
        "import pandas as pd\n",
        "import torch\n",
        "import torch.nn as nn\n",
        "from torchvision.transforms import transforms\n",
        "from torch.utils.data import DataLoader\n",
        "from torch.optim import Adam\n",
        "import torch.nn.functional as F\n",
        "import matplotlib.pyplot as plt\n",
        "device = torch.device(\"cuda:0\" if torch.cuda.is_available() else \"cpu\")\n",
        "print(\"device:\", device)"
      ]
    },
    {
      "cell_type": "markdown",
      "source": [
        "## Choose the dataset"
      ],
      "metadata": {
        "id": "3DVVOUgWGAeC"
      }
    },
    {
      "cell_type": "code",
      "source": [
        "DATASET = 'CWRU'    # From FaultNet. More info please visit http://manufacturingnet.io/html/datasets.html\n",
        "DATASET = 'JNU'     # Jiangnan University 江南大學軸承資料集\n",
        "# DATASET = 'BComp'   # Bearing Competition 軸承競賽\n",
        "# DATASET = 'CWRU2'   # 凱斯西儲大學"
      ],
      "metadata": {
        "id": "CrCwI2bY-nBD"
      },
      "execution_count": 1,
      "outputs": []
    },
    {
      "cell_type": "markdown",
      "source": [
        "### Additional Functions (Not essential for the `model` and `training`)"
      ],
      "metadata": {
        "id": "QvklHglIg9IX"
      }
    },
    {
      "cell_type": "code",
      "source": [
        "### This is for TensorBoard\n",
        "from torch.utils.tensorboard import SummaryWriter\n",
        "%load_ext tensorboard\n",
        "writer = SummaryWriter('/content/logsdir', comment=f'{DATASET}_LogSoftmax')\n",
        "\n",
        "### These are ONLY required by torchviz for plotting the graph\n",
        "import tensorflow as tf\n",
        "import tensorboard as tb\n",
        "tf.io.gfile = tb.compat.tensorflow_stub.io.gfile\n",
        "\n",
        "### Help print the PyTorch model info like Keras does\n",
        "!pip install torchinfo -qq\n",
        "### Help visualize the PyTorch model graph\n",
        "!pip install torchviz -qq"
      ],
      "metadata": {
        "id": "sYNEZpNLkbX7"
      },
      "execution_count": 3,
      "outputs": []
    },
    {
      "cell_type": "markdown",
      "source": [
        "## Download and decompress the dataset"
      ],
      "metadata": {
        "id": "3lpthudWGKH0"
      }
    },
    {
      "cell_type": "code",
      "source": [
        "import os\n",
        "ds_list = ['CWRU.zip', 'JNU_Preprocessing.rar', 'BComp_Preprocessing.rar', 'CWRU_Preprocessing.rar']\n",
        "\n",
        "if DATASET == 'CWRU':     # size(2800, 1600)  , 10 classes\n",
        "  if not os.path.exists(f'{os.getcwd()}/{ds_list[0]}'):\n",
        "    !wget https://github.com/LaZoark/FaultNet/raw/main/CWRU.zip\n",
        "    !unzip /content/CWRU.zip\n",
        "elif DATASET == 'JNU':    # size(1200, 5005)  , 12 classes\n",
        "  if not os.path.exists(f'{os.getcwd()}/{ds_list[1]}'):\n",
        "    !wget https://github.com/LaZoark/FaultNet/raw/main/Preprocessing/JNU_Preprocessing.rar\n",
        "    !unrar e /content/JNU_Preprocessing.rar\n",
        "elif DATASET == 'BComp':  # size( 792, 6000)  , 10 classes\n",
        "  if not os.path.exists(f'{os.getcwd()}/{ds_list[2]}'):\n",
        "    !wget https://github.com/LaZoark/FaultNet/raw/main/Preprocessing/BComp_Preprocessing.rar\n",
        "    !unrar e /content/BComp_Preprocessing.rar\n",
        "elif DATASET == 'CWRU2':  # size(4600, 1024)  , 10 classes\n",
        "  if not os.path.exists(f'{os.getcwd()}/{ds_list[3]}'):\n",
        "    !wget https://github.com/LaZoark/FaultNet/raw/main/Preprocessing/CWRU_Preprocessing.rar\n",
        "    !unrar e /content/CWRU_Preprocessing.rar"
      ],
      "metadata": {
        "id": "ZsHKHEfb_VXC"
      },
      "execution_count": 4,
      "outputs": []
    },
    {
      "cell_type": "markdown",
      "source": [
        "# Prepare the dataset"
      ],
      "metadata": {
        "id": "Fvpn9o-2Xkd9"
      }
    },
    {
      "cell_type": "code",
      "execution_count": 5,
      "metadata": {
        "id": "GENaKOO-xvmp"
      },
      "outputs": [],
      "source": [
        "if DATASET == 'CWRU':     # size(2800, 1600)  , 10 classes\n",
        "  data = np.load('/content/CWRU files/signal_data.npy')\n",
        "  labels = np.load('/content/CWRU files/signal_data_labels.npy')\n",
        "  real_labels = ['Normal', 'B007', 'B014', 'B021', 'IR007', 'IR014', 'IR021', 'OR007', 'OR014', 'OR021']\n",
        "  fault_amount = 10\n",
        "  x = data[:, 0:1600]\n",
        "  _size = 40\n",
        "\n",
        "elif DATASET == 'JNU':    # size(1200, 5005)  , 12 classes\n",
        "  data = np.load('/content/JNU_dataset.npy')\n",
        "  labels = np.load('/content/JNU_labels.npy', allow_pickle=True)\n",
        "  real_labels = list(set(labels))     # Since it already comes with real fault-name, no need to code it manually\n",
        "  real_labels.sort()\n",
        "  fault_amount = 12\n",
        "  x = data[:, 0:4900]\n",
        "  _size = 70\n",
        "\n",
        "elif DATASET == 'BComp':  # size( 792, 6000)  , 10 classes\n",
        "  data = np.load('/content/BComp_dataset.npy')\n",
        "  labels = np.load('/content/BComp_labels.npy', allow_pickle=True)\n",
        "  real_labels = ['Normal', 'OR_1', 'IR_1', 'B_1', 'OR_2', 'IR_2', 'B_2', 'OR_3', 'IR_3', 'B_3']\n",
        "  fault_amount = 10\n",
        "  x = data[:, 0:5929]\n",
        "  _size = 77\n",
        "\n",
        "elif DATASET == 'CWRU2':  # size(4600, 1024)  , 10 classes\n",
        "  data = np.load('/content/CWRU_dataset.npy')\n",
        "  labels = np.load('/content/CWRU_labels.npy', allow_pickle=True, )\n",
        "  real_labels = list(set(labels))     # Since it already comes with real fault-name, no need to code it manually\n",
        "  real_labels.sort()\n",
        "  fault_amount = 10\n",
        "  x = data[:, 0:1024]\n",
        "  _size = 32"
      ]
    },
    {
      "cell_type": "markdown",
      "source": [
        "## Show the data and its amount"
      ],
      "metadata": {
        "id": "ZonwoRBZkjpy"
      }
    },
    {
      "cell_type": "code",
      "source": [
        "label_encoder = lambda i: real_labels[i]\n",
        "### Encode the labels (Mapping number to string)\n",
        "### to show the chart with real labels\n",
        "### Will reverse after this chart\n",
        "if DATASET != 'JNU' and DATASET != 'CWRU2':\n",
        "  k = []\n",
        "  for item in labels.astype('int'):\n",
        "    item = label_encoder(item)\n",
        "    k.append(item)\n",
        "  labels = np.array(k)"
      ],
      "metadata": {
        "id": "bDHKovbmgY_M"
      },
      "execution_count": 6,
      "outputs": []
    },
    {
      "cell_type": "code",
      "source": [
        "import seaborn as sns\n",
        "fig, ax = plt.subplots()\n",
        "fig = sns.histplot(data=labels, kde=False, stat='count', discrete=True, palette='coolwarm', multiple='stack', ax=ax)\n",
        "# fig = sns.histplot(data=labels, x=real_labels, kde=False, stat='count', discrete=True, palette='coolwarm', multiple='stack', ax=ax)\n",
        "# ax.set_xlim(0, 9)\n",
        "# ax.set_ylim(0, 300)\n",
        "ax.set_xlabel(\"Fault class\")\n",
        "ax.set_ylabel(\"Amount\")\n",
        "ax.set_title(f\"{DATASET}: amount-class\")\n",
        "for item in fig.get_xticklabels():\n",
        "  item.set_rotation(25)\n",
        "plt.show()"
      ],
      "metadata": {
        "colab": {
          "base_uri": "https://localhost:8080/",
          "height": 311
        },
        "id": "zvWipTIwPtJ1",
        "outputId": "39f4752c-e978-4bf6-c70c-8ffd7adbaed2"
      },
      "execution_count": 7,
      "outputs": [
        {
          "output_type": "display_data",
          "data": {
            "text/plain": [
              "<Figure size 432x288 with 1 Axes>"
            ],
            "image/png": "[encoded data removed]"
          },
          "metadata": {
            "needs_background": "light"
          }
        }
      ]
    },
    {
      "cell_type": "markdown",
      "source": [
        "## Encode the labels (Mapping string to number)"
      ],
      "metadata": {
        "id": "xZEw0PQvO9AK"
      }
    },
    {
      "cell_type": "code",
      "source": [
        "map_dict = {}\n",
        "i = 0\n",
        "k = []\n",
        "for item in labels:\n",
        "  if i > 0 and item in map_dict:\n",
        "    continue\n",
        "  else:    \n",
        "    map_dict[item] = i\n",
        "    i += 1\n",
        "  k.append(map_dict[item])\n",
        "labels = np.array(k)\n",
        "\n",
        "print(real_labels)\n",
        "print(labels[:20])"
      ],
      "metadata": {
        "id": "g0VSLXzwRcMx"
      },
      "execution_count": null,
      "outputs": []
    },
    {
      "cell_type": "code",
      "source": [
        "# map_dict = {}\n",
        "# i = 0\n",
        "# for item in labels:\n",
        "#   if i>0 and item in map_dict:\n",
        "#     continue\n",
        "#   else:    \n",
        "#     map_dict[item] = i\n",
        "#     i += 1\n",
        "\n",
        "# k = []\n",
        "# for item in labels:\n",
        "#   k.append(map_dict[item])\n",
        "# labels = np.array(k)\n",
        "\n",
        "# print(real_labels)\n",
        "# print(labels[:20])"
      ],
      "metadata": {
        "id": "Bhe_x6p3iJLs",
        "outputId": "0a0dc3ac-d26b-4b07-a3d0-50f4bffc7a52",
        "colab": {
          "base_uri": "https://localhost:8080/"
        }
      },
      "execution_count": 8,
      "outputs": [
        {
          "output_type": "stream",
          "name": "stdout",
          "text": [
            "['B1000', 'B600', 'B800', 'IR1000', 'IR600', 'IR800', 'N1000', 'N600', 'N800', 'OR1000', 'OR600', 'OR800']\n",
            "[0 0 0 0 0 0 0 0 0 0 0 0 0 0 0 0 0 0 0 0]\n"
          ]
        }
      ]
    },
    {
      "cell_type": "markdown",
      "source": [
        "## Make up the dataset"
      ],
      "metadata": {
        "id": "sb28qfOUSzSO"
      }
    },
    {
      "cell_type": "code",
      "execution_count": 9,
      "metadata": {
        "id": "Sg9bOVQjxvmq",
        "colab": {
          "base_uri": "https://localhost:8080/"
        },
        "outputId": "4f85774e-28c1-433d-939a-39057a7aa3fb"
      },
      "outputs": [
        {
          "output_type": "stream",
          "name": "stdout",
          "text": [
            "x_m:\t(1200, 70, 70)\n",
            "x_md:\t(1200, 70, 70)\n",
            "x_n:\t(1200, 70, 70)\n",
            "X:\t(1200, 3, 70, 70)\n"
          ]
        }
      ],
      "source": [
        "def mean(data, no_elements=10):\n",
        "  X = np.zeros((data.shape[0], data.shape[1]))\n",
        "  for i in range(data.shape[1] - no_elements + 1):\n",
        "    X[:, i] = np.mean(data[:, i:i+no_elements], axis=1)\n",
        "  return X.astype(np.float16)\n",
        "def median(data, no_elements=10):\n",
        "  X = np.zeros((data.shape[0], data.shape[1]))\n",
        "  for i in range(data.shape[1] - no_elements + 1):\n",
        "    X[:, i] = np.median(data[:, i:i+no_elements], axis=1)\n",
        "  return X.astype(np.float16)\n",
        "def sig_image(data, size):\n",
        "  X = np.zeros((data.shape[0], size, size))\n",
        "  for i in range(data.shape[0]):\n",
        "    X[i] = (data[i, :].reshape(size, size))\n",
        "  return X.astype(np.float16)\n",
        "\n",
        "### According to the Paper(FaultNet), the input is consist of three channels\n",
        "channel_mean = (mean(x, fault_amount)).astype(np.float16)\n",
        "x_m = sig_image(channel_mean, _size)\n",
        "print(f'x_m:\\t{x_m.shape}')\n",
        "channel_median = (median(x, fault_amount)).astype(np.float16)\n",
        "# x_md = sig_image(x, _size)\n",
        "x_md = sig_image(channel_median, _size)\n",
        "print(f'x_md:\\t{x_md.shape}')\n",
        "x_n = sig_image(x, _size)\n",
        "print(f'x_n:\\t{x_n.shape}')\n",
        "X = np.stack((x_n, x_m, x_md), axis=1).astype(np.float16)\n",
        "print(f'X:\\t{X.shape}')"
      ]
    },
    {
      "cell_type": "code",
      "execution_count": 10,
      "metadata": {
        "id": "JeVaeLp2xvmu"
      },
      "outputs": [],
      "source": [
        "from sklearn.model_selection import train_test_split\n",
        "trainx, testx, trainlabel, testlabel = train_test_split(X, labels, test_size=0.2, random_state=20)\n",
        "sig_train, sig_test = trainx, testx\n",
        "lab_train, lab_test = trainlabel, testlabel\n",
        "sig_train = torch.from_numpy(sig_train)\n",
        "sig_test = torch.from_numpy(sig_test)\n",
        "lab_train = torch.from_numpy(lab_train)\n",
        "lab_test = torch.from_numpy(lab_test)"
      ]
    },
    {
      "cell_type": "code",
      "execution_count": 11,
      "metadata": {
        "id": "Cz0q2g_8xvmv",
        "outputId": "0d027cd8-0b99-4caf-c684-84578fd47ffa",
        "colab": {
          "base_uri": "https://localhost:8080/"
        }
      },
      "outputs": [
        {
          "output_type": "stream",
          "name": "stdout",
          "text": [
            "Train set: torch.Size([960, 3, 70, 70])\n",
            "Test set:  torch.Size([240, 3, 70, 70])\n"
          ]
        }
      ],
      "source": [
        "print(f'Train set: {sig_train.size()}')\n",
        "print(f'Test set:  {sig_test.size()}')"
      ]
    },
    {
      "cell_type": "markdown",
      "source": [
        "### Data Loader for training/testing"
      ],
      "metadata": {
        "id": "q6dXIaTnTIfF"
      }
    },
    {
      "cell_type": "code",
      "execution_count": 12,
      "metadata": {
        "id": "A6-F4rt7xvmv"
      },
      "outputs": [],
      "source": [
        "import torch.utils.data as data_utils\n",
        "# batch_size = 128\n",
        "batch_size = 64\n",
        "train_tensor = data_utils.TensorDataset(sig_train, lab_train)\n",
        "train_loader = data_utils.DataLoader(dataset=train_tensor, batch_size=batch_size, shuffle=True)"
      ]
    },
    {
      "cell_type": "code",
      "execution_count": 13,
      "metadata": {
        "id": "iaVYScLHxvmv"
      },
      "outputs": [],
      "source": [
        "batch_size = 1024\n",
        "test_tensor = data_utils.TensorDataset(sig_test, lab_test)\n",
        "test_loader = data_utils.DataLoader(dataset=test_tensor, batch_size=batch_size, shuffle=False)"
      ]
    },
    {
      "cell_type": "markdown",
      "source": [
        "# `Model` AutoEncoder with Classifier"
      ],
      "metadata": {
        "id": "3JZEaF-TTUv7"
      }
    },
    {
      "cell_type": "code",
      "source": [
        "class AE_Classifier(nn.Module):\n",
        "  def __init__(self, n_embedded, input_size=_size, _dim=4):\n",
        "    super(AE_Classifier, self).__init__()\n",
        "    self.encoder = nn.Sequential(\n",
        "      nn.Linear(input_size, _dim*16),\n",
        "      nn.ReLU(),\n",
        "      nn.Linear(_dim*16, _dim*8),\n",
        "      nn.ReLU(),\n",
        "      nn.Linear(_dim*8, _dim*4),\n",
        "      nn.ReLU(),\n",
        "      nn.Linear(_dim*4, n_embedded),\n",
        "    )\n",
        "    self.decoder = nn.Sequential(\n",
        "      nn.Linear(n_embedded, _dim*4),\n",
        "      nn.ReLU(),\n",
        "      nn.Linear(_dim*4, _dim*8),\n",
        "      nn.ReLU(),\n",
        "      nn.Linear(_dim*8, _dim*16),\n",
        "      nn.ReLU(),\n",
        "      nn.Linear(_dim*16, input_size),\n",
        "    )\n",
        "    self.classifier = nn.Sequential(\n",
        "      nn.Linear(input_size*3*n_embedded, input_size*n_embedded),\n",
        "      nn.ReLU(),\n",
        "      nn.Dropout(0.2),\n",
        "      nn.Linear(input_size*n_embedded, input_size*n_embedded),\n",
        "      nn.ReLU(),\n",
        "      nn.Dropout(0.2),\n",
        "      nn.Linear(input_size*n_embedded, 3*n_embedded),\n",
        "      ###====== 分類器新增了BN，實驗顯示如此可使預測分數更穩定 ======###\n",
        "      nn.BatchNorm1d(num_features=3*n_embedded),\n",
        "      ###====== 分類器新增了BN，實驗顯示如此可使預測分數更穩定 ======###\n",
        "      # nn.ReLU(),\n",
        "      # nn.Dropout(0.2),\n",
        "      nn.Linear(3*n_embedded, len(real_labels)),\n",
        "      nn.LogSoftmax(dim=-1)\n",
        "    )\n",
        "    \n",
        "  def forward(self, x):\n",
        "    # batch_size = x.shape[0]\n",
        "    ### flatten\n",
        "    # x = x.reshape(batch_size, 17787)\n",
        "\n",
        "    # in_size = x.size(0)\n",
        "    # print(x.shape)\n",
        "    # print(\"this is in_size\", in_size)\n",
        "    # x = x.view(in_size, -1)\n",
        "    encoded = self.encoder(x)\n",
        "    decoded = self.decoder(encoded)\n",
        "    # print(encoded.shape)        #out#: torch.Size([128, 3, 77, 256])\n",
        "    encoded = encoded.view(encoded.size(0), -1)\n",
        "    # print(encoded.shape)        #out#: torch.Size([128, 59136])\n",
        "    clf_out = self.classifier(encoded)\n",
        "    # print(\"clf_out: \", clf_out.shape)   #clf_out#:  torch.Size([128, 3, 77, 10])\n",
        "    # clf_out = clf_out.view(clf_out.size(0), -1)\n",
        "    # print(\"clf_out: \", clf_out.shape)   #out#:  torch.Size([128, 2310])\n",
        "    return decoded, clf_out, encoded\n",
        "\n",
        "  # def forward(self, x):\n",
        "  #     in_size = x.size(0)\n",
        "  #     x = F.relu(self.mp1(self.conv1(x)))\n",
        "  #     x = F.relu(self.mp2(self.conv2(x)))\n",
        "  #     # print(x.shape)\n",
        "  #     x = x.view(in_size, -1) # CWRU\n",
        "  #     # x = x.view(-1, sig_train.size()[0]-64) # JNU\n",
        "  #     x = F.relu(self.fc1(x))\n",
        "  #     x = self.dp1(x)\n",
        "  #     x = self.fc2(x)\n",
        "      \n",
        "  #     return F.log_softmax(x, dim=1)\n",
        "\n",
        "# model = AE_Classifier(10, _dim=4)\n",
        "model = AE_Classifier(fault_amount, _dim=4)\n",
        "model.to(device)\n",
        "print(model)"
      ],
      "metadata": {
        "colab": {
          "base_uri": "https://localhost:8080/"
        },
        "id": "UQw6biDsUznt",
        "outputId": "1e95be25-e0d7-46d3-ea4b-9305ff158938"
      },
      "execution_count": 14,
      "outputs": [
        {
          "output_type": "stream",
          "name": "stdout",
          "text": [
            "AE_Classifier(\n",
            "  (encoder): Sequential(\n",
            "    (0): Linear(in_features=70, out_features=64, bias=True)\n",
            "    (1): ReLU()\n",
            "    (2): Linear(in_features=64, out_features=32, bias=True)\n",
            "    (3): ReLU()\n",
            "    (4): Linear(in_features=32, out_features=16, bias=True)\n",
            "    (5): ReLU()\n",
            "    (6): Linear(in_features=16, out_features=12, bias=True)\n",
            "  )\n",
            "  (decoder): Sequential(\n",
            "    (0): Linear(in_features=12, out_features=16, bias=True)\n",
            "    (1): ReLU()\n",
            "    (2): Linear(in_features=16, out_features=32, bias=True)\n",
            "    (3): ReLU()\n",
            "    (4): Linear(in_features=32, out_features=64, bias=True)\n",
            "    (5): ReLU()\n",
            "    (6): Linear(in_features=64, out_features=70, bias=True)\n",
            "  )\n",
            "  (classifier): Sequential(\n",
            "    (0): Linear(in_features=2520, out_features=840, bias=True)\n",
            "    (1): ReLU()\n",
            "    (2): Dropout(p=0.2, inplace=False)\n",
            "    (3): Linear(in_features=840, out_features=840, bias=True)\n",
            "    (4): ReLU()\n",
            "    (5): Dropout(p=0.2, inplace=False)\n",
            "    (6): Linear(in_features=840, out_features=36, bias=True)\n",
            "    (7): BatchNorm1d(36, eps=1e-05, momentum=0.1, affine=True, track_running_stats=True)\n",
            "    (8): Linear(in_features=36, out_features=12, bias=True)\n",
            "    (9): LogSoftmax(dim=-1)\n",
            "  )\n",
            ")\n"
          ]
        }
      ]
    },
    {
      "cell_type": "markdown",
      "source": [
        "## Details"
      ],
      "metadata": {
        "id": "u-_fIfdRTmgh"
      }
    },
    {
      "cell_type": "code",
      "source": [
        "from torchinfo import summary\n",
        "b_size = 128\n",
        "summary(model, input_size=(b_size, 3, _size, _size))   # e.g. (64, 3, 70, 70)"
      ],
      "metadata": {
        "colab": {
          "base_uri": "https://localhost:8080/"
        },
        "id": "NqxXPM3qmyY4",
        "outputId": "d15beed8-ff0c-4138-9695-7ed7799c51e8"
      },
      "execution_count": 15,
      "outputs": [
        {
          "output_type": "execute_result",
          "data": {
            "text/plain": [
              "==========================================================================================\n",
              "Layer (type:depth-idx)                   Output Shape              Param #\n",
              "==========================================================================================\n",
              "AE_Classifier                            [128, 3, 70, 70]          --\n",
              "├─Sequential: 1-1                        [128, 3, 70, 12]          --\n",
              "│    └─Linear: 2-1                       [128, 3, 70, 64]          4,544\n",
              "│    └─ReLU: 2-2                         [128, 3, 70, 64]          --\n",
              "│    └─Linear: 2-3                       [128, 3, 70, 32]          2,080\n",
              "│    └─ReLU: 2-4                         [128, 3, 70, 32]          --\n",
              "│    └─Linear: 2-5                       [128, 3, 70, 16]          528\n",
              "│    └─ReLU: 2-6                         [128, 3, 70, 16]          --\n",
              "│    └─Linear: 2-7                       [128, 3, 70, 12]          204\n",
              "├─Sequential: 1-2                        [128, 3, 70, 70]          --\n",
              "│    └─Linear: 2-8                       [128, 3, 70, 16]          208\n",
              "│    └─ReLU: 2-9                         [128, 3, 70, 16]          --\n",
              "│    └─Linear: 2-10                      [128, 3, 70, 32]          544\n",
              "│    └─ReLU: 2-11                        [128, 3, 70, 32]          --\n",
              "│    └─Linear: 2-12                      [128, 3, 70, 64]          2,112\n",
              "│    └─ReLU: 2-13                        [128, 3, 70, 64]          --\n",
              "│    └─Linear: 2-14                      [128, 3, 70, 70]          4,550\n",
              "├─Sequential: 1-3                        [128, 12]                 --\n",
              "│    └─Linear: 2-15                      [128, 840]                2,117,640\n",
              "│    └─ReLU: 2-16                        [128, 840]                --\n",
              "│    └─Dropout: 2-17                     [128, 840]                --\n",
              "│    └─Linear: 2-18                      [128, 840]                706,440\n",
              "│    └─ReLU: 2-19                        [128, 840]                --\n",
              "│    └─Dropout: 2-20                     [128, 840]                --\n",
              "│    └─Linear: 2-21                      [128, 36]                 30,276\n",
              "│    └─BatchNorm1d: 2-22                 [128, 36]                 72\n",
              "│    └─Linear: 2-23                      [128, 12]                 444\n",
              "│    └─LogSoftmax: 2-24                  [128, 12]                 --\n",
              "==========================================================================================\n",
              "Total params: 2,869,642\n",
              "Trainable params: 2,869,642\n",
              "Non-trainable params: 0\n",
              "Total mult-adds (M): 367.31\n",
              "==========================================================================================\n",
              "Input size (MB): 7.53\n",
              "Forward/backward pass size (MB): 67.61\n",
              "Params size (MB): 11.48\n",
              "Estimated Total Size (MB): 86.61\n",
              "=========================================================================================="
            ]
          },
          "metadata": {},
          "execution_count": 15
        }
      ]
    },
    {
      "cell_type": "markdown",
      "source": [
        "## Training "
      ],
      "metadata": {
        "id": "1ILLqiJVVZH_"
      }
    },
    {
      "cell_type": "code",
      "source": [
        "criterion_AE = nn.MSELoss()\n",
        "criterion_clf = nn.CrossEntropyLoss()\n",
        "# optimizer = Adam(model.parameters(), lr=0.001)\n",
        "optimizer = Adam(model.parameters(), lr=0.0005)\n",
        "if torch.cuda.is_available():\n",
        "  num_epochs = 100\n",
        "else:\n",
        "  num_epochs = 70\n",
        "\n",
        "total_step = len(train_loader)\n",
        "loss_list = []\n",
        "acc_list = []\n",
        "loss_list_AE = []\n",
        "loss_list_clf = []\n",
        "\n",
        "model.train()\n",
        "\n",
        "for epoch in range(num_epochs):\n",
        "  for i, (signals, labels) in enumerate(train_loader):\n",
        "    # Reset the model gradient\n",
        "    # model.zero_grad()\n",
        "    optimizer.zero_grad()\n",
        "    # Run the forward pass\n",
        "    signals = signals.to(device)\n",
        "    labels = labels.to(device)\n",
        "    # print(signals.shape)\n",
        "    decoded, clf_out, encoded = model(signals.float())   ##RuntimeError: expected scalar type Half but found Float\n",
        "    # decoded, clf_out = model(signals)\n",
        "    loss_AE = criterion_AE(decoded, signals.float())  ##RuntimeError: Found dtype Half but expected Float\n",
        "    # loss_clf = criterion_clf(clf_out, labels)\n",
        "    loss_clf = criterion_clf(clf_out, labels.long())  ##RuntimeError: Found dtype Half but expected Float\n",
        "    # loss_clf = criterion_clf(clf_out[:, -1, -1, :], labels.long())\n",
        "    # loss_clf = criterion_clf(clf_out[:, -1, -1, -1], labels.long())\n",
        "    loss = loss_AE + loss_clf\n",
        "    loss_list.append(loss.item())\n",
        "    loss_list_AE.append(loss_AE.item())\n",
        "    loss_list_clf.append(loss_clf.item())\n",
        "\n",
        "    # Backprop and perform Adam optimisation\n",
        "    loss.backward()\n",
        "    optimizer.step()\n",
        "    # Track the accuracy\n",
        "    total = labels.size(0)\n",
        "    _,  predicted = torch.max(clf_out.data, 1)\n",
        "    correct = (predicted == labels.long()).sum().item()\n",
        "    # correct = (predicted == signals.double()).sum().item()\n",
        "    acc_list.append(correct / total)\n",
        "\n",
        "    if (epoch+1)%5==0 or epoch==0:\n",
        "      print(f'Epoch [{epoch+1:2}/{num_epochs}], Step [{i+1:2}/{total_step}],  Loss: {loss.item():<7.2f}, '\n",
        "            f'Loss_AE: {loss_AE.item():<7.3f}, Loss_clf: {loss_clf.item():<7.3f}, Train Accuracy: {(correct/total)*100:>5.2f}%')\n",
        "\n",
        "  writer.add_scalar(\"MSELoss\", loss_AE.item(), epoch)\n",
        "  writer.add_scalar(\"CrossEntropyLoss\", loss_clf.item(), epoch)\n",
        "  writer.add_scalar(\"Accuracy\", (correct/total)*100, epoch)"
      ],
      "metadata": {
        "colab": {
          "base_uri": "https://localhost:8080/"
        },
        "id": "tLmg_eRGbXNN",
        "outputId": "6e626572-8bda-40e8-c22d-825b636af04d"
      },
      "execution_count": 16,
      "outputs": [
        {
          "output_type": "stream",
          "name": "stdout",
          "text": [
            "Epoch [ 1/100], Step [ 1/15],  Loss: 2.74   , Loss_AE: 0.065  , Loss_clf: 2.675  , Train Accuracy:  6.25%\n",
            "Epoch [ 1/100], Step [ 2/15],  Loss: 2.66   , Loss_AE: 0.067  , Loss_clf: 2.588  , Train Accuracy:  6.25%\n",
            "Epoch [ 1/100], Step [ 3/15],  Loss: 2.80   , Loss_AE: 0.057  , Loss_clf: 2.744  , Train Accuracy:  3.12%\n",
            "Epoch [ 1/100], Step [ 4/15],  Loss: 2.78   , Loss_AE: 0.064  , Loss_clf: 2.719  , Train Accuracy: 10.94%\n",
            "Epoch [ 1/100], Step [ 5/15],  Loss: 2.73   , Loss_AE: 0.060  , Loss_clf: 2.665  , Train Accuracy:  9.38%\n",
            "Epoch [ 1/100], Step [ 6/15],  Loss: 2.74   , Loss_AE: 0.076  , Loss_clf: 2.664  , Train Accuracy: 10.94%\n",
            "Epoch [ 1/100], Step [ 7/15],  Loss: 2.70   , Loss_AE: 0.062  , Loss_clf: 2.637  , Train Accuracy: 10.94%\n",
            "Epoch [ 1/100], Step [ 8/15],  Loss: 2.92   , Loss_AE: 0.062  , Loss_clf: 2.853  , Train Accuracy:  7.81%\n",
            "Epoch [ 1/100], Step [ 9/15],  Loss: 2.77   , Loss_AE: 0.058  , Loss_clf: 2.714  , Train Accuracy:  4.69%\n",
            "Epoch [ 1/100], Step [10/15],  Loss: 2.71   , Loss_AE: 0.074  , Loss_clf: 2.635  , Train Accuracy:  9.38%\n",
            "Epoch [ 1/100], Step [11/15],  Loss: 2.65   , Loss_AE: 0.051  , Loss_clf: 2.597  , Train Accuracy:  7.81%\n",
            "Epoch [ 1/100], Step [12/15],  Loss: 2.68   , Loss_AE: 0.066  , Loss_clf: 2.612  , Train Accuracy:  6.25%\n",
            "Epoch [ 1/100], Step [13/15],  Loss: 2.62   , Loss_AE: 0.055  , Loss_clf: 2.562  , Train Accuracy:  9.38%\n",
            "Epoch [ 1/100], Step [14/15],  Loss: 2.59   , Loss_AE: 0.055  , Loss_clf: 2.539  , Train Accuracy: 10.94%\n",
            "Epoch [ 1/100], Step [15/15],  Loss: 2.69   , Loss_AE: 0.077  , Loss_clf: 2.617  , Train Accuracy:  6.25%\n",
            "Epoch [ 5/100], Step [ 1/15],  Loss: 2.27   , Loss_AE: 0.058  , Loss_clf: 2.208  , Train Accuracy: 21.88%\n",
            "Epoch [ 5/100], Step [ 2/15],  Loss: 2.11   , Loss_AE: 0.058  , Loss_clf: 2.053  , Train Accuracy: 25.00%\n",
            "Epoch [ 5/100], Step [ 3/15],  Loss: 2.17   , Loss_AE: 0.062  , Loss_clf: 2.106  , Train Accuracy: 23.44%\n",
            "Epoch [ 5/100], Step [ 4/15],  Loss: 2.14   , Loss_AE: 0.061  , Loss_clf: 2.083  , Train Accuracy: 26.56%\n",
            "Epoch [ 5/100], Step [ 5/15],  Loss: 2.23   , Loss_AE: 0.057  , Loss_clf: 2.170  , Train Accuracy: 21.88%\n",
            "Epoch [ 5/100], Step [ 6/15],  Loss: 2.05   , Loss_AE: 0.066  , Loss_clf: 1.980  , Train Accuracy: 28.12%\n",
            "Epoch [ 5/100], Step [ 7/15],  Loss: 2.22   , Loss_AE: 0.067  , Loss_clf: 2.156  , Train Accuracy: 21.88%\n",
            "Epoch [ 5/100], Step [ 8/15],  Loss: 2.13   , Loss_AE: 0.054  , Loss_clf: 2.076  , Train Accuracy: 23.44%\n",
            "Epoch [ 5/100], Step [ 9/15],  Loss: 2.10   , Loss_AE: 0.071  , Loss_clf: 2.025  , Train Accuracy: 28.12%\n",
            "Epoch [ 5/100], Step [10/15],  Loss: 2.07   , Loss_AE: 0.055  , Loss_clf: 2.012  , Train Accuracy: 26.56%\n",
            "Epoch [ 5/100], Step [11/15],  Loss: 2.15   , Loss_AE: 0.041  , Loss_clf: 2.112  , Train Accuracy: 17.19%\n",
            "Epoch [ 5/100], Step [12/15],  Loss: 2.09   , Loss_AE: 0.053  , Loss_clf: 2.035  , Train Accuracy: 25.00%\n",
            "Epoch [ 5/100], Step [13/15],  Loss: 2.17   , Loss_AE: 0.057  , Loss_clf: 2.112  , Train Accuracy: 20.31%\n",
            "Epoch [ 5/100], Step [14/15],  Loss: 2.24   , Loss_AE: 0.059  , Loss_clf: 2.184  , Train Accuracy: 18.75%\n",
            "Epoch [ 5/100], Step [15/15],  Loss: 2.23   , Loss_AE: 0.055  , Loss_clf: 2.174  , Train Accuracy: 20.31%\n",
            "Epoch [10/100], Step [ 1/15],  Loss: 1.36   , Loss_AE: 0.065  , Loss_clf: 1.295  , Train Accuracy: 64.06%\n",
            "Epoch [10/100], Step [ 2/15],  Loss: 1.39   , Loss_AE: 0.055  , Loss_clf: 1.337  , Train Accuracy: 57.81%\n",
            "Epoch [10/100], Step [ 3/15],  Loss: 1.45   , Loss_AE: 0.059  , Loss_clf: 1.394  , Train Accuracy: 57.81%\n",
            "Epoch [10/100], Step [ 4/15],  Loss: 1.35   , Loss_AE: 0.055  , Loss_clf: 1.294  , Train Accuracy: 67.19%\n",
            "Epoch [10/100], Step [ 5/15],  Loss: 1.29   , Loss_AE: 0.059  , Loss_clf: 1.234  , Train Accuracy: 76.56%\n",
            "Epoch [10/100], Step [ 6/15],  Loss: 1.34   , Loss_AE: 0.063  , Loss_clf: 1.282  , Train Accuracy: 68.75%\n",
            "Epoch [10/100], Step [ 7/15],  Loss: 1.28   , Loss_AE: 0.057  , Loss_clf: 1.221  , Train Accuracy: 78.12%\n",
            "Epoch [10/100], Step [ 8/15],  Loss: 1.25   , Loss_AE: 0.049  , Loss_clf: 1.199  , Train Accuracy: 78.12%\n",
            "Epoch [10/100], Step [ 9/15],  Loss: 1.30   , Loss_AE: 0.045  , Loss_clf: 1.259  , Train Accuracy: 71.88%\n",
            "Epoch [10/100], Step [10/15],  Loss: 1.40   , Loss_AE: 0.049  , Loss_clf: 1.353  , Train Accuracy: 59.38%\n",
            "Epoch [10/100], Step [11/15],  Loss: 1.32   , Loss_AE: 0.064  , Loss_clf: 1.255  , Train Accuracy: 64.06%\n",
            "Epoch [10/100], Step [12/15],  Loss: 1.17   , Loss_AE: 0.054  , Loss_clf: 1.114  , Train Accuracy: 73.44%\n",
            "Epoch [10/100], Step [13/15],  Loss: 1.35   , Loss_AE: 0.066  , Loss_clf: 1.281  , Train Accuracy: 56.25%\n",
            "Epoch [10/100], Step [14/15],  Loss: 1.29   , Loss_AE: 0.068  , Loss_clf: 1.217  , Train Accuracy: 67.19%\n",
            "Epoch [10/100], Step [15/15],  Loss: 1.16   , Loss_AE: 0.055  , Loss_clf: 1.101  , Train Accuracy: 82.81%\n",
            "Epoch [15/100], Step [ 1/15],  Loss: 0.48   , Loss_AE: 0.058  , Loss_clf: 0.427  , Train Accuracy: 96.88%\n",
            "Epoch [15/100], Step [ 2/15],  Loss: 0.59   , Loss_AE: 0.046  , Loss_clf: 0.542  , Train Accuracy: 93.75%\n",
            "Epoch [15/100], Step [ 3/15],  Loss: 0.56   , Loss_AE: 0.044  , Loss_clf: 0.515  , Train Accuracy: 90.62%\n",
            "Epoch [15/100], Step [ 4/15],  Loss: 0.50   , Loss_AE: 0.052  , Loss_clf: 0.446  , Train Accuracy: 95.31%\n",
            "Epoch [15/100], Step [ 5/15],  Loss: 0.47   , Loss_AE: 0.054  , Loss_clf: 0.412  , Train Accuracy: 100.00%\n",
            "Epoch [15/100], Step [ 6/15],  Loss: 0.45   , Loss_AE: 0.070  , Loss_clf: 0.377  , Train Accuracy: 98.44%\n",
            "Epoch [15/100], Step [ 7/15],  Loss: 0.49   , Loss_AE: 0.053  , Loss_clf: 0.439  , Train Accuracy: 96.88%\n",
            "Epoch [15/100], Step [ 8/15],  Loss: 0.49   , Loss_AE: 0.042  , Loss_clf: 0.450  , Train Accuracy: 96.88%\n",
            "Epoch [15/100], Step [ 9/15],  Loss: 0.43   , Loss_AE: 0.057  , Loss_clf: 0.370  , Train Accuracy: 98.44%\n",
            "Epoch [15/100], Step [10/15],  Loss: 0.45   , Loss_AE: 0.059  , Loss_clf: 0.390  , Train Accuracy: 100.00%\n",
            "Epoch [15/100], Step [11/15],  Loss: 0.46   , Loss_AE: 0.055  , Loss_clf: 0.407  , Train Accuracy: 98.44%\n",
            "Epoch [15/100], Step [12/15],  Loss: 0.52   , Loss_AE: 0.063  , Loss_clf: 0.459  , Train Accuracy: 92.19%\n",
            "Epoch [15/100], Step [13/15],  Loss: 0.46   , Loss_AE: 0.065  , Loss_clf: 0.396  , Train Accuracy: 96.88%\n",
            "Epoch [15/100], Step [14/15],  Loss: 0.42   , Loss_AE: 0.059  , Loss_clf: 0.364  , Train Accuracy: 98.44%\n",
            "Epoch [15/100], Step [15/15],  Loss: 0.45   , Loss_AE: 0.052  , Loss_clf: 0.399  , Train Accuracy: 98.44%\n",
            "Epoch [20/100], Step [ 1/15],  Loss: 0.24   , Loss_AE: 0.054  , Loss_clf: 0.190  , Train Accuracy: 100.00%\n",
            "Epoch [20/100], Step [ 2/15],  Loss: 0.24   , Loss_AE: 0.054  , Loss_clf: 0.186  , Train Accuracy: 100.00%\n",
            "Epoch [20/100], Step [ 3/15],  Loss: 0.23   , Loss_AE: 0.058  , Loss_clf: 0.173  , Train Accuracy: 100.00%\n",
            "Epoch [20/100], Step [ 4/15],  Loss: 0.20   , Loss_AE: 0.051  , Loss_clf: 0.145  , Train Accuracy: 100.00%\n",
            "Epoch [20/100], Step [ 5/15],  Loss: 0.19   , Loss_AE: 0.049  , Loss_clf: 0.138  , Train Accuracy: 100.00%\n",
            "Epoch [20/100], Step [ 6/15],  Loss: 0.19   , Loss_AE: 0.049  , Loss_clf: 0.143  , Train Accuracy: 100.00%\n",
            "Epoch [20/100], Step [ 7/15],  Loss: 0.18   , Loss_AE: 0.042  , Loss_clf: 0.143  , Train Accuracy: 100.00%\n",
            "Epoch [20/100], Step [ 8/15],  Loss: 0.24   , Loss_AE: 0.056  , Loss_clf: 0.182  , Train Accuracy: 98.44%\n",
            "Epoch [20/100], Step [ 9/15],  Loss: 0.20   , Loss_AE: 0.046  , Loss_clf: 0.153  , Train Accuracy: 100.00%\n",
            "Epoch [20/100], Step [10/15],  Loss: 0.21   , Loss_AE: 0.050  , Loss_clf: 0.165  , Train Accuracy: 100.00%\n",
            "Epoch [20/100], Step [11/15],  Loss: 0.17   , Loss_AE: 0.051  , Loss_clf: 0.121  , Train Accuracy: 100.00%\n",
            "Epoch [20/100], Step [12/15],  Loss: 0.22   , Loss_AE: 0.055  , Loss_clf: 0.166  , Train Accuracy: 100.00%\n",
            "Epoch [20/100], Step [13/15],  Loss: 0.20   , Loss_AE: 0.059  , Loss_clf: 0.138  , Train Accuracy: 100.00%\n",
            "Epoch [20/100], Step [14/15],  Loss: 0.18   , Loss_AE: 0.057  , Loss_clf: 0.122  , Train Accuracy: 100.00%\n",
            "Epoch [20/100], Step [15/15],  Loss: 0.21   , Loss_AE: 0.059  , Loss_clf: 0.154  , Train Accuracy: 100.00%\n",
            "Epoch [25/100], Step [ 1/15],  Loss: 0.14   , Loss_AE: 0.056  , Loss_clf: 0.081  , Train Accuracy: 100.00%\n",
            "Epoch [25/100], Step [ 2/15],  Loss: 0.14   , Loss_AE: 0.056  , Loss_clf: 0.088  , Train Accuracy: 100.00%\n",
            "Epoch [25/100], Step [ 3/15],  Loss: 0.14   , Loss_AE: 0.056  , Loss_clf: 0.084  , Train Accuracy: 100.00%\n",
            "Epoch [25/100], Step [ 4/15],  Loss: 0.13   , Loss_AE: 0.042  , Loss_clf: 0.085  , Train Accuracy: 100.00%\n",
            "Epoch [25/100], Step [ 5/15],  Loss: 0.15   , Loss_AE: 0.040  , Loss_clf: 0.110  , Train Accuracy: 100.00%\n",
            "Epoch [25/100], Step [ 6/15],  Loss: 0.13   , Loss_AE: 0.045  , Loss_clf: 0.085  , Train Accuracy: 100.00%\n",
            "Epoch [25/100], Step [ 7/15],  Loss: 0.14   , Loss_AE: 0.049  , Loss_clf: 0.094  , Train Accuracy: 100.00%\n",
            "Epoch [25/100], Step [ 8/15],  Loss: 0.12   , Loss_AE: 0.044  , Loss_clf: 0.073  , Train Accuracy: 100.00%\n",
            "Epoch [25/100], Step [ 9/15],  Loss: 0.13   , Loss_AE: 0.049  , Loss_clf: 0.081  , Train Accuracy: 100.00%\n",
            "Epoch [25/100], Step [10/15],  Loss: 0.17   , Loss_AE: 0.059  , Loss_clf: 0.110  , Train Accuracy: 98.44%\n",
            "Epoch [25/100], Step [11/15],  Loss: 0.13   , Loss_AE: 0.045  , Loss_clf: 0.086  , Train Accuracy: 100.00%\n",
            "Epoch [25/100], Step [12/15],  Loss: 0.13   , Loss_AE: 0.051  , Loss_clf: 0.080  , Train Accuracy: 100.00%\n",
            "Epoch [25/100], Step [13/15],  Loss: 0.13   , Loss_AE: 0.052  , Loss_clf: 0.074  , Train Accuracy: 100.00%\n",
            "Epoch [25/100], Step [14/15],  Loss: 0.12   , Loss_AE: 0.050  , Loss_clf: 0.073  , Train Accuracy: 100.00%\n",
            "Epoch [25/100], Step [15/15],  Loss: 0.18   , Loss_AE: 0.070  , Loss_clf: 0.109  , Train Accuracy: 98.44%\n",
            "Epoch [30/100], Step [ 1/15],  Loss: 0.12   , Loss_AE: 0.052  , Loss_clf: 0.067  , Train Accuracy: 100.00%\n",
            "Epoch [30/100], Step [ 2/15],  Loss: 0.16   , Loss_AE: 0.051  , Loss_clf: 0.110  , Train Accuracy: 98.44%\n",
            "Epoch [30/100], Step [ 3/15],  Loss: 0.10   , Loss_AE: 0.056  , Loss_clf: 0.048  , Train Accuracy: 100.00%\n",
            "Epoch [30/100], Step [ 4/15],  Loss: 0.14   , Loss_AE: 0.051  , Loss_clf: 0.092  , Train Accuracy: 98.44%\n",
            "Epoch [30/100], Step [ 5/15],  Loss: 0.12   , Loss_AE: 0.056  , Loss_clf: 0.065  , Train Accuracy: 100.00%\n",
            "Epoch [30/100], Step [ 6/15],  Loss: 0.11   , Loss_AE: 0.043  , Loss_clf: 0.064  , Train Accuracy: 100.00%\n",
            "Epoch [30/100], Step [ 7/15],  Loss: 0.11   , Loss_AE: 0.045  , Loss_clf: 0.062  , Train Accuracy: 100.00%\n",
            "Epoch [30/100], Step [ 8/15],  Loss: 0.12   , Loss_AE: 0.056  , Loss_clf: 0.063  , Train Accuracy: 100.00%\n",
            "Epoch [30/100], Step [ 9/15],  Loss: 0.10   , Loss_AE: 0.038  , Loss_clf: 0.061  , Train Accuracy: 100.00%\n",
            "Epoch [30/100], Step [10/15],  Loss: 0.11   , Loss_AE: 0.048  , Loss_clf: 0.058  , Train Accuracy: 100.00%\n",
            "Epoch [30/100], Step [11/15],  Loss: 0.12   , Loss_AE: 0.056  , Loss_clf: 0.066  , Train Accuracy: 100.00%\n",
            "Epoch [30/100], Step [12/15],  Loss: 0.13   , Loss_AE: 0.060  , Loss_clf: 0.070  , Train Accuracy: 98.44%\n",
            "Epoch [30/100], Step [13/15],  Loss: 0.09   , Loss_AE: 0.042  , Loss_clf: 0.051  , Train Accuracy: 100.00%\n",
            "Epoch [30/100], Step [14/15],  Loss: 0.10   , Loss_AE: 0.047  , Loss_clf: 0.053  , Train Accuracy: 100.00%\n",
            "Epoch [30/100], Step [15/15],  Loss: 0.10   , Loss_AE: 0.044  , Loss_clf: 0.059  , Train Accuracy: 100.00%\n",
            "Epoch [35/100], Step [ 1/15],  Loss: 0.10   , Loss_AE: 0.060  , Loss_clf: 0.035  , Train Accuracy: 100.00%\n",
            "Epoch [35/100], Step [ 2/15],  Loss: 0.07   , Loss_AE: 0.040  , Loss_clf: 0.034  , Train Accuracy: 100.00%\n",
            "Epoch [35/100], Step [ 3/15],  Loss: 0.08   , Loss_AE: 0.047  , Loss_clf: 0.037  , Train Accuracy: 100.00%\n",
            "Epoch [35/100], Step [ 4/15],  Loss: 0.09   , Loss_AE: 0.051  , Loss_clf: 0.036  , Train Accuracy: 100.00%\n",
            "Epoch [35/100], Step [ 5/15],  Loss: 0.09   , Loss_AE: 0.059  , Loss_clf: 0.033  , Train Accuracy: 100.00%\n",
            "Epoch [35/100], Step [ 6/15],  Loss: 0.09   , Loss_AE: 0.049  , Loss_clf: 0.043  , Train Accuracy: 100.00%\n",
            "Epoch [35/100], Step [ 7/15],  Loss: 0.10   , Loss_AE: 0.057  , Loss_clf: 0.039  , Train Accuracy: 100.00%\n",
            "Epoch [35/100], Step [ 8/15],  Loss: 0.08   , Loss_AE: 0.041  , Loss_clf: 0.044  , Train Accuracy: 100.00%\n",
            "Epoch [35/100], Step [ 9/15],  Loss: 0.11   , Loss_AE: 0.049  , Loss_clf: 0.058  , Train Accuracy: 100.00%\n",
            "Epoch [35/100], Step [10/15],  Loss: 0.09   , Loss_AE: 0.056  , Loss_clf: 0.036  , Train Accuracy: 100.00%\n",
            "Epoch [35/100], Step [11/15],  Loss: 0.08   , Loss_AE: 0.043  , Loss_clf: 0.041  , Train Accuracy: 100.00%\n",
            "Epoch [35/100], Step [12/15],  Loss: 0.09   , Loss_AE: 0.044  , Loss_clf: 0.043  , Train Accuracy: 100.00%\n",
            "Epoch [35/100], Step [13/15],  Loss: 0.09   , Loss_AE: 0.050  , Loss_clf: 0.041  , Train Accuracy: 100.00%\n",
            "Epoch [35/100], Step [14/15],  Loss: 0.08   , Loss_AE: 0.044  , Loss_clf: 0.039  , Train Accuracy: 100.00%\n",
            "Epoch [35/100], Step [15/15],  Loss: 0.09   , Loss_AE: 0.044  , Loss_clf: 0.041  , Train Accuracy: 100.00%\n",
            "Epoch [40/100], Step [ 1/15],  Loss: 0.09   , Loss_AE: 0.057  , Loss_clf: 0.035  , Train Accuracy: 100.00%\n",
            "Epoch [40/100], Step [ 2/15],  Loss: 0.08   , Loss_AE: 0.045  , Loss_clf: 0.032  , Train Accuracy: 100.00%\n",
            "Epoch [40/100], Step [ 3/15],  Loss: 0.07   , Loss_AE: 0.045  , Loss_clf: 0.025  , Train Accuracy: 100.00%\n",
            "Epoch [40/100], Step [ 4/15],  Loss: 0.08   , Loss_AE: 0.053  , Loss_clf: 0.026  , Train Accuracy: 100.00%\n",
            "Epoch [40/100], Step [ 5/15],  Loss: 0.09   , Loss_AE: 0.053  , Loss_clf: 0.034  , Train Accuracy: 100.00%\n",
            "Epoch [40/100], Step [ 6/15],  Loss: 0.08   , Loss_AE: 0.058  , Loss_clf: 0.024  , Train Accuracy: 100.00%\n",
            "Epoch [40/100], Step [ 7/15],  Loss: 0.07   , Loss_AE: 0.042  , Loss_clf: 0.026  , Train Accuracy: 100.00%\n",
            "Epoch [40/100], Step [ 8/15],  Loss: 0.08   , Loss_AE: 0.047  , Loss_clf: 0.028  , Train Accuracy: 100.00%\n",
            "Epoch [40/100], Step [ 9/15],  Loss: 0.08   , Loss_AE: 0.048  , Loss_clf: 0.029  , Train Accuracy: 100.00%\n",
            "Epoch [40/100], Step [10/15],  Loss: 0.07   , Loss_AE: 0.044  , Loss_clf: 0.028  , Train Accuracy: 100.00%\n",
            "Epoch [40/100], Step [11/15],  Loss: 0.07   , Loss_AE: 0.041  , Loss_clf: 0.027  , Train Accuracy: 100.00%\n",
            "Epoch [40/100], Step [12/15],  Loss: 0.08   , Loss_AE: 0.051  , Loss_clf: 0.031  , Train Accuracy: 100.00%\n",
            "Epoch [40/100], Step [13/15],  Loss: 0.08   , Loss_AE: 0.049  , Loss_clf: 0.033  , Train Accuracy: 100.00%\n",
            "Epoch [40/100], Step [14/15],  Loss: 0.08   , Loss_AE: 0.045  , Loss_clf: 0.039  , Train Accuracy: 100.00%\n",
            "Epoch [40/100], Step [15/15],  Loss: 0.07   , Loss_AE: 0.047  , Loss_clf: 0.026  , Train Accuracy: 100.00%\n",
            "Epoch [45/100], Step [ 1/15],  Loss: 0.06   , Loss_AE: 0.043  , Loss_clf: 0.022  , Train Accuracy: 100.00%\n",
            "Epoch [45/100], Step [ 2/15],  Loss: 0.07   , Loss_AE: 0.049  , Loss_clf: 0.024  , Train Accuracy: 100.00%\n",
            "Epoch [45/100], Step [ 3/15],  Loss: 0.08   , Loss_AE: 0.053  , Loss_clf: 0.024  , Train Accuracy: 100.00%\n",
            "Epoch [45/100], Step [ 4/15],  Loss: 0.07   , Loss_AE: 0.046  , Loss_clf: 0.028  , Train Accuracy: 100.00%\n",
            "Epoch [45/100], Step [ 5/15],  Loss: 0.06   , Loss_AE: 0.041  , Loss_clf: 0.020  , Train Accuracy: 100.00%\n",
            "Epoch [45/100], Step [ 6/15],  Loss: 0.06   , Loss_AE: 0.042  , Loss_clf: 0.023  , Train Accuracy: 100.00%\n",
            "Epoch [45/100], Step [ 7/15],  Loss: 0.07   , Loss_AE: 0.042  , Loss_clf: 0.025  , Train Accuracy: 100.00%\n",
            "Epoch [45/100], Step [ 8/15],  Loss: 0.08   , Loss_AE: 0.057  , Loss_clf: 0.028  , Train Accuracy: 100.00%\n",
            "Epoch [45/100], Step [ 9/15],  Loss: 0.06   , Loss_AE: 0.043  , Loss_clf: 0.022  , Train Accuracy: 100.00%\n",
            "Epoch [45/100], Step [10/15],  Loss: 0.07   , Loss_AE: 0.051  , Loss_clf: 0.022  , Train Accuracy: 100.00%\n",
            "Epoch [45/100], Step [11/15],  Loss: 0.07   , Loss_AE: 0.048  , Loss_clf: 0.024  , Train Accuracy: 100.00%\n",
            "Epoch [45/100], Step [12/15],  Loss: 0.08   , Loss_AE: 0.052  , Loss_clf: 0.026  , Train Accuracy: 100.00%\n",
            "Epoch [45/100], Step [13/15],  Loss: 0.07   , Loss_AE: 0.051  , Loss_clf: 0.020  , Train Accuracy: 100.00%\n",
            "Epoch [45/100], Step [14/15],  Loss: 0.06   , Loss_AE: 0.041  , Loss_clf: 0.024  , Train Accuracy: 100.00%\n",
            "Epoch [45/100], Step [15/15],  Loss: 0.07   , Loss_AE: 0.051  , Loss_clf: 0.018  , Train Accuracy: 100.00%\n",
            "Epoch [50/100], Step [ 1/15],  Loss: 0.07   , Loss_AE: 0.052  , Loss_clf: 0.017  , Train Accuracy: 100.00%\n",
            "Epoch [50/100], Step [ 2/15],  Loss: 0.07   , Loss_AE: 0.046  , Loss_clf: 0.020  , Train Accuracy: 100.00%\n",
            "Epoch [50/100], Step [ 3/15],  Loss: 0.06   , Loss_AE: 0.044  , Loss_clf: 0.019  , Train Accuracy: 100.00%\n",
            "Epoch [50/100], Step [ 4/15],  Loss: 0.08   , Loss_AE: 0.059  , Loss_clf: 0.017  , Train Accuracy: 100.00%\n",
            "Epoch [50/100], Step [ 5/15],  Loss: 0.06   , Loss_AE: 0.044  , Loss_clf: 0.018  , Train Accuracy: 100.00%\n",
            "Epoch [50/100], Step [ 6/15],  Loss: 0.06   , Loss_AE: 0.041  , Loss_clf: 0.019  , Train Accuracy: 100.00%\n",
            "Epoch [50/100], Step [ 7/15],  Loss: 0.06   , Loss_AE: 0.036  , Loss_clf: 0.023  , Train Accuracy: 100.00%\n",
            "Epoch [50/100], Step [ 8/15],  Loss: 0.07   , Loss_AE: 0.053  , Loss_clf: 0.018  , Train Accuracy: 100.00%\n",
            "Epoch [50/100], Step [ 9/15],  Loss: 0.07   , Loss_AE: 0.045  , Loss_clf: 0.024  , Train Accuracy: 100.00%\n",
            "Epoch [50/100], Step [10/15],  Loss: 0.07   , Loss_AE: 0.050  , Loss_clf: 0.016  , Train Accuracy: 100.00%\n",
            "Epoch [50/100], Step [11/15],  Loss: 0.06   , Loss_AE: 0.044  , Loss_clf: 0.016  , Train Accuracy: 100.00%\n",
            "Epoch [50/100], Step [12/15],  Loss: 0.07   , Loss_AE: 0.048  , Loss_clf: 0.024  , Train Accuracy: 100.00%\n",
            "Epoch [50/100], Step [13/15],  Loss: 0.05   , Loss_AE: 0.034  , Loss_clf: 0.019  , Train Accuracy: 100.00%\n",
            "Epoch [50/100], Step [14/15],  Loss: 0.07   , Loss_AE: 0.047  , Loss_clf: 0.024  , Train Accuracy: 100.00%\n",
            "Epoch [50/100], Step [15/15],  Loss: 0.08   , Loss_AE: 0.054  , Loss_clf: 0.023  , Train Accuracy: 100.00%\n",
            "Epoch [55/100], Step [ 1/15],  Loss: 0.05   , Loss_AE: 0.038  , Loss_clf: 0.015  , Train Accuracy: 100.00%\n",
            "Epoch [55/100], Step [ 2/15],  Loss: 0.05   , Loss_AE: 0.040  , Loss_clf: 0.014  , Train Accuracy: 100.00%\n",
            "Epoch [55/100], Step [ 3/15],  Loss: 0.06   , Loss_AE: 0.044  , Loss_clf: 0.014  , Train Accuracy: 100.00%\n",
            "Epoch [55/100], Step [ 4/15],  Loss: 0.06   , Loss_AE: 0.047  , Loss_clf: 0.014  , Train Accuracy: 100.00%\n",
            "Epoch [55/100], Step [ 5/15],  Loss: 0.06   , Loss_AE: 0.045  , Loss_clf: 0.013  , Train Accuracy: 100.00%\n",
            "Epoch [55/100], Step [ 6/15],  Loss: 0.07   , Loss_AE: 0.053  , Loss_clf: 0.014  , Train Accuracy: 100.00%\n",
            "Epoch [55/100], Step [ 7/15],  Loss: 0.06   , Loss_AE: 0.044  , Loss_clf: 0.013  , Train Accuracy: 100.00%\n",
            "Epoch [55/100], Step [ 8/15],  Loss: 0.06   , Loss_AE: 0.049  , Loss_clf: 0.014  , Train Accuracy: 100.00%\n",
            "Epoch [55/100], Step [ 9/15],  Loss: 0.06   , Loss_AE: 0.045  , Loss_clf: 0.014  , Train Accuracy: 100.00%\n",
            "Epoch [55/100], Step [10/15],  Loss: 0.07   , Loss_AE: 0.053  , Loss_clf: 0.016  , Train Accuracy: 100.00%\n",
            "Epoch [55/100], Step [11/15],  Loss: 0.06   , Loss_AE: 0.049  , Loss_clf: 0.014  , Train Accuracy: 100.00%\n",
            "Epoch [55/100], Step [12/15],  Loss: 0.05   , Loss_AE: 0.042  , Loss_clf: 0.013  , Train Accuracy: 100.00%\n",
            "Epoch [55/100], Step [13/15],  Loss: 0.06   , Loss_AE: 0.047  , Loss_clf: 0.014  , Train Accuracy: 100.00%\n",
            "Epoch [55/100], Step [14/15],  Loss: 0.05   , Loss_AE: 0.041  , Loss_clf: 0.013  , Train Accuracy: 100.00%\n",
            "Epoch [55/100], Step [15/15],  Loss: 0.06   , Loss_AE: 0.043  , Loss_clf: 0.014  , Train Accuracy: 100.00%\n",
            "Epoch [60/100], Step [ 1/15],  Loss: 0.05   , Loss_AE: 0.037  , Loss_clf: 0.013  , Train Accuracy: 100.00%\n",
            "Epoch [60/100], Step [ 2/15],  Loss: 0.06   , Loss_AE: 0.048  , Loss_clf: 0.011  , Train Accuracy: 100.00%\n",
            "Epoch [60/100], Step [ 3/15],  Loss: 0.06   , Loss_AE: 0.046  , Loss_clf: 0.011  , Train Accuracy: 100.00%\n",
            "Epoch [60/100], Step [ 4/15],  Loss: 0.05   , Loss_AE: 0.037  , Loss_clf: 0.011  , Train Accuracy: 100.00%\n",
            "Epoch [60/100], Step [ 5/15],  Loss: 0.05   , Loss_AE: 0.040  , Loss_clf: 0.010  , Train Accuracy: 100.00%\n",
            "Epoch [60/100], Step [ 6/15],  Loss: 0.05   , Loss_AE: 0.034  , Loss_clf: 0.011  , Train Accuracy: 100.00%\n",
            "Epoch [60/100], Step [ 7/15],  Loss: 0.06   , Loss_AE: 0.048  , Loss_clf: 0.013  , Train Accuracy: 100.00%\n",
            "Epoch [60/100], Step [ 8/15],  Loss: 0.06   , Loss_AE: 0.052  , Loss_clf: 0.011  , Train Accuracy: 100.00%\n",
            "Epoch [60/100], Step [ 9/15],  Loss: 0.06   , Loss_AE: 0.047  , Loss_clf: 0.013  , Train Accuracy: 100.00%\n",
            "Epoch [60/100], Step [10/15],  Loss: 0.07   , Loss_AE: 0.054  , Loss_clf: 0.013  , Train Accuracy: 100.00%\n",
            "Epoch [60/100], Step [11/15],  Loss: 0.05   , Loss_AE: 0.041  , Loss_clf: 0.012  , Train Accuracy: 100.00%\n",
            "Epoch [60/100], Step [12/15],  Loss: 0.06   , Loss_AE: 0.051  , Loss_clf: 0.013  , Train Accuracy: 100.00%\n",
            "Epoch [60/100], Step [13/15],  Loss: 0.06   , Loss_AE: 0.047  , Loss_clf: 0.014  , Train Accuracy: 100.00%\n",
            "Epoch [60/100], Step [14/15],  Loss: 0.06   , Loss_AE: 0.043  , Loss_clf: 0.012  , Train Accuracy: 100.00%\n",
            "Epoch [60/100], Step [15/15],  Loss: 0.06   , Loss_AE: 0.047  , Loss_clf: 0.012  , Train Accuracy: 100.00%\n",
            "Epoch [65/100], Step [ 1/15],  Loss: 0.05   , Loss_AE: 0.040  , Loss_clf: 0.011  , Train Accuracy: 100.00%\n",
            "Epoch [65/100], Step [ 2/15],  Loss: 0.05   , Loss_AE: 0.043  , Loss_clf: 0.011  , Train Accuracy: 100.00%\n",
            "Epoch [65/100], Step [ 3/15],  Loss: 0.05   , Loss_AE: 0.038  , Loss_clf: 0.011  , Train Accuracy: 100.00%\n",
            "Epoch [65/100], Step [ 4/15],  Loss: 0.06   , Loss_AE: 0.046  , Loss_clf: 0.012  , Train Accuracy: 100.00%\n",
            "Epoch [65/100], Step [ 5/15],  Loss: 0.06   , Loss_AE: 0.048  , Loss_clf: 0.011  , Train Accuracy: 100.00%\n",
            "Epoch [65/100], Step [ 6/15],  Loss: 0.05   , Loss_AE: 0.041  , Loss_clf: 0.009  , Train Accuracy: 100.00%\n",
            "Epoch [65/100], Step [ 7/15],  Loss: 0.05   , Loss_AE: 0.039  , Loss_clf: 0.010  , Train Accuracy: 100.00%\n",
            "Epoch [65/100], Step [ 8/15],  Loss: 0.05   , Loss_AE: 0.038  , Loss_clf: 0.012  , Train Accuracy: 100.00%\n",
            "Epoch [65/100], Step [ 9/15],  Loss: 0.06   , Loss_AE: 0.045  , Loss_clf: 0.014  , Train Accuracy: 100.00%\n",
            "Epoch [65/100], Step [10/15],  Loss: 0.06   , Loss_AE: 0.049  , Loss_clf: 0.012  , Train Accuracy: 100.00%\n",
            "Epoch [65/100], Step [11/15],  Loss: 0.06   , Loss_AE: 0.050  , Loss_clf: 0.011  , Train Accuracy: 100.00%\n",
            "Epoch [65/100], Step [12/15],  Loss: 0.05   , Loss_AE: 0.042  , Loss_clf: 0.009  , Train Accuracy: 100.00%\n",
            "Epoch [65/100], Step [13/15],  Loss: 0.06   , Loss_AE: 0.048  , Loss_clf: 0.011  , Train Accuracy: 100.00%\n",
            "Epoch [65/100], Step [14/15],  Loss: 0.06   , Loss_AE: 0.050  , Loss_clf: 0.010  , Train Accuracy: 100.00%\n",
            "Epoch [65/100], Step [15/15],  Loss: 0.06   , Loss_AE: 0.047  , Loss_clf: 0.010  , Train Accuracy: 100.00%\n",
            "Epoch [70/100], Step [ 1/15],  Loss: 0.05   , Loss_AE: 0.038  , Loss_clf: 0.009  , Train Accuracy: 100.00%\n",
            "Epoch [70/100], Step [ 2/15],  Loss: 0.06   , Loss_AE: 0.051  , Loss_clf: 0.010  , Train Accuracy: 100.00%\n",
            "Epoch [70/100], Step [ 3/15],  Loss: 0.06   , Loss_AE: 0.055  , Loss_clf: 0.010  , Train Accuracy: 100.00%\n",
            "Epoch [70/100], Step [ 4/15],  Loss: 0.05   , Loss_AE: 0.044  , Loss_clf: 0.010  , Train Accuracy: 100.00%\n",
            "Epoch [70/100], Step [ 5/15],  Loss: 0.04   , Loss_AE: 0.036  , Loss_clf: 0.008  , Train Accuracy: 100.00%\n",
            "Epoch [70/100], Step [ 6/15],  Loss: 0.05   , Loss_AE: 0.047  , Loss_clf: 0.007  , Train Accuracy: 100.00%\n",
            "Epoch [70/100], Step [ 7/15],  Loss: 0.06   , Loss_AE: 0.050  , Loss_clf: 0.010  , Train Accuracy: 100.00%\n",
            "Epoch [70/100], Step [ 8/15],  Loss: 0.06   , Loss_AE: 0.043  , Loss_clf: 0.013  , Train Accuracy: 100.00%\n",
            "Epoch [70/100], Step [ 9/15],  Loss: 0.04   , Loss_AE: 0.032  , Loss_clf: 0.011  , Train Accuracy: 100.00%\n",
            "Epoch [70/100], Step [10/15],  Loss: 0.05   , Loss_AE: 0.037  , Loss_clf: 0.010  , Train Accuracy: 100.00%\n",
            "Epoch [70/100], Step [11/15],  Loss: 0.06   , Loss_AE: 0.047  , Loss_clf: 0.009  , Train Accuracy: 100.00%\n",
            "Epoch [70/100], Step [12/15],  Loss: 0.07   , Loss_AE: 0.055  , Loss_clf: 0.011  , Train Accuracy: 100.00%\n",
            "Epoch [70/100], Step [13/15],  Loss: 0.05   , Loss_AE: 0.044  , Loss_clf: 0.009  , Train Accuracy: 100.00%\n",
            "Epoch [70/100], Step [14/15],  Loss: 0.05   , Loss_AE: 0.039  , Loss_clf: 0.008  , Train Accuracy: 100.00%\n",
            "Epoch [70/100], Step [15/15],  Loss: 0.05   , Loss_AE: 0.043  , Loss_clf: 0.010  , Train Accuracy: 100.00%\n",
            "Epoch [75/100], Step [ 1/15],  Loss: 0.06   , Loss_AE: 0.051  , Loss_clf: 0.008  , Train Accuracy: 100.00%\n",
            "Epoch [75/100], Step [ 2/15],  Loss: 0.05   , Loss_AE: 0.038  , Loss_clf: 0.008  , Train Accuracy: 100.00%\n",
            "Epoch [75/100], Step [ 3/15],  Loss: 0.05   , Loss_AE: 0.042  , Loss_clf: 0.008  , Train Accuracy: 100.00%\n",
            "Epoch [75/100], Step [ 4/15],  Loss: 0.05   , Loss_AE: 0.047  , Loss_clf: 0.008  , Train Accuracy: 100.00%\n",
            "Epoch [75/100], Step [ 5/15],  Loss: 0.05   , Loss_AE: 0.043  , Loss_clf: 0.009  , Train Accuracy: 100.00%\n",
            "Epoch [75/100], Step [ 6/15],  Loss: 0.06   , Loss_AE: 0.049  , Loss_clf: 0.009  , Train Accuracy: 100.00%\n",
            "Epoch [75/100], Step [ 7/15],  Loss: 0.06   , Loss_AE: 0.053  , Loss_clf: 0.006  , Train Accuracy: 100.00%\n",
            "Epoch [75/100], Step [ 8/15],  Loss: 0.06   , Loss_AE: 0.047  , Loss_clf: 0.010  , Train Accuracy: 100.00%\n",
            "Epoch [75/100], Step [ 9/15],  Loss: 0.05   , Loss_AE: 0.045  , Loss_clf: 0.008  , Train Accuracy: 100.00%\n",
            "Epoch [75/100], Step [10/15],  Loss: 0.05   , Loss_AE: 0.036  , Loss_clf: 0.014  , Train Accuracy: 100.00%\n",
            "Epoch [75/100], Step [11/15],  Loss: 0.05   , Loss_AE: 0.044  , Loss_clf: 0.008  , Train Accuracy: 100.00%\n",
            "Epoch [75/100], Step [12/15],  Loss: 0.05   , Loss_AE: 0.040  , Loss_clf: 0.008  , Train Accuracy: 100.00%\n",
            "Epoch [75/100], Step [13/15],  Loss: 0.06   , Loss_AE: 0.046  , Loss_clf: 0.010  , Train Accuracy: 100.00%\n",
            "Epoch [75/100], Step [14/15],  Loss: 0.05   , Loss_AE: 0.043  , Loss_clf: 0.007  , Train Accuracy: 100.00%\n",
            "Epoch [75/100], Step [15/15],  Loss: 0.04   , Loss_AE: 0.035  , Loss_clf: 0.009  , Train Accuracy: 100.00%\n",
            "Epoch [80/100], Step [ 1/15],  Loss: 0.04   , Loss_AE: 0.037  , Loss_clf: 0.006  , Train Accuracy: 100.00%\n",
            "Epoch [80/100], Step [ 2/15],  Loss: 0.05   , Loss_AE: 0.044  , Loss_clf: 0.006  , Train Accuracy: 100.00%\n",
            "Epoch [80/100], Step [ 3/15],  Loss: 0.05   , Loss_AE: 0.043  , Loss_clf: 0.007  , Train Accuracy: 100.00%\n",
            "Epoch [80/100], Step [ 4/15],  Loss: 0.05   , Loss_AE: 0.042  , Loss_clf: 0.007  , Train Accuracy: 100.00%\n",
            "Epoch [80/100], Step [ 5/15],  Loss: 0.05   , Loss_AE: 0.039  , Loss_clf: 0.006  , Train Accuracy: 100.00%\n",
            "Epoch [80/100], Step [ 6/15],  Loss: 0.04   , Loss_AE: 0.034  , Loss_clf: 0.009  , Train Accuracy: 100.00%\n",
            "Epoch [80/100], Step [ 7/15],  Loss: 0.05   , Loss_AE: 0.043  , Loss_clf: 0.007  , Train Accuracy: 100.00%\n",
            "Epoch [80/100], Step [ 8/15],  Loss: 0.04   , Loss_AE: 0.034  , Loss_clf: 0.010  , Train Accuracy: 100.00%\n",
            "Epoch [80/100], Step [ 9/15],  Loss: 0.06   , Loss_AE: 0.054  , Loss_clf: 0.008  , Train Accuracy: 100.00%\n",
            "Epoch [80/100], Step [10/15],  Loss: 0.05   , Loss_AE: 0.043  , Loss_clf: 0.007  , Train Accuracy: 100.00%\n",
            "Epoch [80/100], Step [11/15],  Loss: 0.06   , Loss_AE: 0.051  , Loss_clf: 0.007  , Train Accuracy: 100.00%\n",
            "Epoch [80/100], Step [12/15],  Loss: 0.05   , Loss_AE: 0.041  , Loss_clf: 0.007  , Train Accuracy: 100.00%\n",
            "Epoch [80/100], Step [13/15],  Loss: 0.06   , Loss_AE: 0.053  , Loss_clf: 0.008  , Train Accuracy: 100.00%\n",
            "Epoch [80/100], Step [14/15],  Loss: 0.06   , Loss_AE: 0.050  , Loss_clf: 0.007  , Train Accuracy: 100.00%\n",
            "Epoch [80/100], Step [15/15],  Loss: 0.06   , Loss_AE: 0.048  , Loss_clf: 0.009  , Train Accuracy: 100.00%\n",
            "Epoch [85/100], Step [ 1/15],  Loss: 0.04   , Loss_AE: 0.037  , Loss_clf: 0.006  , Train Accuracy: 100.00%\n",
            "Epoch [85/100], Step [ 2/15],  Loss: 0.05   , Loss_AE: 0.048  , Loss_clf: 0.006  , Train Accuracy: 100.00%\n",
            "Epoch [85/100], Step [ 3/15],  Loss: 0.06   , Loss_AE: 0.055  , Loss_clf: 0.006  , Train Accuracy: 100.00%\n",
            "Epoch [85/100], Step [ 4/15],  Loss: 0.05   , Loss_AE: 0.038  , Loss_clf: 0.008  , Train Accuracy: 100.00%\n",
            "Epoch [85/100], Step [ 5/15],  Loss: 0.05   , Loss_AE: 0.041  , Loss_clf: 0.006  , Train Accuracy: 100.00%\n",
            "Epoch [85/100], Step [ 6/15],  Loss: 0.04   , Loss_AE: 0.035  , Loss_clf: 0.006  , Train Accuracy: 100.00%\n",
            "Epoch [85/100], Step [ 7/15],  Loss: 0.05   , Loss_AE: 0.040  , Loss_clf: 0.007  , Train Accuracy: 100.00%\n",
            "Epoch [85/100], Step [ 8/15],  Loss: 0.05   , Loss_AE: 0.044  , Loss_clf: 0.006  , Train Accuracy: 100.00%\n",
            "Epoch [85/100], Step [ 9/15],  Loss: 0.06   , Loss_AE: 0.051  , Loss_clf: 0.007  , Train Accuracy: 100.00%\n",
            "Epoch [85/100], Step [10/15],  Loss: 0.06   , Loss_AE: 0.053  , Loss_clf: 0.006  , Train Accuracy: 100.00%\n",
            "Epoch [85/100], Step [11/15],  Loss: 0.06   , Loss_AE: 0.049  , Loss_clf: 0.007  , Train Accuracy: 100.00%\n",
            "Epoch [85/100], Step [12/15],  Loss: 0.05   , Loss_AE: 0.040  , Loss_clf: 0.005  , Train Accuracy: 100.00%\n",
            "Epoch [85/100], Step [13/15],  Loss: 0.05   , Loss_AE: 0.044  , Loss_clf: 0.006  , Train Accuracy: 100.00%\n",
            "Epoch [85/100], Step [14/15],  Loss: 0.05   , Loss_AE: 0.039  , Loss_clf: 0.007  , Train Accuracy: 100.00%\n",
            "Epoch [85/100], Step [15/15],  Loss: 0.05   , Loss_AE: 0.039  , Loss_clf: 0.006  , Train Accuracy: 100.00%\n",
            "Epoch [90/100], Step [ 1/15],  Loss: 0.06   , Loss_AE: 0.054  , Loss_clf: 0.006  , Train Accuracy: 100.00%\n",
            "Epoch [90/100], Step [ 2/15],  Loss: 0.05   , Loss_AE: 0.041  , Loss_clf: 0.006  , Train Accuracy: 100.00%\n",
            "Epoch [90/100], Step [ 3/15],  Loss: 0.04   , Loss_AE: 0.036  , Loss_clf: 0.007  , Train Accuracy: 100.00%\n",
            "Epoch [90/100], Step [ 4/15],  Loss: 0.05   , Loss_AE: 0.048  , Loss_clf: 0.006  , Train Accuracy: 100.00%\n",
            "Epoch [90/100], Step [ 5/15],  Loss: 0.05   , Loss_AE: 0.044  , Loss_clf: 0.004  , Train Accuracy: 100.00%\n",
            "Epoch [90/100], Step [ 6/15],  Loss: 0.06   , Loss_AE: 0.051  , Loss_clf: 0.005  , Train Accuracy: 100.00%\n",
            "Epoch [90/100], Step [ 7/15],  Loss: 0.05   , Loss_AE: 0.042  , Loss_clf: 0.007  , Train Accuracy: 100.00%\n",
            "Epoch [90/100], Step [ 8/15],  Loss: 0.05   , Loss_AE: 0.045  , Loss_clf: 0.004  , Train Accuracy: 100.00%\n",
            "Epoch [90/100], Step [ 9/15],  Loss: 0.05   , Loss_AE: 0.043  , Loss_clf: 0.006  , Train Accuracy: 100.00%\n",
            "Epoch [90/100], Step [10/15],  Loss: 0.04   , Loss_AE: 0.038  , Loss_clf: 0.006  , Train Accuracy: 100.00%\n",
            "Epoch [90/100], Step [11/15],  Loss: 0.05   , Loss_AE: 0.046  , Loss_clf: 0.005  , Train Accuracy: 100.00%\n",
            "Epoch [90/100], Step [12/15],  Loss: 0.04   , Loss_AE: 0.035  , Loss_clf: 0.005  , Train Accuracy: 100.00%\n",
            "Epoch [90/100], Step [13/15],  Loss: 0.05   , Loss_AE: 0.048  , Loss_clf: 0.006  , Train Accuracy: 100.00%\n",
            "Epoch [90/100], Step [14/15],  Loss: 0.04   , Loss_AE: 0.039  , Loss_clf: 0.005  , Train Accuracy: 100.00%\n",
            "Epoch [90/100], Step [15/15],  Loss: 0.05   , Loss_AE: 0.042  , Loss_clf: 0.006  , Train Accuracy: 100.00%\n",
            "Epoch [95/100], Step [ 1/15],  Loss: 0.05   , Loss_AE: 0.044  , Loss_clf: 0.008  , Train Accuracy: 100.00%\n",
            "Epoch [95/100], Step [ 2/15],  Loss: 0.05   , Loss_AE: 0.044  , Loss_clf: 0.005  , Train Accuracy: 100.00%\n",
            "Epoch [95/100], Step [ 3/15],  Loss: 0.05   , Loss_AE: 0.049  , Loss_clf: 0.005  , Train Accuracy: 100.00%\n",
            "Epoch [95/100], Step [ 4/15],  Loss: 0.04   , Loss_AE: 0.031  , Loss_clf: 0.006  , Train Accuracy: 100.00%\n",
            "Epoch [95/100], Step [ 5/15],  Loss: 0.04   , Loss_AE: 0.037  , Loss_clf: 0.005  , Train Accuracy: 100.00%\n",
            "Epoch [95/100], Step [ 6/15],  Loss: 0.04   , Loss_AE: 0.039  , Loss_clf: 0.006  , Train Accuracy: 100.00%\n",
            "Epoch [95/100], Step [ 7/15],  Loss: 0.05   , Loss_AE: 0.046  , Loss_clf: 0.006  , Train Accuracy: 100.00%\n",
            "Epoch [95/100], Step [ 8/15],  Loss: 0.05   , Loss_AE: 0.045  , Loss_clf: 0.007  , Train Accuracy: 100.00%\n",
            "Epoch [95/100], Step [ 9/15],  Loss: 0.05   , Loss_AE: 0.043  , Loss_clf: 0.006  , Train Accuracy: 100.00%\n",
            "Epoch [95/100], Step [10/15],  Loss: 0.06   , Loss_AE: 0.047  , Loss_clf: 0.008  , Train Accuracy: 100.00%\n",
            "Epoch [95/100], Step [11/15],  Loss: 0.05   , Loss_AE: 0.048  , Loss_clf: 0.007  , Train Accuracy: 100.00%\n",
            "Epoch [95/100], Step [12/15],  Loss: 0.05   , Loss_AE: 0.043  , Loss_clf: 0.005  , Train Accuracy: 100.00%\n",
            "Epoch [95/100], Step [13/15],  Loss: 0.05   , Loss_AE: 0.048  , Loss_clf: 0.006  , Train Accuracy: 100.00%\n",
            "Epoch [95/100], Step [14/15],  Loss: 0.05   , Loss_AE: 0.042  , Loss_clf: 0.006  , Train Accuracy: 100.00%\n",
            "Epoch [95/100], Step [15/15],  Loss: 0.05   , Loss_AE: 0.042  , Loss_clf: 0.006  , Train Accuracy: 100.00%\n",
            "Epoch [100/100], Step [ 1/15],  Loss: 0.04   , Loss_AE: 0.036  , Loss_clf: 0.004  , Train Accuracy: 100.00%\n",
            "Epoch [100/100], Step [ 2/15],  Loss: 0.05   , Loss_AE: 0.046  , Loss_clf: 0.005  , Train Accuracy: 100.00%\n",
            "Epoch [100/100], Step [ 3/15],  Loss: 0.06   , Loss_AE: 0.051  , Loss_clf: 0.005  , Train Accuracy: 100.00%\n",
            "Epoch [100/100], Step [ 4/15],  Loss: 0.05   , Loss_AE: 0.048  , Loss_clf: 0.005  , Train Accuracy: 100.00%\n",
            "Epoch [100/100], Step [ 5/15],  Loss: 0.04   , Loss_AE: 0.036  , Loss_clf: 0.005  , Train Accuracy: 100.00%\n",
            "Epoch [100/100], Step [ 6/15],  Loss: 0.06   , Loss_AE: 0.051  , Loss_clf: 0.005  , Train Accuracy: 100.00%\n",
            "Epoch [100/100], Step [ 7/15],  Loss: 0.05   , Loss_AE: 0.041  , Loss_clf: 0.005  , Train Accuracy: 100.00%\n",
            "Epoch [100/100], Step [ 8/15],  Loss: 0.05   , Loss_AE: 0.050  , Loss_clf: 0.004  , Train Accuracy: 100.00%\n",
            "Epoch [100/100], Step [ 9/15],  Loss: 0.05   , Loss_AE: 0.045  , Loss_clf: 0.004  , Train Accuracy: 100.00%\n",
            "Epoch [100/100], Step [10/15],  Loss: 0.04   , Loss_AE: 0.037  , Loss_clf: 0.005  , Train Accuracy: 100.00%\n",
            "Epoch [100/100], Step [11/15],  Loss: 0.04   , Loss_AE: 0.038  , Loss_clf: 0.004  , Train Accuracy: 100.00%\n",
            "Epoch [100/100], Step [12/15],  Loss: 0.05   , Loss_AE: 0.047  , Loss_clf: 0.004  , Train Accuracy: 100.00%\n",
            "Epoch [100/100], Step [13/15],  Loss: 0.04   , Loss_AE: 0.037  , Loss_clf: 0.005  , Train Accuracy: 100.00%\n",
            "Epoch [100/100], Step [14/15],  Loss: 0.04   , Loss_AE: 0.039  , Loss_clf: 0.006  , Train Accuracy: 100.00%\n",
            "Epoch [100/100], Step [15/15],  Loss: 0.05   , Loss_AE: 0.043  , Loss_clf: 0.006  , Train Accuracy: 100.00%\n"
          ]
        }
      ]
    },
    {
      "cell_type": "code",
      "execution_count": 17,
      "metadata": {
        "id": "2INp-eAmxvmw"
      },
      "outputs": [],
      "source": [
        "# class CNN(nn.Module):\n",
        "#     def __init__(self):\n",
        "#         super(CNN, self).__init__()\n",
        "#         self.conv1 = nn.Conv2d(3, 32, kernel_size=4, stride=1, padding=1)\n",
        "#         self.mp1 = nn.MaxPool2d(kernel_size=4, stride=2)\n",
        "#         self.conv2 = nn.Conv2d(32, 64, kernel_size=4, stride=1)\n",
        "#         self.mp2 = nn.MaxPool2d(kernel_size=4, stride=2)\n",
        "#         if DATASET == 'CWRU':\n",
        "#           self.fc1= nn.Linear(2304, 256)\n",
        "#         elif DATASET == 'JNU':\n",
        "#           self.fc1= nn.Linear(64*14*14, 256)\n",
        "#         elif DATASET == 'BComp':\n",
        "#           self.fc1= nn.Linear(64*16*16, 256)\n",
        "#         elif DATASET == 'CWRU2':\n",
        "#           self.fc1= nn.Linear(64*4*4, 256)\n",
        "#         self.dp1 = nn.Dropout(p=0.2)\n",
        "#         self.fc2 = nn.Linear(256, len(real_labels))\n",
        "\n",
        "#     def forward(self, x):\n",
        "#         in_size = x.size(0)\n",
        "#         x = F.relu(self.mp1(self.conv1(x)))\n",
        "#         x = F.relu(self.mp2(self.conv2(x)))\n",
        "#         # print(x.shape)\n",
        "#         x = x.view(in_size, -1) # CWRU\n",
        "#         # x = x.view(-1, sig_train.size()[0]-64) # JNU\n",
        "#         x = F.relu(self.fc1(x))\n",
        "#         x = self.dp1(x)\n",
        "#         x = self.fc2(x)\n",
        "        \n",
        "#         return F.log_softmax(x, dim=1)\n",
        "\n",
        "# model = CNN().double()\n",
        "# model.to(device)\n",
        "# print(model)"
      ]
    },
    {
      "cell_type": "code",
      "execution_count": 18,
      "metadata": {
        "id": "VtlltSQ9xvmw"
      },
      "outputs": [],
      "source": [
        "# criterion = nn.CrossEntropyLoss()\n",
        "# optimizer = torch.optim.Adam(model.parameters(), lr=0.001)\n",
        "# # num_epochs = 100\n",
        "# num_epochs = 50\n",
        "# total_step = len(train_loader)\n",
        "# loss_list = []\n",
        "# acc_list = []\n",
        "# for epoch in range(num_epochs):\n",
        "#     for i, (signals, labels) in enumerate(train_loader):\n",
        "#         optimizer.zero_grad()\n",
        "#         # Run the forward pass\n",
        "#         signals = signals.to(device)\n",
        "#         labels = labels.to(device)\n",
        "#         outputs = model(signals.double())\n",
        "#         loss = criterion(outputs, labels.long())\n",
        "#         # loss = criterion(outputs, signals.double())\n",
        "        \n",
        "#         loss_list.append(loss.item())\n",
        "\n",
        "#         # Backprop and perform Adam optimisation\n",
        "        \n",
        "#         loss.backward()\n",
        "#         optimizer.step()\n",
        "#         # Track the accuracy\n",
        "#         total = labels.size(0)\n",
        "#         # total = signals.size(0)\n",
        "#         _,  predicted = torch.max(outputs.data, 1)\n",
        "#         correct = (predicted == labels.long()).sum().item()\n",
        "#         # correct = (predicted == signals.double()).sum().item()\n",
        "#         acc_list.append(correct / total)\n",
        "\n",
        "#         if (epoch+1) % 5 == 0 or epoch==0:\n",
        "#             print('Epoch [{}/{}],  Step [{}/{}],  Loss: {:.4f},  Train Accuracy: {:.2f}%'\n",
        "#                   .format(epoch + 1,  num_epochs,  i + 1,  total_step,  loss.item(), \n",
        "#                           (correct / total) * 100))\n",
        "        "
      ]
    },
    {
      "cell_type": "markdown",
      "source": [
        "### Loss and Accuracy\n",
        "(Loss = MSE loss + CrossEntropy loss)"
      ],
      "metadata": {
        "id": "sM1d-SgBUPqw"
      }
    },
    {
      "cell_type": "code",
      "source": [
        "sns.set_theme(style=\"darkgrid\", font_scale=1.1)\n",
        "fig, ax = plt.subplots(2, 1, figsize=(8, 6))\n",
        "fig.tight_layout()\n",
        "sns.lineplot(data=acc_list, ax=ax[0])\n",
        "\n",
        "ax[0].set_ylabel(\"Accuracy\")\n",
        "ax[0].set_title(f\"{DATASET}: Steps-Accuracy\")\n",
        "sns.lineplot(data=loss_list, ax=ax[1])\n",
        "ax[1].set_xlabel(\"Steps\")\n",
        "ax[1].set_ylabel(\"Loss\")\n",
        "ax[1].set_title(f\"{DATASET}: Steps-Loss\")\n",
        "plt.show()"
      ],
      "metadata": {
        "colab": {
          "base_uri": "https://localhost:8080/",
          "height": 462
        },
        "id": "8aOQIoV2gr95",
        "outputId": "143d24df-557a-4819-b381-8cb036cb4e20"
      },
      "execution_count": 19,
      "outputs": [
        {
          "output_type": "display_data",
          "data": {
            "text/plain": [
              "<Figure size 576x432 with 2 Axes>"
            ],
            "image/png": "[encoded data removed]"
          },
          "metadata": {}
        }
      ]
    },
    {
      "cell_type": "markdown",
      "source": [
        "### MSE and Cross-Entropy"
      ],
      "metadata": {
        "id": "49VfMMsWUVs8"
      }
    },
    {
      "cell_type": "code",
      "source": [
        "sns.set_theme(style=\"darkgrid\", font_scale=1.1)\n",
        "fig, ax = plt.subplots(2, 1, figsize=(8, 6))\n",
        "fig.tight_layout()\n",
        "sns.lineplot(data=loss_list_AE, ax=ax[0])\n",
        "\n",
        "ax[0].set_ylabel(\"MSE Loss\")\n",
        "ax[0].set_title(f\"{DATASET}: Steps-Reconstructed Loss\")\n",
        "sns.lineplot(data=loss_list_clf, ax=ax[1])\n",
        "ax[1].set_xlabel(\"Steps\")\n",
        "ax[1].set_ylabel(\"Cross-Entropy Loss\")\n",
        "ax[1].set_title(f\"{DATASET}: Steps-Classified Loss\")\n",
        "plt.show()"
      ],
      "metadata": {
        "colab": {
          "base_uri": "https://localhost:8080/",
          "height": 462
        },
        "id": "DDrMncrR0c2-",
        "outputId": "8e525f8a-671a-4899-c5ea-6df0fe17ced9"
      },
      "execution_count": 20,
      "outputs": [
        {
          "output_type": "display_data",
          "data": {
            "text/plain": [
              "<Figure size 576x432 with 2 Axes>"
            ],
            "image/png": "[encoded data removed]"
          },
          "metadata": {}
        }
      ]
    },
    {
      "cell_type": "markdown",
      "source": [
        "## Testing"
      ],
      "metadata": {
        "id": "4xrLwKDuWLqM"
      }
    },
    {
      "cell_type": "code",
      "execution_count": 21,
      "metadata": {
        "id": "czG73B27xvmx",
        "outputId": "92fd8b91-f9c9-4cdc-f5a3-3c56f7dd3129",
        "colab": {
          "base_uri": "https://localhost:8080/"
        }
      },
      "outputs": [
        {
          "output_type": "stream",
          "name": "stdout",
          "text": [
            "Loss: 0.3574, Loss_AE: 0.0416,Loss_clf: 0.3158, Test Accuracy: 91.667%\n"
          ]
        }
      ],
      "source": [
        "total_step = len(test_loader)\n",
        "loss_list_test = []\n",
        "acc_list_test = []\n",
        "loss_list_AE_test = []\n",
        "loss_list_clf_test = []\n",
        "model.eval()\n",
        "with torch.no_grad():\n",
        "  for i,  (signals,  labels) in enumerate(test_loader):\n",
        "    # Run the forward pass\n",
        "    signals = signals.to(device)\n",
        "    labels = labels.to(device)\n",
        "    decoded, clf_out, encoded = model(signals.float())     ## for AE-clf\n",
        "    loss_AE_test = criterion_AE(decoded, signals.float())\n",
        "    loss_clf_test = criterion_clf(clf_out, labels.long())\n",
        "    loss_test = loss_AE_test + loss_clf_test\n",
        "    loss_list_test.append(loss_test.item())\n",
        "    loss_list_AE_test.append(loss_AE_test.item())\n",
        "    loss_list_clf_test.append(loss_clf_test.item())\n",
        "\n",
        "    total = labels.size(0)\n",
        "    _,  predicted = torch.max(clf_out.data, 1)\n",
        "    correct = (predicted == labels.long()).sum().item()\n",
        "    acc_list_test.append(correct / total)\n",
        "    \n",
        "    if (epoch) % 1 == 0:\n",
        "      print(f'Loss: {loss_test.item():.4f}, Loss_AE: {loss_AE_test.item():.4f},'\n",
        "            f'Loss_clf: {loss_clf_test.item():.4f}, Test Accuracy: {acc_list_test[-1]*100:.3f}%')\n",
        "\n",
        "# Re-encode the labels (Mapping number to string)\n",
        "k = []\n",
        "for item in labels.cpu():\n",
        "  item = label_encoder(item)\n",
        "  k.append(item)\n",
        "labels_str = np.array(k)\n",
        "\n",
        "out = torch.cat((encoded.data, torch.ones(len(encoded), 1).to(device)), 1)\n",
        "# need 3 dimension for tensor to visualize it!\n",
        "writer.add_embedding(out, \n",
        "                    metadata = labels_str,\n",
        "                    label_img = signals.data,\n",
        "                    # label_img=decoded.data,\n",
        "                    tag = f'{DATASET}_{acc_list_test[-1]*100:.3f}',\n",
        "                    # global_step=2,\n",
        "                    )\n",
        "writer.close()"
      ]
    },
    {
      "cell_type": "markdown",
      "source": [
        "## Confusion Matrix"
      ],
      "metadata": {
        "id": "MdWjxDqFFjNG"
      }
    },
    {
      "cell_type": "code",
      "source": [
        "from sklearn.metrics import confusion_matrix, ConfusionMatrixDisplay\n",
        "cm = confusion_matrix(labels.cpu(), predicted.cpu())\n",
        "disp = ConfusionMatrixDisplay(confusion_matrix=cm, display_labels=real_labels)\n",
        "fig, ax = plt.subplots(figsize=(10, 10))\n",
        "plt.title(f'{DATASET}: Confusion Matrix\\nTest Accuracy: {acc_list_test[-1]*100:.3f}%', fontsize=25, pad=10)\n",
        "disp.plot(xticks_rotation='vertical', ax=ax)"
      ],
      "metadata": {
        "colab": {
          "base_uri": "https://localhost:8080/",
          "height": 627
        },
        "id": "7GgRX3hbiF4v",
        "outputId": "4a7e357c-f029-40fa-80a8-645d6fa73529"
      },
      "execution_count": 22,
      "outputs": [
        {
          "output_type": "execute_result",
          "data": {
            "text/plain": [
              "<sklearn.metrics._plot.confusion_matrix.ConfusionMatrixDisplay at 0x7ff46e02d410>"
            ]
          },
          "metadata": {},
          "execution_count": 22
        },
        {
          "output_type": "display_data",
          "data": {
            "text/plain": [
              "<Figure size 720x720 with 2 Axes>"
            ],
            "image/png": "[encoded data removed]"
          },
          "metadata": {}
        }
      ]
    },
    {
      "cell_type": "markdown",
      "source": [
        "## Save the model"
      ],
      "metadata": {
        "id": "1xTdoajlSrmO"
      }
    },
    {
      "cell_type": "code",
      "source": [
        "### Save the model as .pth\n",
        "torch.save(model, f'{DATASET}_{(correct/total)*100:.3f}.pth')\n",
        "### Store the confusion matrix as image to tensorboard\n",
        "writer.add_figure(f'{DATASET}', fig)\n",
        "### Store the model as graph to tensorboard\n",
        "writer.add_graph(model, torch.randn(1, 3, _size, _size).to(device), verbose=False)\n",
        "writer.close()"
      ],
      "metadata": {
        "id": "PC7XIjzVoxYW"
      },
      "execution_count": 23,
      "outputs": []
    },
    {
      "cell_type": "markdown",
      "source": [
        "### Show the graph of the model"
      ],
      "metadata": {
        "id": "ofwPtotbEtq-"
      }
    },
    {
      "cell_type": "code",
      "source": [
        "from torchviz import make_dot\n",
        "model.cpu()\n",
        "y = model(torch.randn(1, 3, _size, _size))\n",
        "### save graph image\n",
        "# make_dot(y, params=dict(list(model.named_parameters()))).render(\"AE_torchviz\", format=\"png\")\n",
        "### plot graph\n",
        "# make_dot(y, show_attrs=False, params=dict(list(model.named_parameters())))\n",
        "### show attribute\n",
        "# make_dot(y, show_attrs=True, params=dict(list(model.named_parameters())))"
      ],
      "metadata": {
        "id": "noaKMT5hDvcV"
      },
      "execution_count": 24,
      "outputs": []
    },
    {
      "cell_type": "markdown",
      "source": [
        "### Convert model (.pth) to ONNX\n",
        "then use [Netron](https://netron.app/) to show the graph"
      ],
      "metadata": {
        "id": "bbuqmmks-dn1"
      }
    },
    {
      "cell_type": "code",
      "source": [
        "model.eval()\n",
        "input_names = [f'{DATASET}_bearing_signals']\n",
        "output_names = ['output_names']\n",
        "y = torch.randn(1, 3, _size, _size, requires_grad=True)\n",
        "torch.onnx.export(model, y, f'AE_{DATASET}.onnx', export_params=False,\n",
        "                  opset_version=10,\n",
        "                  input_names=input_names,\n",
        "                  output_names=output_names,\n",
        "                  do_constant_folding=True,\n",
        "                  dynamic_axes={input_names[-1]:{0:\"batch_size\"},\n",
        "                                output_names[-1]:{0:\"batch_size\"}}\n",
        "                  )"
      ],
      "metadata": {
        "id": "_edscUFsvIqc"
      },
      "execution_count": 25,
      "outputs": []
    },
    {
      "cell_type": "markdown",
      "source": [
        "## TensorBoard"
      ],
      "metadata": {
        "id": "EQXFDXH42IsX"
      }
    },
    {
      "cell_type": "code",
      "source": [
        "#======= If TensorBoard isn't working properly, try the following tricks. =======#\n",
        "### Kill the tensorboard and start it again. It should work in colab or ubuntu.\n",
        "# !kill <tensorboard's pid>\n",
        "### (Optional) Flush the writer\n",
        "# writer.flush()\n",
        "### (Optional) Reload tensorboard\n",
        "# %reload_ext tensorboard"
      ],
      "metadata": {
        "id": "c1o8DGYBspmH"
      },
      "execution_count": 26,
      "outputs": []
    },
    {
      "cell_type": "code",
      "source": [
        "### Start the tensorboard. The default port is 6006.\n",
        "# %tensorboard --logdir /content/logsdir/ --reload_task auto"
      ],
      "metadata": {
        "id": "08qSceUq2HXE"
      },
      "execution_count": 27,
      "outputs": []
    }
  ],
  "metadata": {
    "kernelspec": {
      "display_name": "Python 3",
      "language": "python",
      "name": "python3"
    },
    "language_info": {
      "codemirror_mode": {
        "name": "ipython",
        "version": 3
      },
      "file_extension": ".py",
      "mimetype": "text/x-python",
      "name": "python",
      "nbconvert_exporter": "python",
      "pygments_lexer": "ipython3",
      "version": "3.7.4"
    },
    "colab": {
      "name": "[AE-Clf]Bearing classification.ipynb",
      "provenance": [],
      "collapsed_sections": [],
      "toc_visible": true,
      "include_colab_link": true
    },
    "accelerator": "GPU",
    "gpuClass": "standard"
  },
  "nbformat": 4,
  "nbformat_minor": 0
}